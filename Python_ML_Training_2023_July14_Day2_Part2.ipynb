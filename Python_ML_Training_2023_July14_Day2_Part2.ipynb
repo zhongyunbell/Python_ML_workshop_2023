{
 "cells": [
  {
   "cell_type": "markdown",
   "id": "6fba7f1f",
   "metadata": {},
   "source": [
    "## Pandas and conditional statement"
   ]
  },
  {
   "cell_type": "code",
   "execution_count": 1,
   "id": "166e66c8",
   "metadata": {},
   "outputs": [],
   "source": [
    "import pandas as pd\n",
    "import numpy as np"
   ]
  },
  {
   "cell_type": "code",
   "execution_count": 6,
   "id": "8f949117",
   "metadata": {},
   "outputs": [],
   "source": [
    "store1 = pd.DataFrame()\n",
    "store1[\"Product1\"] = [\"Mac\", \"Ipad\", \"Iphone\", \"IWatch\", \"TV\"]\n",
    "store1[\"Price1\"] = [2000, 800, 700, 500, 300]"
   ]
  },
  {
   "cell_type": "code",
   "execution_count": 7,
   "id": "798a5455",
   "metadata": {},
   "outputs": [],
   "source": [
    "store2 = pd.DataFrame()\n",
    "store2[\"Product2\"] = [\"Mac\", \"Ipad\", \"Iphone\", \"IWatch\", \"TV\"]\n",
    "store2[\"Price2\"] = [1900, 750, 650, 500, 300]"
   ]
  },
  {
   "cell_type": "code",
   "execution_count": 4,
   "id": "d78b018b",
   "metadata": {},
   "outputs": [
    {
     "data": {
      "text/plain": [
       "<function numpy.where>"
      ]
     },
     "execution_count": 4,
     "metadata": {},
     "output_type": "execute_result"
    }
   ],
   "source": [
    "np.where"
   ]
  },
  {
   "cell_type": "code",
   "execution_count": 8,
   "id": "9b56dcf1",
   "metadata": {},
   "outputs": [
    {
     "data": {
      "text/plain": [
       "array([False, False, False,  True,  True])"
      ]
     },
     "execution_count": 8,
     "metadata": {},
     "output_type": "execute_result"
    }
   ],
   "source": [
    "np.where(store1[\"Price1\"]==store2[\"Price2\"], True, False)"
   ]
  },
  {
   "cell_type": "code",
   "execution_count": 10,
   "id": "e21262d1",
   "metadata": {},
   "outputs": [],
   "source": [
    "store1['Same'] = np.where(store1[\"Price1\"]==store2[\"Price2\"], True, False)"
   ]
  },
  {
   "cell_type": "code",
   "execution_count": 11,
   "id": "6cdf5050",
   "metadata": {},
   "outputs": [
    {
     "data": {
      "text/html": [
       "<div>\n",
       "<style scoped>\n",
       "    .dataframe tbody tr th:only-of-type {\n",
       "        vertical-align: middle;\n",
       "    }\n",
       "\n",
       "    .dataframe tbody tr th {\n",
       "        vertical-align: top;\n",
       "    }\n",
       "\n",
       "    .dataframe thead th {\n",
       "        text-align: right;\n",
       "    }\n",
       "</style>\n",
       "<table border=\"1\" class=\"dataframe\">\n",
       "  <thead>\n",
       "    <tr style=\"text-align: right;\">\n",
       "      <th></th>\n",
       "      <th>Product1</th>\n",
       "      <th>Price1</th>\n",
       "      <th>Same</th>\n",
       "    </tr>\n",
       "  </thead>\n",
       "  <tbody>\n",
       "    <tr>\n",
       "      <th>0</th>\n",
       "      <td>Mac</td>\n",
       "      <td>2000</td>\n",
       "      <td>False</td>\n",
       "    </tr>\n",
       "    <tr>\n",
       "      <th>1</th>\n",
       "      <td>Ipad</td>\n",
       "      <td>800</td>\n",
       "      <td>False</td>\n",
       "    </tr>\n",
       "    <tr>\n",
       "      <th>2</th>\n",
       "      <td>Iphone</td>\n",
       "      <td>700</td>\n",
       "      <td>False</td>\n",
       "    </tr>\n",
       "    <tr>\n",
       "      <th>3</th>\n",
       "      <td>IWatch</td>\n",
       "      <td>500</td>\n",
       "      <td>True</td>\n",
       "    </tr>\n",
       "    <tr>\n",
       "      <th>4</th>\n",
       "      <td>TV</td>\n",
       "      <td>300</td>\n",
       "      <td>True</td>\n",
       "    </tr>\n",
       "  </tbody>\n",
       "</table>\n",
       "</div>"
      ],
      "text/plain": [
       "  Product1  Price1   Same\n",
       "0      Mac    2000  False\n",
       "1     Ipad     800  False\n",
       "2   Iphone     700  False\n",
       "3   IWatch     500   True\n",
       "4       TV     300   True"
      ]
     },
     "execution_count": 11,
     "metadata": {},
     "output_type": "execute_result"
    }
   ],
   "source": [
    "store1"
   ]
  },
  {
   "cell_type": "code",
   "execution_count": 14,
   "id": "e2a3cb68",
   "metadata": {},
   "outputs": [
    {
     "data": {
      "text/plain": [
       "array([100,  50,  50,   0,   0])"
      ]
     },
     "execution_count": 14,
     "metadata": {},
     "output_type": "execute_result"
    }
   ],
   "source": [
    "\n",
    "np.where(store1[\"Price1\"]==store2[\"Price2\"], \\\n",
    "         0, abs(store1[\"Price1\"]-store2[\"Price2\"]))"
   ]
  },
  {
   "cell_type": "code",
   "execution_count": 15,
   "id": "8d747bd5",
   "metadata": {},
   "outputs": [],
   "source": [
    "store1[\"Difference\"] = np.where(store1[\"Price1\"]==store2[\"Price2\"], \\\n",
    "         0, abs(store1[\"Price1\"]-store2[\"Price2\"]))"
   ]
  },
  {
   "cell_type": "code",
   "execution_count": 16,
   "id": "2870c232",
   "metadata": {},
   "outputs": [
    {
     "data": {
      "text/html": [
       "<div>\n",
       "<style scoped>\n",
       "    .dataframe tbody tr th:only-of-type {\n",
       "        vertical-align: middle;\n",
       "    }\n",
       "\n",
       "    .dataframe tbody tr th {\n",
       "        vertical-align: top;\n",
       "    }\n",
       "\n",
       "    .dataframe thead th {\n",
       "        text-align: right;\n",
       "    }\n",
       "</style>\n",
       "<table border=\"1\" class=\"dataframe\">\n",
       "  <thead>\n",
       "    <tr style=\"text-align: right;\">\n",
       "      <th></th>\n",
       "      <th>Product1</th>\n",
       "      <th>Price1</th>\n",
       "      <th>Same</th>\n",
       "      <th>Difference</th>\n",
       "    </tr>\n",
       "  </thead>\n",
       "  <tbody>\n",
       "    <tr>\n",
       "      <th>0</th>\n",
       "      <td>Mac</td>\n",
       "      <td>2000</td>\n",
       "      <td>False</td>\n",
       "      <td>100</td>\n",
       "    </tr>\n",
       "    <tr>\n",
       "      <th>1</th>\n",
       "      <td>Ipad</td>\n",
       "      <td>800</td>\n",
       "      <td>False</td>\n",
       "      <td>50</td>\n",
       "    </tr>\n",
       "    <tr>\n",
       "      <th>2</th>\n",
       "      <td>Iphone</td>\n",
       "      <td>700</td>\n",
       "      <td>False</td>\n",
       "      <td>50</td>\n",
       "    </tr>\n",
       "    <tr>\n",
       "      <th>3</th>\n",
       "      <td>IWatch</td>\n",
       "      <td>500</td>\n",
       "      <td>True</td>\n",
       "      <td>0</td>\n",
       "    </tr>\n",
       "    <tr>\n",
       "      <th>4</th>\n",
       "      <td>TV</td>\n",
       "      <td>300</td>\n",
       "      <td>True</td>\n",
       "      <td>0</td>\n",
       "    </tr>\n",
       "  </tbody>\n",
       "</table>\n",
       "</div>"
      ],
      "text/plain": [
       "  Product1  Price1   Same  Difference\n",
       "0      Mac    2000  False         100\n",
       "1     Ipad     800  False          50\n",
       "2   Iphone     700  False          50\n",
       "3   IWatch     500   True           0\n",
       "4       TV     300   True           0"
      ]
     },
     "execution_count": 16,
     "metadata": {},
     "output_type": "execute_result"
    }
   ],
   "source": [
    "store1"
   ]
  },
  {
   "cell_type": "code",
   "execution_count": 19,
   "id": "892eea00",
   "metadata": {},
   "outputs": [],
   "source": [
    "## If price not same, decrease price by 10%, else leave price as is, in store1\n",
    "\n",
    "store1[\"Sale\"] = np.where(store1['Same']==False, store1['Price1']*0.9, store1['Price1'])"
   ]
  },
  {
   "cell_type": "code",
   "execution_count": 20,
   "id": "d9bdff7b",
   "metadata": {},
   "outputs": [
    {
     "data": {
      "text/html": [
       "<div>\n",
       "<style scoped>\n",
       "    .dataframe tbody tr th:only-of-type {\n",
       "        vertical-align: middle;\n",
       "    }\n",
       "\n",
       "    .dataframe tbody tr th {\n",
       "        vertical-align: top;\n",
       "    }\n",
       "\n",
       "    .dataframe thead th {\n",
       "        text-align: right;\n",
       "    }\n",
       "</style>\n",
       "<table border=\"1\" class=\"dataframe\">\n",
       "  <thead>\n",
       "    <tr style=\"text-align: right;\">\n",
       "      <th></th>\n",
       "      <th>Product1</th>\n",
       "      <th>Price1</th>\n",
       "      <th>Same</th>\n",
       "      <th>Difference</th>\n",
       "      <th>Sale</th>\n",
       "    </tr>\n",
       "  </thead>\n",
       "  <tbody>\n",
       "    <tr>\n",
       "      <th>0</th>\n",
       "      <td>Mac</td>\n",
       "      <td>2000</td>\n",
       "      <td>False</td>\n",
       "      <td>100</td>\n",
       "      <td>1800.0</td>\n",
       "    </tr>\n",
       "    <tr>\n",
       "      <th>1</th>\n",
       "      <td>Ipad</td>\n",
       "      <td>800</td>\n",
       "      <td>False</td>\n",
       "      <td>50</td>\n",
       "      <td>720.0</td>\n",
       "    </tr>\n",
       "    <tr>\n",
       "      <th>2</th>\n",
       "      <td>Iphone</td>\n",
       "      <td>700</td>\n",
       "      <td>False</td>\n",
       "      <td>50</td>\n",
       "      <td>630.0</td>\n",
       "    </tr>\n",
       "    <tr>\n",
       "      <th>3</th>\n",
       "      <td>IWatch</td>\n",
       "      <td>500</td>\n",
       "      <td>True</td>\n",
       "      <td>0</td>\n",
       "      <td>500.0</td>\n",
       "    </tr>\n",
       "    <tr>\n",
       "      <th>4</th>\n",
       "      <td>TV</td>\n",
       "      <td>300</td>\n",
       "      <td>True</td>\n",
       "      <td>0</td>\n",
       "      <td>300.0</td>\n",
       "    </tr>\n",
       "  </tbody>\n",
       "</table>\n",
       "</div>"
      ],
      "text/plain": [
       "  Product1  Price1   Same  Difference    Sale\n",
       "0      Mac    2000  False         100  1800.0\n",
       "1     Ipad     800  False          50   720.0\n",
       "2   Iphone     700  False          50   630.0\n",
       "3   IWatch     500   True           0   500.0\n",
       "4       TV     300   True           0   300.0"
      ]
     },
     "execution_count": 20,
     "metadata": {},
     "output_type": "execute_result"
    }
   ],
   "source": [
    "store1"
   ]
  },
  {
   "cell_type": "code",
   "execution_count": 23,
   "id": "c44771eb",
   "metadata": {},
   "outputs": [],
   "source": [
    "# Whole df goes into apply by columns\n",
    "store1[\"Sale_L\"] = store1.apply(lambda df : df[\"Price1\"] if df[\"Same\"] else df[\"Price1\"]*0.9, \\\n",
    "             axis=1)"
   ]
  },
  {
   "cell_type": "code",
   "execution_count": 24,
   "id": "959314a4",
   "metadata": {},
   "outputs": [
    {
     "data": {
      "text/html": [
       "<div>\n",
       "<style scoped>\n",
       "    .dataframe tbody tr th:only-of-type {\n",
       "        vertical-align: middle;\n",
       "    }\n",
       "\n",
       "    .dataframe tbody tr th {\n",
       "        vertical-align: top;\n",
       "    }\n",
       "\n",
       "    .dataframe thead th {\n",
       "        text-align: right;\n",
       "    }\n",
       "</style>\n",
       "<table border=\"1\" class=\"dataframe\">\n",
       "  <thead>\n",
       "    <tr style=\"text-align: right;\">\n",
       "      <th></th>\n",
       "      <th>Product1</th>\n",
       "      <th>Price1</th>\n",
       "      <th>Same</th>\n",
       "      <th>Difference</th>\n",
       "      <th>Sale</th>\n",
       "      <th>Sale_L</th>\n",
       "    </tr>\n",
       "  </thead>\n",
       "  <tbody>\n",
       "    <tr>\n",
       "      <th>0</th>\n",
       "      <td>Mac</td>\n",
       "      <td>2000</td>\n",
       "      <td>False</td>\n",
       "      <td>100</td>\n",
       "      <td>1800.0</td>\n",
       "      <td>1800.0</td>\n",
       "    </tr>\n",
       "    <tr>\n",
       "      <th>1</th>\n",
       "      <td>Ipad</td>\n",
       "      <td>800</td>\n",
       "      <td>False</td>\n",
       "      <td>50</td>\n",
       "      <td>720.0</td>\n",
       "      <td>720.0</td>\n",
       "    </tr>\n",
       "    <tr>\n",
       "      <th>2</th>\n",
       "      <td>Iphone</td>\n",
       "      <td>700</td>\n",
       "      <td>False</td>\n",
       "      <td>50</td>\n",
       "      <td>630.0</td>\n",
       "      <td>630.0</td>\n",
       "    </tr>\n",
       "    <tr>\n",
       "      <th>3</th>\n",
       "      <td>IWatch</td>\n",
       "      <td>500</td>\n",
       "      <td>True</td>\n",
       "      <td>0</td>\n",
       "      <td>500.0</td>\n",
       "      <td>500.0</td>\n",
       "    </tr>\n",
       "    <tr>\n",
       "      <th>4</th>\n",
       "      <td>TV</td>\n",
       "      <td>300</td>\n",
       "      <td>True</td>\n",
       "      <td>0</td>\n",
       "      <td>300.0</td>\n",
       "      <td>300.0</td>\n",
       "    </tr>\n",
       "  </tbody>\n",
       "</table>\n",
       "</div>"
      ],
      "text/plain": [
       "  Product1  Price1   Same  Difference    Sale  Sale_L\n",
       "0      Mac    2000  False         100  1800.0  1800.0\n",
       "1     Ipad     800  False          50   720.0   720.0\n",
       "2   Iphone     700  False          50   630.0   630.0\n",
       "3   IWatch     500   True           0   500.0   500.0\n",
       "4       TV     300   True           0   300.0   300.0"
      ]
     },
     "execution_count": 24,
     "metadata": {},
     "output_type": "execute_result"
    }
   ],
   "source": [
    "store1"
   ]
  },
  {
   "cell_type": "code",
   "execution_count": 25,
   "id": "3d851965",
   "metadata": {},
   "outputs": [
    {
     "data": {
      "text/plain": [
       "0    1600.0\n",
       "1     640.0\n",
       "2     560.0\n",
       "3     500.0\n",
       "4     300.0\n",
       "Name: Price1, dtype: float64"
      ]
     },
     "execution_count": 25,
     "metadata": {},
     "output_type": "execute_result"
    }
   ],
   "source": [
    "store1[\"Price1\"].apply(lambda p : p*0.8 if p >500 else p)"
   ]
  },
  {
   "cell_type": "code",
   "execution_count": 26,
   "id": "4818af3c",
   "metadata": {},
   "outputs": [],
   "source": [
    "## Another option for the same\n",
    "## iloc (by index), loc (by label)\n",
    "### Use loc to do conditional statement"
   ]
  },
  {
   "cell_type": "code",
   "execution_count": 27,
   "id": "97ce944d",
   "metadata": {},
   "outputs": [],
   "source": [
    "store1.loc[store1[\"Price1\"]>500, \"MegaSale\"] = store1[\"Price1\"]*0.8\n",
    "store1.loc[store1[\"Price1\"]<500, \"MegaSale\"] = store1[\"Price1\"]*0.9"
   ]
  },
  {
   "cell_type": "code",
   "execution_count": 29,
   "id": "bcf4ba10",
   "metadata": {},
   "outputs": [
    {
     "data": {
      "text/html": [
       "<div>\n",
       "<style scoped>\n",
       "    .dataframe tbody tr th:only-of-type {\n",
       "        vertical-align: middle;\n",
       "    }\n",
       "\n",
       "    .dataframe tbody tr th {\n",
       "        vertical-align: top;\n",
       "    }\n",
       "\n",
       "    .dataframe thead th {\n",
       "        text-align: right;\n",
       "    }\n",
       "</style>\n",
       "<table border=\"1\" class=\"dataframe\">\n",
       "  <thead>\n",
       "    <tr style=\"text-align: right;\">\n",
       "      <th></th>\n",
       "      <th>Product1</th>\n",
       "      <th>Price1</th>\n",
       "      <th>Same</th>\n",
       "      <th>Difference</th>\n",
       "      <th>Sale</th>\n",
       "      <th>Sale_L</th>\n",
       "      <th>MegaSale</th>\n",
       "    </tr>\n",
       "  </thead>\n",
       "  <tbody>\n",
       "    <tr>\n",
       "      <th>0</th>\n",
       "      <td>Mac</td>\n",
       "      <td>2000</td>\n",
       "      <td>False</td>\n",
       "      <td>100</td>\n",
       "      <td>1800.0</td>\n",
       "      <td>1800.0</td>\n",
       "      <td>1600.0</td>\n",
       "    </tr>\n",
       "    <tr>\n",
       "      <th>1</th>\n",
       "      <td>Ipad</td>\n",
       "      <td>800</td>\n",
       "      <td>False</td>\n",
       "      <td>50</td>\n",
       "      <td>720.0</td>\n",
       "      <td>720.0</td>\n",
       "      <td>640.0</td>\n",
       "    </tr>\n",
       "    <tr>\n",
       "      <th>2</th>\n",
       "      <td>Iphone</td>\n",
       "      <td>700</td>\n",
       "      <td>False</td>\n",
       "      <td>50</td>\n",
       "      <td>630.0</td>\n",
       "      <td>630.0</td>\n",
       "      <td>560.0</td>\n",
       "    </tr>\n",
       "    <tr>\n",
       "      <th>3</th>\n",
       "      <td>IWatch</td>\n",
       "      <td>500</td>\n",
       "      <td>True</td>\n",
       "      <td>0</td>\n",
       "      <td>500.0</td>\n",
       "      <td>500.0</td>\n",
       "      <td>NaN</td>\n",
       "    </tr>\n",
       "    <tr>\n",
       "      <th>4</th>\n",
       "      <td>TV</td>\n",
       "      <td>300</td>\n",
       "      <td>True</td>\n",
       "      <td>0</td>\n",
       "      <td>300.0</td>\n",
       "      <td>300.0</td>\n",
       "      <td>270.0</td>\n",
       "    </tr>\n",
       "  </tbody>\n",
       "</table>\n",
       "</div>"
      ],
      "text/plain": [
       "  Product1  Price1   Same  Difference    Sale  Sale_L  MegaSale\n",
       "0      Mac    2000  False         100  1800.0  1800.0    1600.0\n",
       "1     Ipad     800  False          50   720.0   720.0     640.0\n",
       "2   Iphone     700  False          50   630.0   630.0     560.0\n",
       "3   IWatch     500   True           0   500.0   500.0       NaN\n",
       "4       TV     300   True           0   300.0   300.0     270.0"
      ]
     },
     "execution_count": 29,
     "metadata": {},
     "output_type": "execute_result"
    }
   ],
   "source": [
    "# No condition for condition\n",
    "\n",
    "store1"
   ]
  },
  {
   "cell_type": "code",
   "execution_count": 30,
   "id": "5e9d4b78",
   "metadata": {},
   "outputs": [],
   "source": [
    "store1.loc[store1[\"Price1\"]>500, \"MegaSale\"] = store1[\"Price1\"]*0.8\n",
    "store1.loc[store1[\"Price1\"]==500, \"MegaSale\"] = store1[\"Price1\"]\n",
    "store1.loc[store1[\"Price1\"]<500, \"MegaSale\"] = store1[\"Price1\"]*0.9"
   ]
  },
  {
   "cell_type": "code",
   "execution_count": 31,
   "id": "8b5b896c",
   "metadata": {},
   "outputs": [],
   "source": [
    "## Interview question\n",
    "\n",
    "df = pd.DataFrame(data=range(1, 101), columns=[\"Numbers\"])"
   ]
  },
  {
   "cell_type": "code",
   "execution_count": 32,
   "id": "1245e286",
   "metadata": {},
   "outputs": [
    {
     "data": {
      "text/html": [
       "<div>\n",
       "<style scoped>\n",
       "    .dataframe tbody tr th:only-of-type {\n",
       "        vertical-align: middle;\n",
       "    }\n",
       "\n",
       "    .dataframe tbody tr th {\n",
       "        vertical-align: top;\n",
       "    }\n",
       "\n",
       "    .dataframe thead th {\n",
       "        text-align: right;\n",
       "    }\n",
       "</style>\n",
       "<table border=\"1\" class=\"dataframe\">\n",
       "  <thead>\n",
       "    <tr style=\"text-align: right;\">\n",
       "      <th></th>\n",
       "      <th>Numbers</th>\n",
       "    </tr>\n",
       "  </thead>\n",
       "  <tbody>\n",
       "    <tr>\n",
       "      <th>0</th>\n",
       "      <td>1</td>\n",
       "    </tr>\n",
       "    <tr>\n",
       "      <th>1</th>\n",
       "      <td>2</td>\n",
       "    </tr>\n",
       "    <tr>\n",
       "      <th>2</th>\n",
       "      <td>3</td>\n",
       "    </tr>\n",
       "    <tr>\n",
       "      <th>3</th>\n",
       "      <td>4</td>\n",
       "    </tr>\n",
       "    <tr>\n",
       "      <th>4</th>\n",
       "      <td>5</td>\n",
       "    </tr>\n",
       "    <tr>\n",
       "      <th>...</th>\n",
       "      <td>...</td>\n",
       "    </tr>\n",
       "    <tr>\n",
       "      <th>95</th>\n",
       "      <td>96</td>\n",
       "    </tr>\n",
       "    <tr>\n",
       "      <th>96</th>\n",
       "      <td>97</td>\n",
       "    </tr>\n",
       "    <tr>\n",
       "      <th>97</th>\n",
       "      <td>98</td>\n",
       "    </tr>\n",
       "    <tr>\n",
       "      <th>98</th>\n",
       "      <td>99</td>\n",
       "    </tr>\n",
       "    <tr>\n",
       "      <th>99</th>\n",
       "      <td>100</td>\n",
       "    </tr>\n",
       "  </tbody>\n",
       "</table>\n",
       "<p>100 rows × 1 columns</p>\n",
       "</div>"
      ],
      "text/plain": [
       "    Numbers\n",
       "0         1\n",
       "1         2\n",
       "2         3\n",
       "3         4\n",
       "4         5\n",
       "..      ...\n",
       "95       96\n",
       "96       97\n",
       "97       98\n",
       "98       99\n",
       "99      100\n",
       "\n",
       "[100 rows x 1 columns]"
      ]
     },
     "execution_count": 32,
     "metadata": {},
     "output_type": "execute_result"
    }
   ],
   "source": [
    "df"
   ]
  },
  {
   "cell_type": "code",
   "execution_count": 33,
   "id": "4922d3d1",
   "metadata": {},
   "outputs": [],
   "source": [
    "## Interview question\n",
    "## Go check each number and see if %3 with no remainder, print Fizz\n",
    "## %5, print Buzz\n",
    "## %5 and %3, print FizzBuzz"
   ]
  },
  {
   "cell_type": "code",
   "execution_count": 38,
   "id": "98cd3d24",
   "metadata": {},
   "outputs": [],
   "source": [
    "def fizzBuzz(n):\n",
    "    '''\n",
    "    Python is interpreter, not compiler\n",
    "    Order does matter\n",
    "    Have to run FizzBuzz condition on top\n",
    "    '''\n",
    "    if n%3 and n%5 == 0:\n",
    "        result = \"FizzBuzz\"\n",
    "    elif n%3 == 0:\n",
    "        result = \"Fizz\"\n",
    "    elif n%5 == 0:\n",
    "        result = \"Buzz\"\n",
    "    else:\n",
    "        result = str(n)\n",
    "    return result"
   ]
  },
  {
   "cell_type": "code",
   "execution_count": 35,
   "id": "ab9b784a",
   "metadata": {},
   "outputs": [],
   "source": [
    "df[\"FizzBuzz\"] = df[\"Numbers\"].apply(fizzBuzz)"
   ]
  },
  {
   "cell_type": "code",
   "execution_count": 36,
   "id": "de80d3b9",
   "metadata": {},
   "outputs": [
    {
     "data": {
      "text/html": [
       "<div>\n",
       "<style scoped>\n",
       "    .dataframe tbody tr th:only-of-type {\n",
       "        vertical-align: middle;\n",
       "    }\n",
       "\n",
       "    .dataframe tbody tr th {\n",
       "        vertical-align: top;\n",
       "    }\n",
       "\n",
       "    .dataframe thead th {\n",
       "        text-align: right;\n",
       "    }\n",
       "</style>\n",
       "<table border=\"1\" class=\"dataframe\">\n",
       "  <thead>\n",
       "    <tr style=\"text-align: right;\">\n",
       "      <th></th>\n",
       "      <th>Numbers</th>\n",
       "      <th>FizzBuzz</th>\n",
       "    </tr>\n",
       "  </thead>\n",
       "  <tbody>\n",
       "    <tr>\n",
       "      <th>0</th>\n",
       "      <td>1</td>\n",
       "      <td>1</td>\n",
       "    </tr>\n",
       "    <tr>\n",
       "      <th>1</th>\n",
       "      <td>2</td>\n",
       "      <td>2</td>\n",
       "    </tr>\n",
       "    <tr>\n",
       "      <th>2</th>\n",
       "      <td>3</td>\n",
       "      <td>Fizz</td>\n",
       "    </tr>\n",
       "    <tr>\n",
       "      <th>3</th>\n",
       "      <td>4</td>\n",
       "      <td>4</td>\n",
       "    </tr>\n",
       "    <tr>\n",
       "      <th>4</th>\n",
       "      <td>5</td>\n",
       "      <td>FizzBuzz</td>\n",
       "    </tr>\n",
       "    <tr>\n",
       "      <th>...</th>\n",
       "      <td>...</td>\n",
       "      <td>...</td>\n",
       "    </tr>\n",
       "    <tr>\n",
       "      <th>95</th>\n",
       "      <td>96</td>\n",
       "      <td>Fizz</td>\n",
       "    </tr>\n",
       "    <tr>\n",
       "      <th>96</th>\n",
       "      <td>97</td>\n",
       "      <td>97</td>\n",
       "    </tr>\n",
       "    <tr>\n",
       "      <th>97</th>\n",
       "      <td>98</td>\n",
       "      <td>98</td>\n",
       "    </tr>\n",
       "    <tr>\n",
       "      <th>98</th>\n",
       "      <td>99</td>\n",
       "      <td>Fizz</td>\n",
       "    </tr>\n",
       "    <tr>\n",
       "      <th>99</th>\n",
       "      <td>100</td>\n",
       "      <td>FizzBuzz</td>\n",
       "    </tr>\n",
       "  </tbody>\n",
       "</table>\n",
       "<p>100 rows × 2 columns</p>\n",
       "</div>"
      ],
      "text/plain": [
       "    Numbers  FizzBuzz\n",
       "0         1         1\n",
       "1         2         2\n",
       "2         3      Fizz\n",
       "3         4         4\n",
       "4         5  FizzBuzz\n",
       "..      ...       ...\n",
       "95       96      Fizz\n",
       "96       97        97\n",
       "97       98        98\n",
       "98       99      Fizz\n",
       "99      100  FizzBuzz\n",
       "\n",
       "[100 rows x 2 columns]"
      ]
     },
     "execution_count": 36,
     "metadata": {},
     "output_type": "execute_result"
    }
   ],
   "source": [
    "df"
   ]
  }
 ],
 "metadata": {
  "kernelspec": {
   "display_name": "Python 3 (ipykernel)",
   "language": "python",
   "name": "python3"
  },
  "language_info": {
   "codemirror_mode": {
    "name": "ipython",
    "version": 3
   },
   "file_extension": ".py",
   "mimetype": "text/x-python",
   "name": "python",
   "nbconvert_exporter": "python",
   "pygments_lexer": "ipython3",
   "version": "3.9.12"
  }
 },
 "nbformat": 4,
 "nbformat_minor": 5
}
