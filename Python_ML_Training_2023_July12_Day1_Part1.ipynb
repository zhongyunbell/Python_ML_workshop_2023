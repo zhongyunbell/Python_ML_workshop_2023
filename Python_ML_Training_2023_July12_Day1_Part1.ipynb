{
 "cells": [
  {
   "cell_type": "markdown",
   "id": "f6baf22b",
   "metadata": {},
   "source": [
    "# Data Structure / Data Type\n",
    "## Data type is a data classification, like container"
   ]
  },
  {
   "cell_type": "code",
   "execution_count": 1,
   "id": "eac56921",
   "metadata": {},
   "outputs": [],
   "source": [
    "# Int - 5\n",
    "# Floats - 2.5"
   ]
  },
  {
   "cell_type": "code",
   "execution_count": 2,
   "id": "bf2ac356",
   "metadata": {},
   "outputs": [],
   "source": [
    "x = 7"
   ]
  },
  {
   "cell_type": "code",
   "execution_count": 3,
   "id": "728ba0eb",
   "metadata": {},
   "outputs": [],
   "source": [
    "y = 7"
   ]
  },
  {
   "cell_type": "code",
   "execution_count": 4,
   "id": "bec2732b",
   "metadata": {},
   "outputs": [],
   "source": [
    "z = y\n",
    "\n",
    "# NOT making a copy, edits to z will change the dataset"
   ]
  },
  {
   "cell_type": "code",
   "execution_count": 5,
   "id": "e3772477",
   "metadata": {},
   "outputs": [
    {
     "data": {
      "text/plain": [
       "4334840304"
      ]
     },
     "execution_count": 5,
     "metadata": {},
     "output_type": "execute_result"
    }
   ],
   "source": [
    "id(x)"
   ]
  },
  {
   "cell_type": "code",
   "execution_count": 6,
   "id": "3303c5d9",
   "metadata": {},
   "outputs": [
    {
     "data": {
      "text/plain": [
       "4334840304"
      ]
     },
     "execution_count": 6,
     "metadata": {},
     "output_type": "execute_result"
    }
   ],
   "source": [
    "id(y)"
   ]
  },
  {
   "cell_type": "code",
   "execution_count": 7,
   "id": "afea29fe",
   "metadata": {},
   "outputs": [
    {
     "data": {
      "text/plain": [
       "4334840304"
      ]
     },
     "execution_count": 7,
     "metadata": {},
     "output_type": "execute_result"
    }
   ],
   "source": [
    "id(z)"
   ]
  },
  {
   "cell_type": "code",
   "execution_count": 8,
   "id": "f2531059",
   "metadata": {},
   "outputs": [],
   "source": [
    "## 7 is a value stored in python memory\n",
    "## x and y are pointers that point to the same object\n",
    "## Python built-in functions\n",
    "### x, y, z pointing and sharing the same object\n",
    "## Garbage collector"
   ]
  },
  {
   "cell_type": "markdown",
   "id": "f18d8484",
   "metadata": {},
   "source": [
    "## String"
   ]
  },
  {
   "cell_type": "code",
   "execution_count": 9,
   "id": "b87bc123",
   "metadata": {},
   "outputs": [],
   "source": [
    "word = \"apple\"\n",
    "\n",
    "## String is a sequence of charactors, single or double quotes\n",
    "## No limit to length of the string"
   ]
  },
  {
   "cell_type": "code",
   "execution_count": 10,
   "id": "2cdf7af6",
   "metadata": {},
   "outputs": [],
   "source": [
    "## The functions to use for data types\n",
    "\n",
    "# type()\n",
    "# dir()\n",
    "# help()"
   ]
  },
  {
   "cell_type": "code",
   "execution_count": 11,
   "id": "10d7f6a3",
   "metadata": {},
   "outputs": [
    {
     "data": {
      "text/plain": [
       "str"
      ]
     },
     "execution_count": 11,
     "metadata": {},
     "output_type": "execute_result"
    }
   ],
   "source": [
    "type(word)"
   ]
  },
  {
   "cell_type": "code",
   "execution_count": 12,
   "id": "e6d10e57",
   "metadata": {},
   "outputs": [],
   "source": [
    "word = 7"
   ]
  },
  {
   "cell_type": "code",
   "execution_count": 13,
   "id": "cc5ff219",
   "metadata": {},
   "outputs": [
    {
     "data": {
      "text/plain": [
       "int"
      ]
     },
     "execution_count": 13,
     "metadata": {},
     "output_type": "execute_result"
    }
   ],
   "source": [
    "type(word)"
   ]
  },
  {
   "cell_type": "code",
   "execution_count": 14,
   "id": "8b5ffbf5",
   "metadata": {},
   "outputs": [],
   "source": [
    "word = 'apple'"
   ]
  },
  {
   "cell_type": "code",
   "execution_count": 15,
   "id": "69bead44",
   "metadata": {},
   "outputs": [
    {
     "name": "stdout",
     "output_type": "stream",
     "text": [
      "['__add__', '__class__', '__contains__', '__delattr__', '__dir__', '__doc__', '__eq__', '__format__', '__ge__', '__getattribute__', '__getitem__', '__getnewargs__', '__gt__', '__hash__', '__init__', '__init_subclass__', '__iter__', '__le__', '__len__', '__lt__', '__mod__', '__mul__', '__ne__', '__new__', '__reduce__', '__reduce_ex__', '__repr__', '__rmod__', '__rmul__', '__setattr__', '__sizeof__', '__str__', '__subclasshook__', 'capitalize', 'casefold', 'center', 'count', 'encode', 'endswith', 'expandtabs', 'find', 'format', 'format_map', 'index', 'isalnum', 'isalpha', 'isascii', 'isdecimal', 'isdigit', 'isidentifier', 'islower', 'isnumeric', 'isprintable', 'isspace', 'istitle', 'isupper', 'join', 'ljust', 'lower', 'lstrip', 'maketrans', 'partition', 'removeprefix', 'removesuffix', 'replace', 'rfind', 'rindex', 'rjust', 'rpartition', 'rsplit', 'rstrip', 'split', 'splitlines', 'startswith', 'strip', 'swapcase', 'title', 'translate', 'upper', 'zfill']\n"
     ]
    }
   ],
   "source": [
    "## dir function saves time\n",
    "## dir tells you the list of attributes/methods available\n",
    "### underscores, private methods\n",
    "print(dir(word))"
   ]
  },
  {
   "cell_type": "code",
   "execution_count": 16,
   "id": "8120e707",
   "metadata": {},
   "outputs": [
    {
     "data": {
      "text/plain": [
       "'apple'"
      ]
     },
     "execution_count": 16,
     "metadata": {},
     "output_type": "execute_result"
    }
   ],
   "source": [
    "word"
   ]
  },
  {
   "cell_type": "code",
   "execution_count": 17,
   "id": "5a603481",
   "metadata": {},
   "outputs": [
    {
     "data": {
      "text/plain": [
       "'appleorange'"
      ]
     },
     "execution_count": 17,
     "metadata": {},
     "output_type": "execute_result"
    }
   ],
   "source": [
    "# Usually don't use these methods, much easier to use +\n",
    "word.__add__(\"orange\")"
   ]
  },
  {
   "cell_type": "code",
   "execution_count": 18,
   "id": "d7e34eb5",
   "metadata": {},
   "outputs": [
    {
     "data": {
      "text/plain": [
       "'appleorange'"
      ]
     },
     "execution_count": 18,
     "metadata": {},
     "output_type": "execute_result"
    }
   ],
   "source": [
    "word + \"orange\""
   ]
  },
  {
   "cell_type": "code",
   "execution_count": 19,
   "id": "2d3b221f",
   "metadata": {},
   "outputs": [
    {
     "name": "stdout",
     "output_type": "stream",
     "text": [
      "Help on built-in function upper:\n",
      "\n",
      "upper() method of builtins.str instance\n",
      "    Return a copy of the string converted to uppercase.\n",
      "\n"
     ]
    }
   ],
   "source": [
    "## See other methods to be used right away, no underscore\n",
    "help(word.upper)"
   ]
  },
  {
   "cell_type": "code",
   "execution_count": 20,
   "id": "2f2084e1",
   "metadata": {},
   "outputs": [
    {
     "data": {
      "text/plain": [
       "'APPLE'"
      ]
     },
     "execution_count": 20,
     "metadata": {},
     "output_type": "execute_result"
    }
   ],
   "source": [
    "# Returns a copy, string is IMMUTABLE, cannot be changed\n",
    "# Mutability is a programming concept that is important\n",
    "# Immutable objects tent to be faster\n",
    "# Every method of a string will create a copy\n",
    "word.upper()"
   ]
  },
  {
   "cell_type": "code",
   "execution_count": 21,
   "id": "aa834887",
   "metadata": {},
   "outputs": [],
   "source": [
    "# word can be over-written by assigning word.upper() to word again"
   ]
  },
  {
   "cell_type": "code",
   "execution_count": 22,
   "id": "7fe5e4e6",
   "metadata": {},
   "outputs": [],
   "source": [
    "# Jupyter build-in perks\n",
    "## Save data every 3 minuts\n",
    "## use tab after \".\", to let Jupyter give help, or \"shift tab\" to show details of the variable"
   ]
  },
  {
   "cell_type": "code",
   "execution_count": 23,
   "id": "554d1a32",
   "metadata": {},
   "outputs": [],
   "source": [
    "# String is a collection of charactors, so can be indexed"
   ]
  },
  {
   "cell_type": "code",
   "execution_count": 24,
   "id": "4cfeb5be",
   "metadata": {},
   "outputs": [],
   "source": [
    "word = word.upper()"
   ]
  },
  {
   "cell_type": "code",
   "execution_count": 25,
   "id": "188e7a8c",
   "metadata": {},
   "outputs": [
    {
     "data": {
      "text/plain": [
       "'APPLE'"
      ]
     },
     "execution_count": 25,
     "metadata": {},
     "output_type": "execute_result"
    }
   ],
   "source": [
    "word"
   ]
  },
  {
   "cell_type": "code",
   "execution_count": 26,
   "id": "fd59ddc4",
   "metadata": {},
   "outputs": [
    {
     "data": {
      "text/plain": [
       "'A'"
      ]
     },
     "execution_count": 26,
     "metadata": {},
     "output_type": "execute_result"
    }
   ],
   "source": [
    "word[0]"
   ]
  },
  {
   "cell_type": "code",
   "execution_count": 27,
   "id": "9c639f74",
   "metadata": {},
   "outputs": [
    {
     "data": {
      "text/plain": [
       "'E'"
      ]
     },
     "execution_count": 27,
     "metadata": {},
     "output_type": "execute_result"
    }
   ],
   "source": [
    "word[-1]"
   ]
  },
  {
   "cell_type": "code",
   "execution_count": 28,
   "id": "d75b9235",
   "metadata": {},
   "outputs": [
    {
     "data": {
      "text/plain": [
       "'A'"
      ]
     },
     "execution_count": 28,
     "metadata": {},
     "output_type": "execute_result"
    }
   ],
   "source": [
    "# \"-\" is for direction\n",
    "word[-5]"
   ]
  },
  {
   "cell_type": "code",
   "execution_count": 29,
   "id": "00355867",
   "metadata": {},
   "outputs": [
    {
     "data": {
      "text/plain": [
       "4336321072"
      ]
     },
     "execution_count": 29,
     "metadata": {},
     "output_type": "execute_result"
    }
   ],
   "source": [
    "id(word[0])"
   ]
  },
  {
   "cell_type": "code",
   "execution_count": 30,
   "id": "8d5654bc",
   "metadata": {},
   "outputs": [
    {
     "data": {
      "text/plain": [
       "4391748784"
      ]
     },
     "execution_count": 30,
     "metadata": {},
     "output_type": "execute_result"
    }
   ],
   "source": [
    "id(word)"
   ]
  },
  {
   "cell_type": "code",
   "execution_count": 31,
   "id": "cd42672f",
   "metadata": {},
   "outputs": [],
   "source": [
    "# String is immutable\n",
    "# word[0] is a different copy"
   ]
  },
  {
   "cell_type": "code",
   "execution_count": 32,
   "id": "64abe566",
   "metadata": {},
   "outputs": [
    {
     "ename": "SyntaxError",
     "evalue": "invalid syntax (1163204254.py, line 2)",
     "output_type": "error",
     "traceback": [
      "\u001b[0;36m  Input \u001b[0;32mIn [32]\u001b[0;36m\u001b[0m\n\u001b[0;31m    [start: stop: step] # stop is exclusive\u001b[0m\n\u001b[0m          ^\u001b[0m\n\u001b[0;31mSyntaxError\u001b[0m\u001b[0;31m:\u001b[0m invalid syntax\n"
     ]
    }
   ],
   "source": [
    "# To slice\n",
    "##[start: stop: step] # stop is exclusive"
   ]
  },
  {
   "cell_type": "code",
   "execution_count": 33,
   "id": "c5c20dff",
   "metadata": {},
   "outputs": [
    {
     "data": {
      "text/plain": [
       "'PP'"
      ]
     },
     "execution_count": 33,
     "metadata": {},
     "output_type": "execute_result"
    }
   ],
   "source": [
    "word[1:3]"
   ]
  },
  {
   "cell_type": "code",
   "execution_count": 34,
   "id": "cd2da469",
   "metadata": {},
   "outputs": [
    {
     "data": {
      "text/plain": [
       "'LE'"
      ]
     },
     "execution_count": 34,
     "metadata": {},
     "output_type": "execute_result"
    }
   ],
   "source": [
    "word[3:5]"
   ]
  },
  {
   "cell_type": "code",
   "execution_count": 35,
   "id": "b0dcf302",
   "metadata": {},
   "outputs": [
    {
     "data": {
      "text/plain": [
       "'LE'"
      ]
     },
     "execution_count": 35,
     "metadata": {},
     "output_type": "execute_result"
    }
   ],
   "source": [
    "word[3:]"
   ]
  },
  {
   "cell_type": "code",
   "execution_count": 36,
   "id": "99310122",
   "metadata": {},
   "outputs": [
    {
     "data": {
      "text/plain": [
       "'ELPPA'"
      ]
     },
     "execution_count": 36,
     "metadata": {},
     "output_type": "execute_result"
    }
   ],
   "source": [
    "## Negative step reverse the whole string\n",
    "\n",
    "## always 0 based, the last is always [-1]\n",
    "word[::-1]"
   ]
  },
  {
   "cell_type": "code",
   "execution_count": 37,
   "id": "831053c2",
   "metadata": {},
   "outputs": [
    {
     "data": {
      "text/plain": [
       "'E'"
      ]
     },
     "execution_count": 37,
     "metadata": {},
     "output_type": "execute_result"
    }
   ],
   "source": [
    "word[-1]"
   ]
  },
  {
   "cell_type": "code",
   "execution_count": 38,
   "id": "1b1d276a",
   "metadata": {},
   "outputs": [],
   "source": [
    "string = \"aAbBcCdDeE\""
   ]
  },
  {
   "cell_type": "code",
   "execution_count": 39,
   "id": "ba40290a",
   "metadata": {},
   "outputs": [
    {
     "data": {
      "text/plain": [
       "'ABCDE'"
      ]
     },
     "execution_count": 39,
     "metadata": {},
     "output_type": "execute_result"
    }
   ],
   "source": [
    "# Get all the capitalized letter\n",
    "string[1::2]"
   ]
  },
  {
   "cell_type": "code",
   "execution_count": 40,
   "id": "f885545f",
   "metadata": {},
   "outputs": [
    {
     "data": {
      "text/plain": [
       "'edcba'"
      ]
     },
     "execution_count": 40,
     "metadata": {},
     "output_type": "execute_result"
    }
   ],
   "source": [
    "# lowercase letters, backwards\n",
    "string[-2::-2]"
   ]
  },
  {
   "cell_type": "code",
   "execution_count": 41,
   "id": "12b3308b",
   "metadata": {},
   "outputs": [],
   "source": [
    "address = \"115 W 30th St., New York, NY, 12345\""
   ]
  },
  {
   "cell_type": "code",
   "execution_count": 42,
   "id": "7f86ca15",
   "metadata": {},
   "outputs": [
    {
     "data": {
      "text/plain": [
       "'12345'"
      ]
     },
     "execution_count": 42,
     "metadata": {},
     "output_type": "execute_result"
    }
   ],
   "source": [
    "zipcode = address[-5:]\n",
    "zipcode"
   ]
  },
  {
   "cell_type": "code",
   "execution_count": 43,
   "id": "0131bf81",
   "metadata": {},
   "outputs": [
    {
     "data": {
      "text/plain": [
       "'12345'"
      ]
     },
     "execution_count": 43,
     "metadata": {},
     "output_type": "execute_result"
    }
   ],
   "source": [
    "address[len(address)-5:]"
   ]
  },
  {
   "cell_type": "code",
   "execution_count": 44,
   "id": "75004787",
   "metadata": {},
   "outputs": [
    {
     "data": {
      "text/plain": [
       "30"
      ]
     },
     "execution_count": 44,
     "metadata": {},
     "output_type": "execute_result"
    }
   ],
   "source": [
    "len(address)-5"
   ]
  },
  {
   "cell_type": "markdown",
   "id": "f62976cf",
   "metadata": {},
   "source": [
    "## List"
   ]
  },
  {
   "cell_type": "code",
   "execution_count": 45,
   "id": "a3583d0a",
   "metadata": {},
   "outputs": [],
   "source": [
    "alist = []"
   ]
  },
  {
   "cell_type": "code",
   "execution_count": 46,
   "id": "97f7207b",
   "metadata": {},
   "outputs": [],
   "source": [
    "alist.append(7)\n",
    "alist.append(5)\n",
    "alist.append(3)"
   ]
  },
  {
   "cell_type": "code",
   "execution_count": 47,
   "id": "5979d45f",
   "metadata": {},
   "outputs": [
    {
     "data": {
      "text/plain": [
       "[7, 5, 3]"
      ]
     },
     "execution_count": 47,
     "metadata": {},
     "output_type": "execute_result"
    }
   ],
   "source": [
    "alist"
   ]
  },
  {
   "cell_type": "code",
   "execution_count": 48,
   "id": "e315d866",
   "metadata": {},
   "outputs": [],
   "source": [
    "alist.append(\"apple\")"
   ]
  },
  {
   "cell_type": "code",
   "execution_count": 49,
   "id": "ebf5c5fe",
   "metadata": {},
   "outputs": [
    {
     "data": {
      "text/plain": [
       "[7, 5, 3, 'apple']"
      ]
     },
     "execution_count": 49,
     "metadata": {},
     "output_type": "execute_result"
    }
   ],
   "source": [
    "alist"
   ]
  },
  {
   "cell_type": "code",
   "execution_count": 50,
   "id": "8e481b53",
   "metadata": {},
   "outputs": [],
   "source": [
    "## list is mutable\n",
    "## list is slow"
   ]
  },
  {
   "cell_type": "code",
   "execution_count": 51,
   "id": "1d21d865",
   "metadata": {},
   "outputs": [
    {
     "data": {
      "text/plain": [
       "[7, 5, 3, 'apple']"
      ]
     },
     "execution_count": 51,
     "metadata": {},
     "output_type": "execute_result"
    }
   ],
   "source": [
    "alist"
   ]
  },
  {
   "cell_type": "code",
   "execution_count": 52,
   "id": "8efcb2c2",
   "metadata": {},
   "outputs": [],
   "source": [
    "alist.remove(\"apple\")"
   ]
  },
  {
   "cell_type": "code",
   "execution_count": 53,
   "id": "96efcf0b",
   "metadata": {},
   "outputs": [
    {
     "data": {
      "text/plain": [
       "[7, 5, 3]"
      ]
     },
     "execution_count": 53,
     "metadata": {},
     "output_type": "execute_result"
    }
   ],
   "source": [
    "alist"
   ]
  },
  {
   "cell_type": "code",
   "execution_count": 54,
   "id": "088c0a9a",
   "metadata": {},
   "outputs": [],
   "source": [
    "alist.sort()"
   ]
  },
  {
   "cell_type": "code",
   "execution_count": 55,
   "id": "ace0aedc",
   "metadata": {},
   "outputs": [
    {
     "data": {
      "text/plain": [
       "3"
      ]
     },
     "execution_count": 55,
     "metadata": {},
     "output_type": "execute_result"
    }
   ],
   "source": [
    "# index the list, same way as string\n",
    "alist[0]"
   ]
  },
  {
   "cell_type": "code",
   "execution_count": 56,
   "id": "bba172f0",
   "metadata": {},
   "outputs": [],
   "source": [
    "alist[0] = 100"
   ]
  },
  {
   "cell_type": "code",
   "execution_count": 57,
   "id": "a691d94b",
   "metadata": {},
   "outputs": [
    {
     "data": {
      "text/plain": [
       "[100, 5, 7]"
      ]
     },
     "execution_count": 57,
     "metadata": {},
     "output_type": "execute_result"
    }
   ],
   "source": [
    "alist"
   ]
  },
  {
   "cell_type": "code",
   "execution_count": 58,
   "id": "1e601b86",
   "metadata": {},
   "outputs": [],
   "source": [
    "# Suggest list to be homogeneous, not merge data types\n",
    "# something might work, but not efficient\n",
    "# want to move fast, and efficient"
   ]
  },
  {
   "cell_type": "code",
   "execution_count": 59,
   "id": "cfc9d0c9",
   "metadata": {},
   "outputs": [
    {
     "name": "stdout",
     "output_type": "stream",
     "text": [
      "banana =  100\n",
      "banana =  5\n",
      "banana =  7\n"
     ]
    }
   ],
   "source": [
    "for banana in alist:\n",
    "    print(\"banana = \", banana)"
   ]
  },
  {
   "cell_type": "code",
   "execution_count": 60,
   "id": "e5121f78",
   "metadata": {},
   "outputs": [
    {
     "name": "stdout",
     "output_type": "stream",
     "text": [
      "banana =  100\n"
     ]
    }
   ],
   "source": [
    "for banana in alist:\n",
    "    print(\"banana = \", banana)\n",
    "    break"
   ]
  },
  {
   "cell_type": "code",
   "execution_count": 61,
   "id": "f4e81d37",
   "metadata": {},
   "outputs": [],
   "source": [
    "## Python two types of loops\n",
    "## 1. definite loop: for-loop, no. of times known\n",
    "## 2. "
   ]
  },
  {
   "cell_type": "code",
   "execution_count": 62,
   "id": "0a2ae479",
   "metadata": {},
   "outputs": [
    {
     "name": "stdout",
     "output_type": "stream",
     "text": [
      "What else should i get? \n",
      "[]\n",
      "Do not forget to buy bananas\n",
      "Do not forget to buy oranges\n",
      "Do not forget to buy mangos\n",
      "Do not forget to buy \n"
     ]
    }
   ],
   "source": [
    "shopping_list = [\"bananas\", \"oranges\", \"mangos\"]\n",
    "item = input(\"What else should i get? \")\n",
    "print(item.split())\n",
    "shopping_list.append(item)\n",
    "\n",
    "for food in shopping_list:\n",
    "    if food == \"beer\":\n",
    "        print(\"Are you old enough to buy a beer\")\n",
    "    print(\"Do not forget to buy\", food)"
   ]
  },
  {
   "cell_type": "markdown",
   "id": "2a47bbd6",
   "metadata": {},
   "source": [
    "## List comprehensions, faster solution\n",
    "## Not using \"append\""
   ]
  },
  {
   "cell_type": "code",
   "execution_count": 63,
   "id": "b49b2405",
   "metadata": {},
   "outputs": [],
   "source": [
    "numbers = [1, 2, 3, 4, 5, 5, 5, 5]\n",
    "fives = []\n",
    "# [5, 5, 5, 5]"
   ]
  },
  {
   "cell_type": "code",
   "execution_count": 64,
   "id": "4be4fa54",
   "metadata": {},
   "outputs": [],
   "source": [
    "for number in numbers:\n",
    "    if number == 5:\n",
    "        fives.append(number)"
   ]
  },
  {
   "cell_type": "code",
   "execution_count": 65,
   "id": "07ac69f7",
   "metadata": {},
   "outputs": [
    {
     "data": {
      "text/plain": [
       "[5, 5, 5, 5]"
      ]
     },
     "execution_count": 65,
     "metadata": {},
     "output_type": "execute_result"
    }
   ],
   "source": [
    "fives"
   ]
  },
  {
   "cell_type": "code",
   "execution_count": 66,
   "id": "b9aaec3e",
   "metadata": {},
   "outputs": [
    {
     "data": {
      "text/plain": [
       "[5, 5, 5, 5]"
      ]
     },
     "execution_count": 66,
     "metadata": {},
     "output_type": "execute_result"
    }
   ],
   "source": [
    "# Ke \n",
    "[ i for i in numbers if i==5 ]"
   ]
  },
  {
   "cell_type": "code",
   "execution_count": 67,
   "id": "ea284b49",
   "metadata": {},
   "outputs": [],
   "source": [
    "## Append downloads append library\n",
    "## Use list comprehension is fast, twice faster"
   ]
  },
  {
   "cell_type": "code",
   "execution_count": 68,
   "id": "30586cfd",
   "metadata": {},
   "outputs": [
    {
     "data": {
      "text/plain": [
       "['Mon', 'Tue', 'Wed']"
      ]
     },
     "execution_count": 68,
     "metadata": {},
     "output_type": "execute_result"
    }
   ],
   "source": [
    "# Capitalize first letter\n",
    "\n",
    "weak = ['mon', 'tue', 'wed']\n",
    "days = [i.capitalize() for i in weak]\n",
    "days"
   ]
  },
  {
   "cell_type": "code",
   "execution_count": 69,
   "id": "f225ad00",
   "metadata": {},
   "outputs": [
    {
     "data": {
      "text/plain": [
       "['MON', 'TUE', 'WED']"
      ]
     },
     "execution_count": 69,
     "metadata": {},
     "output_type": "execute_result"
    }
   ],
   "source": [
    "# Capitalize first letter\n",
    "\n",
    "weak = ['mon', 'tue', 'wed']\n",
    "days = [i.upper() for i in weak]\n",
    "days"
   ]
  },
  {
   "cell_type": "code",
   "execution_count": 70,
   "id": "2705cfb3",
   "metadata": {},
   "outputs": [
    {
     "data": {
      "text/plain": [
       "['Mon', 'Tue', 'Wed']"
      ]
     },
     "execution_count": 70,
     "metadata": {},
     "output_type": "execute_result"
    }
   ],
   "source": [
    "[f\"{day.upper()[0]}{day.lower()[1:]}\" for day in weak]"
   ]
  },
  {
   "cell_type": "code",
   "execution_count": 71,
   "id": "62413d67",
   "metadata": {},
   "outputs": [],
   "source": [
    "def str_upper(s):\n",
    "    return s.upper()"
   ]
  },
  {
   "cell_type": "code",
   "execution_count": 72,
   "id": "4f0e560a",
   "metadata": {},
   "outputs": [
    {
     "data": {
      "text/plain": [
       "<map at 0x105cca670>"
      ]
     },
     "execution_count": 72,
     "metadata": {},
     "output_type": "execute_result"
    }
   ],
   "source": [
    "## Apply function to iterate terms\n",
    "map(str_upper, weak)"
   ]
  },
  {
   "cell_type": "code",
   "execution_count": 73,
   "id": "b95ceaa1",
   "metadata": {},
   "outputs": [
    {
     "data": {
      "text/plain": [
       "['MON', 'TUE', 'WED']"
      ]
     },
     "execution_count": 73,
     "metadata": {},
     "output_type": "execute_result"
    }
   ],
   "source": [
    "## Map is a way to do \"for loop\", function map\n",
    "## applies a function to all items in iterable\n",
    "list(map(str_upper, weak))"
   ]
  },
  {
   "cell_type": "markdown",
   "id": "83a6213f",
   "metadata": {},
   "source": [
    "## Use lambda\n",
    "\n",
    "### lambda is anonymous function, no name function\n",
    "### uses no memory\n",
    "### do not need to use this function again"
   ]
  },
  {
   "cell_type": "code",
   "execution_count": 74,
   "id": "c8e1e25a",
   "metadata": {},
   "outputs": [],
   "source": [
    "def add(a, b):\n",
    "    return a + b\n",
    "\n",
    "## Function is a block of reusable code\n",
    "### lambda (variables) : (expression)\n",
    "### never uses return, if always returns\n",
    "### lambda cannot be used in its own, must be assigned to something \n",
    "### Or used as a helper function"
   ]
  },
  {
   "cell_type": "code",
   "execution_count": 75,
   "id": "ccddbc5c",
   "metadata": {},
   "outputs": [],
   "source": [
    "f = lambda banana, orange: banana + orange"
   ]
  },
  {
   "cell_type": "code",
   "execution_count": 76,
   "id": "70d4e436",
   "metadata": {},
   "outputs": [
    {
     "data": {
      "text/plain": [
       "11"
      ]
     },
     "execution_count": 76,
     "metadata": {},
     "output_type": "execute_result"
    }
   ],
   "source": [
    "f(5,6)"
   ]
  },
  {
   "cell_type": "code",
   "execution_count": 77,
   "id": "fd954dd6",
   "metadata": {},
   "outputs": [],
   "source": [
    "week = ['mon', 'tue', 'wed']"
   ]
  },
  {
   "cell_type": "code",
   "execution_count": 78,
   "id": "759172fc",
   "metadata": {},
   "outputs": [
    {
     "data": {
      "text/plain": [
       "['MON', 'TUE', 'WED']"
      ]
     },
     "execution_count": 78,
     "metadata": {},
     "output_type": "execute_result"
    }
   ],
   "source": [
    "list(map(lambda x: x.upper(), week))"
   ]
  },
  {
   "cell_type": "code",
   "execution_count": 79,
   "id": "56462f23",
   "metadata": {},
   "outputs": [
    {
     "name": "stdout",
     "output_type": "stream",
     "text": [
      "Enter a number: \n"
     ]
    },
    {
     "ename": "ValueError",
     "evalue": "invalid literal for int() with base 10: ''",
     "output_type": "error",
     "traceback": [
      "\u001b[0;31m---------------------------------------------------------------------------\u001b[0m",
      "\u001b[0;31mValueError\u001b[0m                                Traceback (most recent call last)",
      "Input \u001b[0;32mIn [79]\u001b[0m, in \u001b[0;36m<cell line: 5>\u001b[0;34m()\u001b[0m\n\u001b[1;32m      1\u001b[0m \u001b[38;5;66;03m## Create a function take a number from user and \u001b[39;00m\n\u001b[1;32m      2\u001b[0m \u001b[38;5;66;03m## print (\"Even\") if number is even or (\"Odd\") if number is odd\u001b[39;00m\n\u001b[1;32m      4\u001b[0m number_str \u001b[38;5;241m=\u001b[39m \u001b[38;5;28minput\u001b[39m(\u001b[38;5;124m\"\u001b[39m\u001b[38;5;124mEnter a number: \u001b[39m\u001b[38;5;124m\"\u001b[39m)\n\u001b[0;32m----> 5\u001b[0m number_int \u001b[38;5;241m=\u001b[39m \u001b[38;5;28;43mint\u001b[39;49m\u001b[43m(\u001b[49m\u001b[43mnumber_str\u001b[49m\u001b[43m)\u001b[49m\n\u001b[1;32m      6\u001b[0m \u001b[38;5;28;01mif\u001b[39;00m number_int\u001b[38;5;241m%\u001b[39m\u001b[38;5;241m2\u001b[39m \u001b[38;5;241m==\u001b[39m \u001b[38;5;241m0\u001b[39m:\n\u001b[1;32m      7\u001b[0m     \u001b[38;5;28mprint\u001b[39m(\u001b[38;5;124m\"\u001b[39m\u001b[38;5;124mEven\u001b[39m\u001b[38;5;124m\"\u001b[39m)\n",
      "\u001b[0;31mValueError\u001b[0m: invalid literal for int() with base 10: ''"
     ]
    }
   ],
   "source": [
    "## Create a function take a number from user and \n",
    "## print (\"Even\") if number is even or (\"Odd\") if number is odd\n",
    "\n",
    "number_str = input(\"Enter a number: \")\n",
    "number_int = int(number_str)\n",
    "if number_int%2 == 0:\n",
    "    print(\"Even\")\n",
    "else:\n",
    "    print(\"Odd\")"
   ]
  },
  {
   "cell_type": "code",
   "execution_count": 80,
   "id": "61cf4574",
   "metadata": {},
   "outputs": [],
   "source": [
    "def print_even_odd_number(x):\n",
    "    if x%2 == 0:\n",
    "        print(\"Even\")\n",
    "    else:\n",
    "        print(\"Odd\")"
   ]
  },
  {
   "cell_type": "code",
   "execution_count": 81,
   "id": "4fcd1409",
   "metadata": {},
   "outputs": [
    {
     "name": "stdout",
     "output_type": "stream",
     "text": [
      "Odd\n"
     ]
    }
   ],
   "source": [
    "print_even_odd_number(5)"
   ]
  },
  {
   "cell_type": "code",
   "execution_count": 82,
   "id": "f1094604",
   "metadata": {},
   "outputs": [
    {
     "name": "stdout",
     "output_type": "stream",
     "text": [
      "Even\n"
     ]
    }
   ],
   "source": [
    "print_even_odd_number(4)"
   ]
  },
  {
   "cell_type": "code",
   "execution_count": 83,
   "id": "080e142b",
   "metadata": {},
   "outputs": [
    {
     "data": {
      "text/plain": [
       "['Odd', 'Even', 'Odd']"
      ]
     },
     "execution_count": 83,
     "metadata": {},
     "output_type": "execute_result"
    }
   ],
   "source": [
    "### rewrite with lambda\n",
    "\n",
    "list(map(lambda n : \"Even\" if int(n)%2 == 0 else \"Odd\", [1, 2, 3]))"
   ]
  },
  {
   "cell_type": "markdown",
   "id": "641e5479",
   "metadata": {},
   "source": [
    "## Tuple\n",
    "### What if we need to save multiple data types"
   ]
  },
  {
   "cell_type": "code",
   "execution_count": 84,
   "id": "68c4bc2d",
   "metadata": {},
   "outputs": [],
   "source": [
    "alist = [1, 2, 3]"
   ]
  },
  {
   "cell_type": "code",
   "execution_count": 85,
   "id": "9c763c6f",
   "metadata": {},
   "outputs": [],
   "source": [
    "alist[0] = 100"
   ]
  },
  {
   "cell_type": "code",
   "execution_count": 86,
   "id": "b8d72912",
   "metadata": {},
   "outputs": [],
   "source": [
    "# tuple\n",
    "t = tuple(alist)"
   ]
  },
  {
   "cell_type": "code",
   "execution_count": 87,
   "id": "a6664ce5",
   "metadata": {},
   "outputs": [
    {
     "data": {
      "text/plain": [
       "(100, 2, 3)"
      ]
     },
     "execution_count": 87,
     "metadata": {},
     "output_type": "execute_result"
    }
   ],
   "source": [
    "t"
   ]
  },
  {
   "cell_type": "code",
   "execution_count": 88,
   "id": "b72ad10b",
   "metadata": {},
   "outputs": [
    {
     "ename": "TypeError",
     "evalue": "'tuple' object does not support item assignment",
     "output_type": "error",
     "traceback": [
      "\u001b[0;31m---------------------------------------------------------------------------\u001b[0m",
      "\u001b[0;31mTypeError\u001b[0m                                 Traceback (most recent call last)",
      "Input \u001b[0;32mIn [88]\u001b[0m, in \u001b[0;36m<cell line: 1>\u001b[0;34m()\u001b[0m\n\u001b[0;32m----> 1\u001b[0m t[\u001b[38;5;241m0\u001b[39m] \u001b[38;5;241m=\u001b[39m \u001b[38;5;241m1\u001b[39m\n",
      "\u001b[0;31mTypeError\u001b[0m: 'tuple' object does not support item assignment"
     ]
    }
   ],
   "source": [
    "t[0] = 1"
   ]
  },
  {
   "cell_type": "code",
   "execution_count": 89,
   "id": "8a054be4",
   "metadata": {},
   "outputs": [],
   "source": [
    "## Tuple does not support item assignemnt\n",
    "### List is mutable\n",
    "### Tuple is immutable, faster than list"
   ]
  },
  {
   "cell_type": "code",
   "execution_count": 90,
   "id": "b370cef5",
   "metadata": {},
   "outputs": [],
   "source": [
    "## What if we store heterogenous items\n",
    "## Employee database, ok for tuple to have different data types\n",
    "employee = (345, \"John\", \"Johnson\", \"IT\")"
   ]
  },
  {
   "cell_type": "code",
   "execution_count": 91,
   "id": "4b1975c9",
   "metadata": {},
   "outputs": [
    {
     "data": {
      "text/plain": [
       "tuple"
      ]
     },
     "execution_count": 91,
     "metadata": {},
     "output_type": "execute_result"
    }
   ],
   "source": [
    "type(employee)"
   ]
  },
  {
   "cell_type": "code",
   "execution_count": 92,
   "id": "b4a5f97d",
   "metadata": {},
   "outputs": [
    {
     "data": {
      "text/plain": [
       "'John'"
      ]
     },
     "execution_count": 92,
     "metadata": {},
     "output_type": "execute_result"
    }
   ],
   "source": [
    "employee[1]"
   ]
  },
  {
   "cell_type": "code",
   "execution_count": 93,
   "id": "5514abfe",
   "metadata": {},
   "outputs": [],
   "source": [
    "## Assign at the same time (simultaneous)\n",
    "em_id, first, last, dep = employee"
   ]
  },
  {
   "cell_type": "code",
   "execution_count": 94,
   "id": "336a43e6",
   "metadata": {},
   "outputs": [
    {
     "data": {
      "text/plain": [
       "(1, 2)"
      ]
     },
     "execution_count": 94,
     "metadata": {},
     "output_type": "execute_result"
    }
   ],
   "source": [
    "## Gets result\n",
    "\n",
    "divmod(5, 3) # use shift + tab"
   ]
  },
  {
   "cell_type": "code",
   "execution_count": 95,
   "id": "6d530612",
   "metadata": {},
   "outputs": [],
   "source": [
    "a, b = divmod(5, 3)"
   ]
  },
  {
   "cell_type": "code",
   "execution_count": 96,
   "id": "7c6c57f8",
   "metadata": {},
   "outputs": [
    {
     "data": {
      "text/plain": [
       "1"
      ]
     },
     "execution_count": 96,
     "metadata": {},
     "output_type": "execute_result"
    }
   ],
   "source": [
    "a"
   ]
  },
  {
   "cell_type": "code",
   "execution_count": 97,
   "id": "0972a9c1",
   "metadata": {},
   "outputs": [
    {
     "name": "stdout",
     "output_type": "stream",
     "text": [
      "345\n",
      "John\n",
      "Johnson\n",
      "IT\n"
     ]
    }
   ],
   "source": [
    "## iterate through a tuple\n",
    "for item in employee:\n",
    "    print(item)"
   ]
  },
  {
   "cell_type": "code",
   "execution_count": 98,
   "id": "e0e72070",
   "metadata": {},
   "outputs": [
    {
     "name": "stdout",
     "output_type": "stream",
     "text": [
      "0\n",
      "1\n",
      "2\n",
      "3\n",
      "4\n",
      "5\n",
      "6\n",
      "7\n",
      "8\n",
      "9\n"
     ]
    }
   ],
   "source": [
    "# don't confuse with slicing\n",
    "range(10) \n",
    "# stop is exclusive\n",
    "for i in range(10):\n",
    "    print (i)"
   ]
  },
  {
   "cell_type": "code",
   "execution_count": 99,
   "id": "b6f669ce",
   "metadata": {},
   "outputs": [
    {
     "name": "stdout",
     "output_type": "stream",
     "text": [
      "1\n",
      "2\n",
      "3\n",
      "4\n",
      "5\n",
      "6\n",
      "7\n",
      "8\n",
      "9\n",
      "10\n"
     ]
    }
   ],
   "source": [
    "for i in range(1, 11, 1):\n",
    "    print (i)"
   ]
  },
  {
   "cell_type": "code",
   "execution_count": 100,
   "id": "b4c19cfe",
   "metadata": {},
   "outputs": [
    {
     "name": "stdout",
     "output_type": "stream",
     "text": [
      "10\n",
      "9\n",
      "8\n",
      "7\n",
      "6\n",
      "5\n",
      "4\n",
      "3\n",
      "2\n",
      "1\n"
     ]
    }
   ],
   "source": [
    "word = \"apple\"\n",
    "len(word)\n",
    "for i in range(10, 0, -1):\n",
    "    print (i)"
   ]
  },
  {
   "cell_type": "code",
   "execution_count": 101,
   "id": "ec9e20fa",
   "metadata": {},
   "outputs": [
    {
     "data": {
      "text/plain": [
       "int"
      ]
     },
     "execution_count": 101,
     "metadata": {},
     "output_type": "execute_result"
    }
   ],
   "source": [
    "type(len(word))"
   ]
  },
  {
   "cell_type": "code",
   "execution_count": 102,
   "id": "246c6bf0",
   "metadata": {},
   "outputs": [
    {
     "name": "stdout",
     "output_type": "stream",
     "text": [
      "4 e\n",
      "3 l\n",
      "2 p\n",
      "1 p\n",
      "0 a\n"
     ]
    }
   ],
   "source": [
    "word = \"apple\"\n",
    "\n",
    "for i in range(len(word)):\n",
    "    print(len(word)-i-1, word[len(word)-i-1])"
   ]
  },
  {
   "cell_type": "code",
   "execution_count": 103,
   "id": "823ad815",
   "metadata": {},
   "outputs": [
    {
     "name": "stdout",
     "output_type": "stream",
     "text": [
      "4 e\n",
      "3 l\n",
      "2 p\n",
      "1 p\n",
      "0 a\n"
     ]
    }
   ],
   "source": [
    "# Palindrome problem\n",
    "for i in range(len(word)-1, -1, -1):\n",
    "    print(i, word[i])"
   ]
  },
  {
   "cell_type": "markdown",
   "id": "b8b4062b",
   "metadata": {},
   "source": [
    "## Set"
   ]
  },
  {
   "cell_type": "code",
   "execution_count": 104,
   "id": "2ff5d474",
   "metadata": {},
   "outputs": [],
   "source": [
    "## Collection of UNIQUE and IMMUTABLE items\n",
    "s = set(\"APPLE\")"
   ]
  },
  {
   "cell_type": "code",
   "execution_count": 105,
   "id": "2a59405e",
   "metadata": {},
   "outputs": [
    {
     "data": {
      "text/plain": [
       "{'A', 'E', 'L', 'P'}"
      ]
     },
     "execution_count": 105,
     "metadata": {},
     "output_type": "execute_result"
    }
   ],
   "source": [
    "s"
   ]
  },
  {
   "cell_type": "code",
   "execution_count": 106,
   "id": "3e4e9f52",
   "metadata": {},
   "outputs": [],
   "source": [
    "s = set(['APPLE', 'APPLE', 'APPLE', 'BANANA'])"
   ]
  },
  {
   "cell_type": "code",
   "execution_count": 107,
   "id": "c0930adb",
   "metadata": {},
   "outputs": [
    {
     "data": {
      "text/plain": [
       "{'APPLE', 'BANANA'}"
      ]
     },
     "execution_count": 107,
     "metadata": {},
     "output_type": "execute_result"
    }
   ],
   "source": [
    "s"
   ]
  },
  {
   "cell_type": "code",
   "execution_count": 108,
   "id": "0881c2a1",
   "metadata": {},
   "outputs": [
    {
     "data": {
      "text/plain": [
       "{2, 4}"
      ]
     },
     "execution_count": 108,
     "metadata": {},
     "output_type": "execute_result"
    }
   ],
   "source": [
    "## Use case, find intersect between two collections\n",
    "s = {1, 2, 3, 4}\n",
    "s2 = {2, 4, 5, 6}\n",
    "s.intersection(s2)"
   ]
  },
  {
   "cell_type": "code",
   "execution_count": 109,
   "id": "f5e44295",
   "metadata": {},
   "outputs": [
    {
     "data": {
      "text/plain": [
       "{1, 3}"
      ]
     },
     "execution_count": 109,
     "metadata": {},
     "output_type": "execute_result"
    }
   ],
   "source": [
    "s.difference(s2)"
   ]
  },
  {
   "cell_type": "markdown",
   "id": "17557a67",
   "metadata": {},
   "source": [
    "## Dictionary"
   ]
  },
  {
   "cell_type": "code",
   "execution_count": 110,
   "id": "43c189ea",
   "metadata": {},
   "outputs": [],
   "source": [
    "## Set and Dict both of curly brackets\n",
    "## Collection of pairs of keys and values"
   ]
  },
  {
   "cell_type": "code",
   "execution_count": 111,
   "id": "48577843",
   "metadata": {},
   "outputs": [],
   "source": [
    "d = {}\n",
    "d[\"Mary\"] = 43242344"
   ]
  },
  {
   "cell_type": "code",
   "execution_count": 112,
   "id": "8c1bb792",
   "metadata": {},
   "outputs": [],
   "source": [
    "d[\"John\"] = 435435434"
   ]
  },
  {
   "cell_type": "code",
   "execution_count": 113,
   "id": "177c27dd",
   "metadata": {},
   "outputs": [],
   "source": [
    "## One to one relationship, if not, multiple?\n",
    "## 1. keys gotta be unique\n",
    "## 2. Only immutable datatype could be used as a key in the dictionary\n",
    "#### tuple? Yes. \n",
    "####  (eg. the employee data can be used as the key)\n",
    "#### True or False can be used as keys in the dictionary\n",
    "####  boolean can be used a s key"
   ]
  },
  {
   "cell_type": "code",
   "execution_count": 114,
   "id": "b1cbd67d",
   "metadata": {},
   "outputs": [
    {
     "data": {
      "text/plain": [
       "False"
      ]
     },
     "execution_count": 114,
     "metadata": {},
     "output_type": "execute_result"
    }
   ],
   "source": [
    "True == False"
   ]
  },
  {
   "cell_type": "code",
   "execution_count": 115,
   "id": "09af2728",
   "metadata": {},
   "outputs": [],
   "source": [
    "d[True] = None"
   ]
  },
  {
   "cell_type": "code",
   "execution_count": 116,
   "id": "eb580a10",
   "metadata": {},
   "outputs": [
    {
     "data": {
      "text/plain": [
       "{'Mary': 43242344, 'John': 435435434, True: None}"
      ]
     },
     "execution_count": 116,
     "metadata": {},
     "output_type": "execute_result"
    }
   ],
   "source": [
    "d"
   ]
  },
  {
   "cell_type": "code",
   "execution_count": 117,
   "id": "efd8998c",
   "metadata": {},
   "outputs": [],
   "source": [
    "del d[True]"
   ]
  },
  {
   "cell_type": "code",
   "execution_count": 118,
   "id": "1971c89a",
   "metadata": {},
   "outputs": [
    {
     "data": {
      "text/plain": [
       "{'Mary': 43242344, 'John': 435435434}"
      ]
     },
     "execution_count": 118,
     "metadata": {},
     "output_type": "execute_result"
    }
   ],
   "source": [
    "d"
   ]
  },
  {
   "cell_type": "code",
   "execution_count": 119,
   "id": "63a4cc25",
   "metadata": {},
   "outputs": [],
   "source": [
    "## Items stored in dictionary or list, which one if faster?\n",
    "### List: need to iterate through the list to find \"bananas\"\n",
    "### Dictionary: if key is unique, one operation to find \"bananas\", it is a hash table\n"
   ]
  },
  {
   "cell_type": "code",
   "execution_count": 120,
   "id": "f8e1a79b",
   "metadata": {},
   "outputs": [
    {
     "data": {
      "text/plain": [
       "dict_keys(['Mary', 'John'])"
      ]
     },
     "execution_count": 120,
     "metadata": {},
     "output_type": "execute_result"
    }
   ],
   "source": [
    "d.keys()"
   ]
  },
  {
   "cell_type": "code",
   "execution_count": 121,
   "id": "41a5679b",
   "metadata": {},
   "outputs": [],
   "source": [
    "## Dictionary: \n",
    "### fetch data from dictionary\n",
    "### look over the keys"
   ]
  },
  {
   "cell_type": "code",
   "execution_count": 122,
   "id": "c7707714",
   "metadata": {},
   "outputs": [
    {
     "data": {
      "text/plain": [
       "['John', 'Mary']"
      ]
     },
     "execution_count": 122,
     "metadata": {},
     "output_type": "execute_result"
    }
   ],
   "source": [
    "alist = list(d.keys())\n",
    "alist.sort()\n",
    "alist"
   ]
  },
  {
   "cell_type": "code",
   "execution_count": 123,
   "id": "71fe6350",
   "metadata": {},
   "outputs": [],
   "source": [
    "menu = {\"Hamburger\": 5.75, \"Nachos\": 9.99, \\\n",
    "       \"Salad\": 3.99}"
   ]
  },
  {
   "cell_type": "code",
   "execution_count": 124,
   "id": "7a1cf14a",
   "metadata": {},
   "outputs": [],
   "source": [
    "menu = {\"Hamburger\":5.75, \"Nachos\":9.99, \"Salad\":3.99}\n",
    "sale = {}\n",
    "## reduce prices by 10%"
   ]
  },
  {
   "cell_type": "code",
   "execution_count": 125,
   "id": "5646957f",
   "metadata": {},
   "outputs": [
    {
     "name": "stdout",
     "output_type": "stream",
     "text": [
      "Hamburger 5.75\n",
      "Nachos 9.99\n",
      "Salad 3.99\n"
     ]
    }
   ],
   "source": [
    "## Iterate through a dictionary\n",
    "\n",
    "for item in menu:\n",
    "    print(item, menu[item])"
   ]
  },
  {
   "cell_type": "code",
   "execution_count": 126,
   "id": "0f94df0d",
   "metadata": {},
   "outputs": [
    {
     "data": {
      "text/plain": [
       "dict_items([('Hamburger', 5.75), ('Nachos', 9.99), ('Salad', 3.99)])"
      ]
     },
     "execution_count": 126,
     "metadata": {},
     "output_type": "execute_result"
    }
   ],
   "source": [
    "# A list of tuples\n",
    "menu.items()"
   ]
  },
  {
   "cell_type": "code",
   "execution_count": 127,
   "id": "8e489590",
   "metadata": {},
   "outputs": [
    {
     "name": "stdout",
     "output_type": "stream",
     "text": [
      "Hamburger 5.75\n",
      "Nachos 9.99\n",
      "Salad 3.99\n"
     ]
    }
   ],
   "source": [
    "for k, v in menu.items():\n",
    "    print(k, v)"
   ]
  },
  {
   "cell_type": "code",
   "execution_count": 128,
   "id": "c39ce5ee",
   "metadata": {},
   "outputs": [],
   "source": [
    "sale = {}\n",
    "for k, v in menu.items():\n",
    "    v_new = float(v)*0.9\n",
    "    sale[k] = v_new"
   ]
  },
  {
   "cell_type": "code",
   "execution_count": 129,
   "id": "b816a08b",
   "metadata": {},
   "outputs": [
    {
     "data": {
      "text/plain": [
       "{'Hamburger': 5.175, 'Nachos': 8.991, 'Salad': 3.591}"
      ]
     },
     "execution_count": 129,
     "metadata": {},
     "output_type": "execute_result"
    }
   ],
   "source": [
    "sale"
   ]
  },
  {
   "cell_type": "code",
   "execution_count": 130,
   "id": "a34e3364",
   "metadata": {},
   "outputs": [
    {
     "data": {
      "text/plain": [
       "{'Hamburger': 5.175, 'Nachos': 8.991, 'Salad': 3.591}"
      ]
     },
     "execution_count": 130,
     "metadata": {},
     "output_type": "execute_result"
    }
   ],
   "source": [
    "## use dictionary comprehension\n",
    "sale = {key:value*0.9 for (key,value) in menu.items()}\n",
    "sale"
   ]
  },
  {
   "cell_type": "code",
   "execution_count": 131,
   "id": "baa46668",
   "metadata": {},
   "outputs": [
    {
     "data": {
      "text/plain": [
       "{'Hamburger': 5.75, 'Nachos': 9.99, 'Salad': 3.99}"
      ]
     },
     "execution_count": 131,
     "metadata": {},
     "output_type": "execute_result"
    }
   ],
   "source": [
    "menu"
   ]
  },
  {
   "cell_type": "code",
   "execution_count": 132,
   "id": "f3e888ab",
   "metadata": {},
   "outputs": [
    {
     "data": {
      "text/plain": [
       "{'Hamburger': 5.175, 'Nachos': 8.991, 'Salad': 3.591}"
      ]
     },
     "execution_count": 132,
     "metadata": {},
     "output_type": "execute_result"
    }
   ],
   "source": [
    "sale"
   ]
  },
  {
   "cell_type": "code",
   "execution_count": 133,
   "id": "c3f667a5",
   "metadata": {},
   "outputs": [
    {
     "data": {
      "text/plain": [
       "5.75"
      ]
     },
     "execution_count": 133,
     "metadata": {},
     "output_type": "execute_result"
    }
   ],
   "source": [
    "menu['Hamburger']"
   ]
  },
  {
   "cell_type": "code",
   "execution_count": 134,
   "id": "dea8bf59",
   "metadata": {},
   "outputs": [
    {
     "data": {
      "text/plain": [
       "'Nope'"
      ]
     },
     "execution_count": 134,
     "metadata": {},
     "output_type": "execute_result"
    }
   ],
   "source": [
    "# If key is correct, return value\n",
    "# If key not on the menu, get default value\n",
    "# Keep code running\n",
    "menu.get(\"Hamburger\", \"Nope\")\n",
    "menu.get(\"Cookie\", \"Nope\")"
   ]
  },
  {
   "cell_type": "markdown",
   "id": "94e344a3",
   "metadata": {},
   "source": [
    "## Try and Except\n",
    "### Keep the program running"
   ]
  },
  {
   "cell_type": "code",
   "execution_count": 135,
   "id": "b95454d2",
   "metadata": {},
   "outputs": [
    {
     "ename": "TypeError",
     "evalue": "unsupported operand type(s) for +: 'int' and 'str'",
     "output_type": "error",
     "traceback": [
      "\u001b[0;31m---------------------------------------------------------------------------\u001b[0m",
      "\u001b[0;31mTypeError\u001b[0m                                 Traceback (most recent call last)",
      "Input \u001b[0;32mIn [135]\u001b[0m, in \u001b[0;36m<cell line: 1>\u001b[0;34m()\u001b[0m\n\u001b[0;32m----> 1\u001b[0m \u001b[38;5;241;43m7\u001b[39;49m\u001b[43m \u001b[49m\u001b[38;5;241;43m+\u001b[39;49m\u001b[43m \u001b[49m\u001b[38;5;124;43m\"\u001b[39;49m\u001b[38;5;124;43m7\u001b[39;49m\u001b[38;5;124;43m\"\u001b[39;49m\n",
      "\u001b[0;31mTypeError\u001b[0m: unsupported operand type(s) for +: 'int' and 'str'"
     ]
    }
   ],
   "source": [
    "7 + \"7\""
   ]
  },
  {
   "cell_type": "code",
   "execution_count": 136,
   "id": "84cffd03",
   "metadata": {},
   "outputs": [
    {
     "name": "stdout",
     "output_type": "stream",
     "text": [
      "Check that number\n"
     ]
    }
   ],
   "source": [
    "try:\n",
    "    number = 7 + \"7\"\n",
    "except:\n",
    "    print(\"Check that number\")\n",
    "    number = 0"
   ]
  },
  {
   "cell_type": "code",
   "execution_count": 137,
   "id": "8cf066cd",
   "metadata": {},
   "outputs": [],
   "source": [
    "menu[\"Salad\"] = [3.99, 5.99, 9.99]"
   ]
  },
  {
   "cell_type": "code",
   "execution_count": 138,
   "id": "a757aefb",
   "metadata": {},
   "outputs": [
    {
     "data": {
      "text/plain": [
       "{'Hamburger': 5.75, 'Nachos': 9.99, 'Salad': [3.99, 5.99, 9.99]}"
      ]
     },
     "execution_count": 138,
     "metadata": {},
     "output_type": "execute_result"
    }
   ],
   "source": [
    "menu"
   ]
  },
  {
   "cell_type": "code",
   "execution_count": 139,
   "id": "c8428bec",
   "metadata": {},
   "outputs": [
    {
     "data": {
      "text/plain": [
       "dict_keys(['Hamburger', 'Nachos', 'Salad'])"
      ]
     },
     "execution_count": 139,
     "metadata": {},
     "output_type": "execute_result"
    }
   ],
   "source": [
    "menu.keys()"
   ]
  },
  {
   "cell_type": "code",
   "execution_count": 140,
   "id": "4407eb86",
   "metadata": {},
   "outputs": [
    {
     "data": {
      "text/plain": [
       "list"
      ]
     },
     "execution_count": 140,
     "metadata": {},
     "output_type": "execute_result"
    }
   ],
   "source": [
    "type(menu[\"Salad\"])"
   ]
  },
  {
   "cell_type": "code",
   "execution_count": 141,
   "id": "8a34822b",
   "metadata": {},
   "outputs": [
    {
     "data": {
      "text/plain": [
       "9.99"
      ]
     },
     "execution_count": 141,
     "metadata": {},
     "output_type": "execute_result"
    }
   ],
   "source": [
    "menu[\"Salad\"][-1]"
   ]
  },
  {
   "cell_type": "code",
   "execution_count": 142,
   "id": "e881e8a7",
   "metadata": {},
   "outputs": [],
   "source": [
    "menu[\"Salad\"] = {'S': 3.99, \"M\": 5.99, \"L\": 9.99}"
   ]
  },
  {
   "cell_type": "code",
   "execution_count": 143,
   "id": "ed77899f",
   "metadata": {},
   "outputs": [
    {
     "data": {
      "text/plain": [
       "3.99"
      ]
     },
     "execution_count": 143,
     "metadata": {},
     "output_type": "execute_result"
    }
   ],
   "source": [
    "menu['Salad']['S']"
   ]
  },
  {
   "cell_type": "code",
   "execution_count": 144,
   "id": "cadd2255",
   "metadata": {},
   "outputs": [
    {
     "data": {
      "text/plain": [
       "3"
      ]
     },
     "execution_count": 144,
     "metadata": {},
     "output_type": "execute_result"
    }
   ],
   "source": [
    "len(menu)"
   ]
  },
  {
   "cell_type": "markdown",
   "id": "7ae97d12",
   "metadata": {},
   "source": [
    "## Args and kwargs"
   ]
  },
  {
   "cell_type": "code",
   "execution_count": 145,
   "id": "090cc526",
   "metadata": {},
   "outputs": [],
   "source": [
    "def add(a,b):\n",
    "    total = a + b\n",
    "    return total"
   ]
  },
  {
   "cell_type": "code",
   "execution_count": 146,
   "id": "03d4f805",
   "metadata": {},
   "outputs": [],
   "source": [
    "## Function takes arguments, but we do not how many, come in \"tuples\"\n",
    "def add(*args):\n",
    "    print(type(args))"
   ]
  },
  {
   "cell_type": "code",
   "execution_count": 147,
   "id": "274395b8",
   "metadata": {},
   "outputs": [
    {
     "name": "stdout",
     "output_type": "stream",
     "text": [
      "<class 'tuple'>\n"
     ]
    }
   ],
   "source": [
    "add(1, 2, 3)"
   ]
  },
  {
   "cell_type": "code",
   "execution_count": 148,
   "id": "06faaa36",
   "metadata": {},
   "outputs": [],
   "source": [
    "# args come in tuples\n",
    "def add(word, *args):\n",
    "    print(word, sum(args))"
   ]
  },
  {
   "cell_type": "code",
   "execution_count": 149,
   "id": "d71964b3",
   "metadata": {},
   "outputs": [
    {
     "name": "stdout",
     "output_type": "stream",
     "text": [
      "Hello 6\n"
     ]
    }
   ],
   "source": [
    "add(\"Hello\", 1,2,3)"
   ]
  },
  {
   "cell_type": "code",
   "execution_count": 150,
   "id": "9db8ce7e",
   "metadata": {},
   "outputs": [],
   "source": [
    "def my_fun(word, *args, **kwargs):\n",
    "    print(word)\n",
    "    print(args)\n",
    "    # keyword arguments\n",
    "    print(kwargs)"
   ]
  },
  {
   "cell_type": "code",
   "execution_count": 151,
   "id": "4b73b5ee",
   "metadata": {},
   "outputs": [
    {
     "name": "stdout",
     "output_type": "stream",
     "text": [
      "1\n",
      "(2, 3, 4, 5)\n",
      "{'name': 'Jeter', 'team': 'Yankees', 'sport': 'baseballl'}\n"
     ]
    }
   ],
   "source": [
    "my_fun(1, 2, 3, 4, 5, name='Jeter', team='Yankees', sport=\"baseballl\")"
   ]
  },
  {
   "cell_type": "markdown",
   "id": "1ca821dc",
   "metadata": {},
   "source": [
    "## For loop vs While loop"
   ]
  },
  {
   "cell_type": "code",
   "execution_count": 152,
   "id": "c37e19b6",
   "metadata": {},
   "outputs": [],
   "source": [
    "## For loop goes one by one in the sequence\n",
    "#### don't do nested loops\n",
    "## While loop faster as it checks conditions\n"
   ]
  },
  {
   "cell_type": "code",
   "execution_count": 153,
   "id": "7b92944a",
   "metadata": {},
   "outputs": [
    {
     "name": "stdout",
     "output_type": "stream",
     "text": [
      "1 2 3 4 5 6 7 8 9 10 "
     ]
    }
   ],
   "source": [
    "# print\n",
    "\n",
    "for i in range(1,11):\n",
    "    print(i, end = \" \")"
   ]
  },
  {
   "cell_type": "code",
   "execution_count": 154,
   "id": "fed5ded0",
   "metadata": {},
   "outputs": [
    {
     "name": "stdout",
     "output_type": "stream",
     "text": [
      "   1    2    3    4    5    6    7    8    9   10    2    4    6    8   10   12   14   16   18   20    3    6    9   12   15   18   21   24   27   30    4    8   12   16   20   24   28   32   36   40    5   10   15   20   25   30   35   40   45   50    6   12   18   24   30   36   42   48   54   60    7   14   21   28   35   42   49   56   63   70    8   16   24   32   40   48   56   64   72   80    9   18   27   36   45   54   63   72   81   90   10   20   30   40   50   60   70   80   90  100 "
     ]
    }
   ],
   "source": [
    "## nested loops, how many operations\n",
    "## increase runtime complexity, code run slower\n",
    "\n",
    "for i in range(1,11):\n",
    "    for j in range(1, 11):\n",
    "        print(\"{:4}\".format(i*j), end=\" \")"
   ]
  },
  {
   "cell_type": "code",
   "execution_count": 155,
   "id": "3517f78a",
   "metadata": {},
   "outputs": [],
   "source": [
    "## Note: will do vectorized operation"
   ]
  },
  {
   "cell_type": "code",
   "execution_count": 156,
   "id": "4b91a921",
   "metadata": {},
   "outputs": [
    {
     "ename": "SyntaxError",
     "evalue": "invalid syntax (550072352.py, line 3)",
     "output_type": "error",
     "traceback": [
      "\u001b[0;36m  Input \u001b[0;32mIn [156]\u001b[0;36m\u001b[0m\n\u001b[0;31m    do something\u001b[0m\n\u001b[0m       ^\u001b[0m\n\u001b[0;31mSyntaxError\u001b[0m\u001b[0;31m:\u001b[0m invalid syntax\n"
     ]
    }
   ],
   "source": [
    "## while loop faster, depends on conditions\n",
    "while condition:\n",
    "    do something"
   ]
  },
  {
   "cell_type": "code",
   "execution_count": 157,
   "id": "3e1f9db0",
   "metadata": {},
   "outputs": [
    {
     "name": "stdout",
     "output_type": "stream",
     "text": [
      "0\n",
      "1\n",
      "2\n",
      "3\n",
      "4\n"
     ]
    }
   ],
   "source": [
    "counter = 0 \n",
    "# infinite loop\n",
    "#while counter < 5:\n",
    "#    print(counter)\n",
    "\n",
    "while counter < 5:\n",
    "    print(counter)\n",
    "    counter += 1"
   ]
  },
  {
   "cell_type": "code",
   "execution_count": 158,
   "id": "4da6be78",
   "metadata": {},
   "outputs": [
    {
     "name": "stdout",
     "output_type": "stream",
     "text": [
      "hello\n"
     ]
    }
   ],
   "source": [
    "flagVar = True\n",
    "\n",
    "# be very careful with flagVar\n",
    "while flagVar:\n",
    "    print(\"hello\")\n",
    "    flagVar = False"
   ]
  },
  {
   "cell_type": "code",
   "execution_count": 159,
   "id": "9a5e9a68",
   "metadata": {},
   "outputs": [
    {
     "name": "stdout",
     "output_type": "stream",
     "text": [
      "What else should i get? milk\n",
      "What else should i get?stop\n",
      "['bananas', 'oranges', 'mangos', 'milk']\n"
     ]
    }
   ],
   "source": [
    "## Plotting libraries\n",
    "\n",
    "shopping_list = [\"bananas\", \"oranges\", \"mangos\"]\n",
    "\n",
    "item = input(\"What else should i get? \")\n",
    "while item != \"stop\":\n",
    "    if item not in set(shopping_list):\n",
    "        shopping_list.append(item)\n",
    "    item = input(\"What else should i get?\")\n",
    "print(shopping_list)"
   ]
  },
  {
   "cell_type": "code",
   "execution_count": 160,
   "id": "f3c042c5",
   "metadata": {},
   "outputs": [],
   "source": [
    "## Shopping list case\n",
    "# Can we use while and keep asking what else should I get? till user input stop "
   ]
  },
  {
   "cell_type": "markdown",
   "id": "534da2bf",
   "metadata": {},
   "source": [
    "## Numpy Arrays and Pandas"
   ]
  },
  {
   "cell_type": "code",
   "execution_count": 161,
   "id": "2da9d89b",
   "metadata": {},
   "outputs": [],
   "source": [
    "import numpy as np\n",
    "import pandas as pd"
   ]
  },
  {
   "cell_type": "code",
   "execution_count": 162,
   "id": "1ec1492b",
   "metadata": {},
   "outputs": [],
   "source": [
    "alist = [10, 20, 30, 40, 50]"
   ]
  },
  {
   "cell_type": "code",
   "execution_count": 163,
   "id": "5b3d6bdc",
   "metadata": {},
   "outputs": [
    {
     "ename": "TypeError",
     "evalue": "can only concatenate list (not \"int\") to list",
     "output_type": "error",
     "traceback": [
      "\u001b[0;31m---------------------------------------------------------------------------\u001b[0m",
      "\u001b[0;31mTypeError\u001b[0m                                 Traceback (most recent call last)",
      "Input \u001b[0;32mIn [163]\u001b[0m, in \u001b[0;36m<cell line: 1>\u001b[0;34m()\u001b[0m\n\u001b[0;32m----> 1\u001b[0m \u001b[43malist\u001b[49m\u001b[43m \u001b[49m\u001b[38;5;241;43m+\u001b[39;49m\u001b[43m \u001b[49m\u001b[38;5;241;43m5\u001b[39;49m\n",
      "\u001b[0;31mTypeError\u001b[0m: can only concatenate list (not \"int\") to list"
     ]
    }
   ],
   "source": [
    "alist + 5 # does not work"
   ]
  },
  {
   "cell_type": "code",
   "execution_count": 164,
   "id": "623bf14e",
   "metadata": {},
   "outputs": [
    {
     "data": {
      "text/plain": [
       "[10, 20, 30, 40, 50, 10, 20, 30, 40, 50]"
      ]
     },
     "execution_count": 164,
     "metadata": {},
     "output_type": "execute_result"
    }
   ],
   "source": [
    "alist + alist"
   ]
  },
  {
   "cell_type": "code",
   "execution_count": 165,
   "id": "ad415583",
   "metadata": {},
   "outputs": [],
   "source": [
    "a = np.array(alist)"
   ]
  },
  {
   "cell_type": "code",
   "execution_count": 166,
   "id": "2c6e168d",
   "metadata": {},
   "outputs": [
    {
     "data": {
      "text/plain": [
       "array([10, 20, 30, 40, 50])"
      ]
     },
     "execution_count": 166,
     "metadata": {},
     "output_type": "execute_result"
    }
   ],
   "source": [
    "a"
   ]
  },
  {
   "cell_type": "code",
   "execution_count": 167,
   "id": "869111ca",
   "metadata": {},
   "outputs": [],
   "source": [
    "# Why is numpy array faster than list?\n",
    "## List is mutable, python does not store spaces for these items\n",
    "## Python need time to collect items, allocate memory\n",
    "## List is heterogeneous, python quietly runs type(), takes tool and slow\n",
    "## For numpy array, all items stored in the same space, always homogeneous\n",
    "## - No way to squeeze in another dataset\n",
    "## - One dimensional vector, and perform vector operations"
   ]
  },
  {
   "cell_type": "code",
   "execution_count": 168,
   "id": "bc16f254",
   "metadata": {},
   "outputs": [
    {
     "name": "stdout",
     "output_type": "stream",
     "text": [
      "<class 'numpy.ndarray'>\n"
     ]
    }
   ],
   "source": [
    "# type of container\n",
    "print(type(a))"
   ]
  },
  {
   "cell_type": "code",
   "execution_count": 169,
   "id": "d57725c7",
   "metadata": {},
   "outputs": [
    {
     "data": {
      "text/plain": [
       "dtype('int64')"
      ]
     },
     "execution_count": 169,
     "metadata": {},
     "output_type": "execute_result"
    }
   ],
   "source": [
    "## data type of objects in container\n",
    "a.dtype"
   ]
  },
  {
   "cell_type": "code",
   "execution_count": 170,
   "id": "096b2313",
   "metadata": {},
   "outputs": [
    {
     "data": {
      "text/plain": [
       "array([10, 20, 30, 40, 50])"
      ]
     },
     "execution_count": 170,
     "metadata": {},
     "output_type": "execute_result"
    }
   ],
   "source": [
    "a"
   ]
  },
  {
   "cell_type": "code",
   "execution_count": 171,
   "id": "b353e8a4",
   "metadata": {},
   "outputs": [],
   "source": [
    "a[0] = 100.99"
   ]
  },
  {
   "cell_type": "code",
   "execution_count": 172,
   "id": "fde8909b",
   "metadata": {},
   "outputs": [
    {
     "data": {
      "text/plain": [
       "array([100,  20,  30,  40,  50])"
      ]
     },
     "execution_count": 172,
     "metadata": {},
     "output_type": "execute_result"
    }
   ],
   "source": [
    "## converts a[0] from float to int, due to the homogenous trait of numpy array\n",
    "a"
   ]
  },
  {
   "cell_type": "code",
   "execution_count": 173,
   "id": "2acd6c36",
   "metadata": {},
   "outputs": [
    {
     "data": {
      "text/plain": [
       "array([105,  25,  35,  45,  55])"
      ]
     },
     "execution_count": 173,
     "metadata": {},
     "output_type": "execute_result"
    }
   ],
   "source": [
    "## vectorized operations\n",
    "## Never ever for loop for an array\n",
    "a + 5"
   ]
  },
  {
   "cell_type": "code",
   "execution_count": 174,
   "id": "b69bf924",
   "metadata": {},
   "outputs": [],
   "source": [
    "## Use universal functions only (ufunctions)\n",
    "## What are the ufunctions? Built into numpy"
   ]
  },
  {
   "cell_type": "code",
   "execution_count": 175,
   "id": "c50c9fa3",
   "metadata": {},
   "outputs": [
    {
     "data": {
      "text/plain": [
       "240"
      ]
     },
     "execution_count": 175,
     "metadata": {},
     "output_type": "execute_result"
    }
   ],
   "source": [
    "sum(a)"
   ]
  },
  {
   "cell_type": "code",
   "execution_count": 176,
   "id": "0dc20fc0",
   "metadata": {},
   "outputs": [
    {
     "data": {
      "text/plain": [
       "240"
      ]
     },
     "execution_count": 176,
     "metadata": {},
     "output_type": "execute_result"
    }
   ],
   "source": [
    "## np.sum is faster and more efficient\n",
    "\n",
    "np.sum(a)"
   ]
  },
  {
   "cell_type": "code",
   "execution_count": 177,
   "id": "de684c7b",
   "metadata": {},
   "outputs": [],
   "source": [
    "big_array = np.random.rand(1000000)"
   ]
  },
  {
   "cell_type": "code",
   "execution_count": 178,
   "id": "bade85cf",
   "metadata": {},
   "outputs": [
    {
     "data": {
      "text/plain": [
       "array([0.49903934, 0.60058696, 0.8444942 , ..., 0.79385062, 0.19395023,\n",
       "       0.55699568])"
      ]
     },
     "execution_count": 178,
     "metadata": {},
     "output_type": "execute_result"
    }
   ],
   "source": [
    "big_array"
   ]
  },
  {
   "cell_type": "code",
   "execution_count": 179,
   "id": "e546d2a2",
   "metadata": {},
   "outputs": [
    {
     "name": "stdout",
     "output_type": "stream",
     "text": [
      "39.2 ms ± 1.18 ms per loop (mean ± std. dev. of 7 runs, 10 loops each)\n"
     ]
    }
   ],
   "source": [
    "%timeit sum(big_array)"
   ]
  },
  {
   "cell_type": "code",
   "execution_count": 180,
   "id": "d665e56d",
   "metadata": {},
   "outputs": [
    {
     "name": "stdout",
     "output_type": "stream",
     "text": [
      "193 µs ± 637 ns per loop (mean ± std. dev. of 7 runs, 10,000 loops each)\n"
     ]
    }
   ],
   "source": [
    "%timeit np.sum(big_array)"
   ]
  },
  {
   "cell_type": "code",
   "execution_count": 181,
   "id": "9a17ec8b",
   "metadata": {},
   "outputs": [],
   "source": [
    "## numpy array can be 2-D\n",
    "blist = [[10,20,30],[40,50,60],[70,80,90]]"
   ]
  },
  {
   "cell_type": "code",
   "execution_count": 182,
   "id": "aeb18d6a",
   "metadata": {},
   "outputs": [],
   "source": [
    "## np array has 6 major attributes\n",
    "### b.ndim, b.dtype, b.shape, b.size, b.itemsize (bytes per item), b.nbytes\n",
    "b = np.array(blist)"
   ]
  },
  {
   "cell_type": "code",
   "execution_count": 183,
   "id": "1c2bf978",
   "metadata": {},
   "outputs": [
    {
     "data": {
      "text/plain": [
       "array([[10, 20, 30],\n",
       "       [40, 50, 60],\n",
       "       [70, 80, 90]])"
      ]
     },
     "execution_count": 183,
     "metadata": {},
     "output_type": "execute_result"
    }
   ],
   "source": [
    "b"
   ]
  },
  {
   "cell_type": "code",
   "execution_count": 184,
   "id": "b580eb79",
   "metadata": {},
   "outputs": [
    {
     "data": {
      "text/plain": [
       "2"
      ]
     },
     "execution_count": 184,
     "metadata": {},
     "output_type": "execute_result"
    }
   ],
   "source": [
    "b.ndim"
   ]
  },
  {
   "cell_type": "code",
   "execution_count": 185,
   "id": "2e154622",
   "metadata": {},
   "outputs": [
    {
     "data": {
      "text/plain": [
       "dtype('int64')"
      ]
     },
     "execution_count": 185,
     "metadata": {},
     "output_type": "execute_result"
    }
   ],
   "source": [
    "b.dtype"
   ]
  },
  {
   "cell_type": "code",
   "execution_count": 186,
   "id": "acc4b302",
   "metadata": {},
   "outputs": [
    {
     "data": {
      "text/plain": [
       "(3, 3)"
      ]
     },
     "execution_count": 186,
     "metadata": {},
     "output_type": "execute_result"
    }
   ],
   "source": [
    "b.shape"
   ]
  },
  {
   "cell_type": "code",
   "execution_count": 187,
   "id": "6e01c0e2",
   "metadata": {},
   "outputs": [
    {
     "data": {
      "text/plain": [
       "9"
      ]
     },
     "execution_count": 187,
     "metadata": {},
     "output_type": "execute_result"
    }
   ],
   "source": [
    "b.size"
   ]
  },
  {
   "cell_type": "code",
   "execution_count": 188,
   "id": "08ce712d",
   "metadata": {},
   "outputs": [
    {
     "data": {
      "text/plain": [
       "8"
      ]
     },
     "execution_count": 188,
     "metadata": {},
     "output_type": "execute_result"
    }
   ],
   "source": [
    "b.itemsize"
   ]
  },
  {
   "cell_type": "code",
   "execution_count": 189,
   "id": "8cf4503f",
   "metadata": {},
   "outputs": [
    {
     "data": {
      "text/plain": [
       "72"
      ]
     },
     "execution_count": 189,
     "metadata": {},
     "output_type": "execute_result"
    }
   ],
   "source": [
    "b.nbytes"
   ]
  },
  {
   "cell_type": "code",
   "execution_count": 190,
   "id": "ae389fe5",
   "metadata": {},
   "outputs": [],
   "source": [
    "# [start:stop, start: stop], first for rows, second for columns, separated for comma"
   ]
  },
  {
   "cell_type": "code",
   "execution_count": 191,
   "id": "d790fe26",
   "metadata": {},
   "outputs": [],
   "source": [
    "subset = b[0:2, 0:2]"
   ]
  },
  {
   "cell_type": "code",
   "execution_count": 192,
   "id": "e04cfee4",
   "metadata": {},
   "outputs": [],
   "source": [
    "subset[0,0] = 100"
   ]
  },
  {
   "cell_type": "code",
   "execution_count": 193,
   "id": "b4a7892e",
   "metadata": {},
   "outputs": [
    {
     "data": {
      "text/plain": [
       "array([[100,  20],\n",
       "       [ 40,  50]])"
      ]
     },
     "execution_count": 193,
     "metadata": {},
     "output_type": "execute_result"
    }
   ],
   "source": [
    "subset"
   ]
  },
  {
   "cell_type": "code",
   "execution_count": 194,
   "id": "8ce2b56d",
   "metadata": {},
   "outputs": [
    {
     "data": {
      "text/plain": [
       "array([[100,  20,  30],\n",
       "       [ 40,  50,  60],\n",
       "       [ 70,  80,  90]])"
      ]
     },
     "execution_count": 194,
     "metadata": {},
     "output_type": "execute_result"
    }
   ],
   "source": [
    "## Original array (b), not only the subset is changed, zoom in changes the original\n",
    "b"
   ]
  },
  {
   "cell_type": "code",
   "execution_count": 195,
   "id": "914b7953",
   "metadata": {},
   "outputs": [],
   "source": [
    "## remember to use .copy() otherwise still working on the original dataset\n",
    "\n",
    "subset = b[1:3, 1:3].copy()\n",
    "subset[0, 0] = 500"
   ]
  },
  {
   "cell_type": "code",
   "execution_count": 196,
   "id": "1d58a12a",
   "metadata": {},
   "outputs": [
    {
     "data": {
      "text/plain": [
       "array([[500,  60],\n",
       "       [ 80,  90]])"
      ]
     },
     "execution_count": 196,
     "metadata": {},
     "output_type": "execute_result"
    }
   ],
   "source": [
    "subset"
   ]
  },
  {
   "cell_type": "code",
   "execution_count": 197,
   "id": "f735f28b",
   "metadata": {},
   "outputs": [
    {
     "data": {
      "text/plain": [
       "array([[100,  20,  30],\n",
       "       [ 40,  50,  60],\n",
       "       [ 70,  80,  90]])"
      ]
     },
     "execution_count": 197,
     "metadata": {},
     "output_type": "execute_result"
    }
   ],
   "source": [
    "b"
   ]
  },
  {
   "cell_type": "markdown",
   "id": "2fda200c",
   "metadata": {},
   "source": [
    "### Broadcasting"
   ]
  },
  {
   "cell_type": "code",
   "execution_count": 198,
   "id": "41e9efb5",
   "metadata": {},
   "outputs": [],
   "source": [
    "## array operations\n",
    "### addition, subtraction and etc\n",
    "### linear algebra rules, already built into the data structure"
   ]
  },
  {
   "cell_type": "code",
   "execution_count": 199,
   "id": "605919df",
   "metadata": {},
   "outputs": [],
   "source": [
    "one = np.array([1, 2, 3])\n",
    "two = np.array([4, 5, 6])"
   ]
  },
  {
   "cell_type": "code",
   "execution_count": 200,
   "id": "10e21249",
   "metadata": {},
   "outputs": [
    {
     "data": {
      "text/plain": [
       "array([6, 7, 8])"
      ]
     },
     "execution_count": 200,
     "metadata": {},
     "output_type": "execute_result"
    }
   ],
   "source": [
    "# adds number to each item of the 1-D array\n",
    "one + 5"
   ]
  },
  {
   "cell_type": "code",
   "execution_count": 201,
   "id": "3cb5588f",
   "metadata": {},
   "outputs": [
    {
     "data": {
      "text/plain": [
       "array([[1., 1., 1.],\n",
       "       [1., 1., 1.],\n",
       "       [1., 1., 1.]])"
      ]
     },
     "execution_count": 201,
     "metadata": {},
     "output_type": "execute_result"
    }
   ],
   "source": [
    "three = np.ones((3, 3))\n",
    "three"
   ]
  },
  {
   "cell_type": "code",
   "execution_count": 202,
   "id": "59daac8f",
   "metadata": {},
   "outputs": [
    {
     "data": {
      "text/plain": [
       "array([[2., 3., 4.],\n",
       "       [2., 3., 4.],\n",
       "       [2., 3., 4.]])"
      ]
     },
     "execution_count": 202,
     "metadata": {},
     "output_type": "execute_result"
    }
   ],
   "source": [
    "three + one"
   ]
  },
  {
   "cell_type": "code",
   "execution_count": 203,
   "id": "c7c6ec05",
   "metadata": {},
   "outputs": [
    {
     "data": {
      "text/plain": [
       "array([[6., 6., 6.],\n",
       "       [6., 6., 6.],\n",
       "       [6., 6., 6.]])"
      ]
     },
     "execution_count": 203,
     "metadata": {},
     "output_type": "execute_result"
    }
   ],
   "source": [
    "np.zeros((3,3)) + 6"
   ]
  },
  {
   "cell_type": "code",
   "execution_count": 204,
   "id": "227c1aa9",
   "metadata": {
    "scrolled": true
   },
   "outputs": [
    {
     "data": {
      "text/plain": [
       "array([[6., 6., 6.],\n",
       "       [6., 6., 6.],\n",
       "       [6., 6., 6.]])"
      ]
     },
     "execution_count": 204,
     "metadata": {},
     "output_type": "execute_result"
    }
   ],
   "source": [
    "np.zeros((3,3)) + 6.0"
   ]
  },
  {
   "cell_type": "code",
   "execution_count": 205,
   "id": "f33fbfbc",
   "metadata": {},
   "outputs": [],
   "source": [
    "b[0,0] = 10"
   ]
  },
  {
   "cell_type": "code",
   "execution_count": 206,
   "id": "1af0d4b8",
   "metadata": {},
   "outputs": [
    {
     "data": {
      "text/plain": [
       "array([[10, 20, 30],\n",
       "       [40, 50, 60],\n",
       "       [70, 80, 90]])"
      ]
     },
     "execution_count": 206,
     "metadata": {},
     "output_type": "execute_result"
    }
   ],
   "source": [
    "b"
   ]
  },
  {
   "cell_type": "markdown",
   "id": "2efaf049",
   "metadata": {},
   "source": [
    "## Pandas\n",
    "### two major data structure\n",
    "### 1. Series (1 dim) , 2. dataframes (2 dim)"
   ]
  },
  {
   "cell_type": "code",
   "execution_count": 207,
   "id": "14b21bbb",
   "metadata": {},
   "outputs": [
    {
     "data": {
      "text/plain": [
       "pandas.core.frame.DataFrame"
      ]
     },
     "execution_count": 207,
     "metadata": {},
     "output_type": "execute_result"
    }
   ],
   "source": [
    "pd.DataFrame\n",
    "\n",
    "## Can be thought of as a dict-like container for Series objects"
   ]
  },
  {
   "cell_type": "code",
   "execution_count": 208,
   "id": "bdc86c13",
   "metadata": {},
   "outputs": [],
   "source": [
    "df = pd.DataFrame(b)"
   ]
  },
  {
   "cell_type": "code",
   "execution_count": null,
   "id": "f332cb0c",
   "metadata": {},
   "outputs": [],
   "source": [
    "# Dataframe got 3 major attributes\n",
    "## 1. columns, index and values\n",
    "## Primary key, relational database\n",
    "### eg. how to pick from database, always unique, index is from SQL\n",
    "## usually use labels as column numbers\n",
    "\n",
    "df"
   ]
  },
  {
   "cell_type": "code",
   "execution_count": 209,
   "id": "6958d173",
   "metadata": {},
   "outputs": [],
   "source": [
    "df = pd.DataFrame(b, columns = [\"A\", \"B\", \"C\"])"
   ]
  },
  {
   "cell_type": "code",
   "execution_count": 210,
   "id": "bdaf868b",
   "metadata": {},
   "outputs": [
    {
     "data": {
      "text/plain": [
       "10"
      ]
     },
     "execution_count": 210,
     "metadata": {},
     "output_type": "execute_result"
    }
   ],
   "source": [
    "df[\"A\"][0]"
   ]
  },
  {
   "cell_type": "code",
   "execution_count": 212,
   "id": "442095b3",
   "metadata": {},
   "outputs": [
    {
     "data": {
      "text/plain": [
       "RangeIndex(start=0, stop=3, step=1)"
      ]
     },
     "execution_count": 212,
     "metadata": {},
     "output_type": "execute_result"
    }
   ],
   "source": [
    "df.index"
   ]
  },
  {
   "cell_type": "code",
   "execution_count": 213,
   "id": "ff123444",
   "metadata": {},
   "outputs": [
    {
     "data": {
      "text/plain": [
       "Index(['A', 'B', 'C'], dtype='object')"
      ]
     },
     "execution_count": 213,
     "metadata": {},
     "output_type": "execute_result"
    }
   ],
   "source": [
    "df.columns"
   ]
  },
  {
   "cell_type": "code",
   "execution_count": 214,
   "id": "08c72396",
   "metadata": {},
   "outputs": [
    {
     "data": {
      "text/plain": [
       "array([[10, 20, 30],\n",
       "       [40, 50, 60],\n",
       "       [70, 80, 90]])"
      ]
     },
     "execution_count": 214,
     "metadata": {},
     "output_type": "execute_result"
    }
   ],
   "source": [
    "df.values"
   ]
  },
  {
   "cell_type": "code",
   "execution_count": 215,
   "id": "72abfcb4",
   "metadata": {},
   "outputs": [],
   "source": [
    "## Can we manipulate np.array more efficiently?\n",
    "## Attach index and columns to numpy array\n",
    "## Pandas is built on top of numpy\n",
    "## Dataframe inherited all behavior of numpy array"
   ]
  },
  {
   "cell_type": "code",
   "execution_count": 216,
   "id": "b6702b91",
   "metadata": {},
   "outputs": [
    {
     "data": {
      "text/html": [
       "<div>\n",
       "<style scoped>\n",
       "    .dataframe tbody tr th:only-of-type {\n",
       "        vertical-align: middle;\n",
       "    }\n",
       "\n",
       "    .dataframe tbody tr th {\n",
       "        vertical-align: top;\n",
       "    }\n",
       "\n",
       "    .dataframe thead th {\n",
       "        text-align: right;\n",
       "    }\n",
       "</style>\n",
       "<table border=\"1\" class=\"dataframe\">\n",
       "  <thead>\n",
       "    <tr style=\"text-align: right;\">\n",
       "      <th></th>\n",
       "      <th>A</th>\n",
       "      <th>B</th>\n",
       "      <th>C</th>\n",
       "    </tr>\n",
       "  </thead>\n",
       "  <tbody>\n",
       "    <tr>\n",
       "      <th>0</th>\n",
       "      <td>10</td>\n",
       "      <td>20</td>\n",
       "      <td>30</td>\n",
       "    </tr>\n",
       "    <tr>\n",
       "      <th>1</th>\n",
       "      <td>40</td>\n",
       "      <td>50</td>\n",
       "      <td>60</td>\n",
       "    </tr>\n",
       "    <tr>\n",
       "      <th>2</th>\n",
       "      <td>70</td>\n",
       "      <td>80</td>\n",
       "      <td>90</td>\n",
       "    </tr>\n",
       "  </tbody>\n",
       "</table>\n",
       "</div>"
      ],
      "text/plain": [
       "    A   B   C\n",
       "0  10  20  30\n",
       "1  40  50  60\n",
       "2  70  80  90"
      ]
     },
     "execution_count": 216,
     "metadata": {},
     "output_type": "execute_result"
    }
   ],
   "source": [
    "df"
   ]
  },
  {
   "cell_type": "markdown",
   "id": "f7f21ea4",
   "metadata": {},
   "source": [
    "#### df slicing"
   ]
  },
  {
   "cell_type": "code",
   "execution_count": 217,
   "id": "a2128294",
   "metadata": {},
   "outputs": [
    {
     "data": {
      "text/plain": [
       "0    20\n",
       "1    50\n",
       "2    80\n",
       "Name: B, dtype: int64"
      ]
     },
     "execution_count": 217,
     "metadata": {},
     "output_type": "execute_result"
    }
   ],
   "source": [
    "df[\"B\"]"
   ]
  },
  {
   "cell_type": "code",
   "execution_count": 218,
   "id": "fd2777d3",
   "metadata": {},
   "outputs": [
    {
     "data": {
      "text/plain": [
       "pandas.core.series.Series"
      ]
     },
     "execution_count": 218,
     "metadata": {},
     "output_type": "execute_result"
    }
   ],
   "source": [
    "type(df[\"B\"])"
   ]
  },
  {
   "cell_type": "code",
   "execution_count": 219,
   "id": "1a4fc832",
   "metadata": {},
   "outputs": [
    {
     "data": {
      "text/html": [
       "<div>\n",
       "<style scoped>\n",
       "    .dataframe tbody tr th:only-of-type {\n",
       "        vertical-align: middle;\n",
       "    }\n",
       "\n",
       "    .dataframe tbody tr th {\n",
       "        vertical-align: top;\n",
       "    }\n",
       "\n",
       "    .dataframe thead th {\n",
       "        text-align: right;\n",
       "    }\n",
       "</style>\n",
       "<table border=\"1\" class=\"dataframe\">\n",
       "  <thead>\n",
       "    <tr style=\"text-align: right;\">\n",
       "      <th></th>\n",
       "      <th>A</th>\n",
       "      <th>B</th>\n",
       "      <th>C</th>\n",
       "    </tr>\n",
       "  </thead>\n",
       "  <tbody>\n",
       "    <tr>\n",
       "      <th>0</th>\n",
       "      <td>10</td>\n",
       "      <td>20</td>\n",
       "      <td>30</td>\n",
       "    </tr>\n",
       "    <tr>\n",
       "      <th>1</th>\n",
       "      <td>40</td>\n",
       "      <td>50</td>\n",
       "      <td>60</td>\n",
       "    </tr>\n",
       "    <tr>\n",
       "      <th>2</th>\n",
       "      <td>70</td>\n",
       "      <td>80</td>\n",
       "      <td>90</td>\n",
       "    </tr>\n",
       "  </tbody>\n",
       "</table>\n",
       "</div>"
      ],
      "text/plain": [
       "    A   B   C\n",
       "0  10  20  30\n",
       "1  40  50  60\n",
       "2  70  80  90"
      ]
     },
     "execution_count": 219,
     "metadata": {},
     "output_type": "execute_result"
    }
   ],
   "source": [
    "df"
   ]
  }
 ],
 "metadata": {
  "kernelspec": {
   "display_name": "Python 3 (ipykernel)",
   "language": "python",
   "name": "python3"
  },
  "language_info": {
   "codemirror_mode": {
    "name": "ipython",
    "version": 3
   },
   "file_extension": ".py",
   "mimetype": "text/x-python",
   "name": "python",
   "nbconvert_exporter": "python",
   "pygments_lexer": "ipython3",
   "version": "3.9.12"
  }
 },
 "nbformat": 4,
 "nbformat_minor": 5
}
