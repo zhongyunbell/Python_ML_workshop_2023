{
 "cells": [
  {
   "cell_type": "markdown",
   "id": "7f4f8c82",
   "metadata": {},
   "source": [
    "# String manipulation"
   ]
  },
  {
   "cell_type": "code",
   "execution_count": 1,
   "id": "c46cb0ae",
   "metadata": {},
   "outputs": [],
   "source": [
    "import pandas as pd\n",
    "from sklearn.preprocessing import LabelEncoder"
   ]
  },
  {
   "cell_type": "code",
   "execution_count": 2,
   "id": "ecab62df",
   "metadata": {},
   "outputs": [],
   "source": [
    "alist = [\"banana\",\"orange\",\"banana\",\"orange\", \"apple\",\"apple\"]"
   ]
  },
  {
   "cell_type": "code",
   "execution_count": 4,
   "id": "6350f692",
   "metadata": {},
   "outputs": [],
   "source": [
    "le = LabelEncoder()"
   ]
  },
  {
   "cell_type": "code",
   "execution_count": 5,
   "id": "3c434cc0",
   "metadata": {},
   "outputs": [
    {
     "data": {
      "text/plain": [
       "array([1, 2, 1, 2, 0, 0])"
      ]
     },
     "execution_count": 5,
     "metadata": {},
     "output_type": "execute_result"
    }
   ],
   "source": [
    "le.fit_transform(alist)"
   ]
  },
  {
   "cell_type": "code",
   "execution_count": 6,
   "id": "fbf6f502",
   "metadata": {},
   "outputs": [],
   "source": [
    "df = pd.DataFrame()\n",
    "df[\"Country\"] = [\"Japan\",\"U.S.\", \"India\",\"China\",\"U.S.\",\"India\"]\n",
    "df[\"Population\"] = [127,326,1354,1415,326,1354]"
   ]
  },
  {
   "cell_type": "code",
   "execution_count": 12,
   "id": "400c624a",
   "metadata": {},
   "outputs": [],
   "source": [
    "d = pd.concat([pd.get_dummies(df['Country']), df], axis=1)"
   ]
  },
  {
   "cell_type": "code",
   "execution_count": 13,
   "id": "cfaa2747",
   "metadata": {},
   "outputs": [
    {
     "data": {
      "text/plain": [
       "array([2, 3, 1, 0, 3, 1])"
      ]
     },
     "execution_count": 13,
     "metadata": {},
     "output_type": "execute_result"
    }
   ],
   "source": [
    "le2 = LabelEncoder()\n",
    "le2.fit_transform(df[\"Country\"])"
   ]
  },
  {
   "cell_type": "code",
   "execution_count": 14,
   "id": "60c0f468",
   "metadata": {},
   "outputs": [],
   "source": [
    "d[\"LE\"] = le2.fit_transform(df[\"Country\"])"
   ]
  }
 ],
 "metadata": {
  "kernelspec": {
   "display_name": "Python 3 (ipykernel)",
   "language": "python",
   "name": "python3"
  },
  "language_info": {
   "codemirror_mode": {
    "name": "ipython",
    "version": 3
   },
   "file_extension": ".py",
   "mimetype": "text/x-python",
   "name": "python",
   "nbconvert_exporter": "python",
   "pygments_lexer": "ipython3",
   "version": "3.9.12"
  }
 },
 "nbformat": 4,
 "nbformat_minor": 5
}
