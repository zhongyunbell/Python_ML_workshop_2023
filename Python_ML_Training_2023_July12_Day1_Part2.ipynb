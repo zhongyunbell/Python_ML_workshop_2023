{
 "cells": [
  {
   "cell_type": "markdown",
   "id": "2b69833f",
   "metadata": {},
   "source": [
    "## Pandas DataFrame manipulation"
   ]
  },
  {
   "cell_type": "code",
   "execution_count": 1,
   "id": "9b145d49",
   "metadata": {},
   "outputs": [],
   "source": [
    "import pandas as pd"
   ]
  },
  {
   "cell_type": "code",
   "execution_count": 2,
   "id": "04883924",
   "metadata": {},
   "outputs": [],
   "source": [
    "df = pd.DataFrame()"
   ]
  },
  {
   "cell_type": "code",
   "execution_count": 5,
   "id": "824b3a24",
   "metadata": {},
   "outputs": [
    {
     "data": {
      "text/html": [
       "<div>\n",
       "<style scoped>\n",
       "    .dataframe tbody tr th:only-of-type {\n",
       "        vertical-align: middle;\n",
       "    }\n",
       "\n",
       "    .dataframe tbody tr th {\n",
       "        vertical-align: top;\n",
       "    }\n",
       "\n",
       "    .dataframe thead th {\n",
       "        text-align: right;\n",
       "    }\n",
       "</style>\n",
       "<table border=\"1\" class=\"dataframe\">\n",
       "  <thead>\n",
       "    <tr style=\"text-align: right;\">\n",
       "      <th></th>\n",
       "    </tr>\n",
       "  </thead>\n",
       "  <tbody>\n",
       "  </tbody>\n",
       "</table>\n",
       "</div>"
      ],
      "text/plain": [
       "Empty DataFrame\n",
       "Columns: []\n",
       "Index: []"
      ]
     },
     "execution_count": 5,
     "metadata": {},
     "output_type": "execute_result"
    }
   ],
   "source": [
    "df"
   ]
  },
  {
   "cell_type": "code",
   "execution_count": 6,
   "id": "e51a7e5e",
   "metadata": {},
   "outputs": [],
   "source": [
    "df[\"Food\"] = [\"Pizza\", \"Steak\", \"Nachos\", \"Salad\"]"
   ]
  },
  {
   "cell_type": "code",
   "execution_count": 7,
   "id": "f56e6f22",
   "metadata": {},
   "outputs": [],
   "source": [
    "df[\"Price\"] = [29.99, 49.99, 9.99, 8.99]"
   ]
  },
  {
   "cell_type": "code",
   "execution_count": 8,
   "id": "dd178a1d",
   "metadata": {},
   "outputs": [
    {
     "data": {
      "text/html": [
       "<div>\n",
       "<style scoped>\n",
       "    .dataframe tbody tr th:only-of-type {\n",
       "        vertical-align: middle;\n",
       "    }\n",
       "\n",
       "    .dataframe tbody tr th {\n",
       "        vertical-align: top;\n",
       "    }\n",
       "\n",
       "    .dataframe thead th {\n",
       "        text-align: right;\n",
       "    }\n",
       "</style>\n",
       "<table border=\"1\" class=\"dataframe\">\n",
       "  <thead>\n",
       "    <tr style=\"text-align: right;\">\n",
       "      <th></th>\n",
       "      <th>Food</th>\n",
       "      <th>Price</th>\n",
       "    </tr>\n",
       "  </thead>\n",
       "  <tbody>\n",
       "    <tr>\n",
       "      <th>0</th>\n",
       "      <td>Pizza</td>\n",
       "      <td>29.99</td>\n",
       "    </tr>\n",
       "    <tr>\n",
       "      <th>1</th>\n",
       "      <td>Steak</td>\n",
       "      <td>49.99</td>\n",
       "    </tr>\n",
       "    <tr>\n",
       "      <th>2</th>\n",
       "      <td>Nachos</td>\n",
       "      <td>9.99</td>\n",
       "    </tr>\n",
       "    <tr>\n",
       "      <th>3</th>\n",
       "      <td>Salad</td>\n",
       "      <td>8.99</td>\n",
       "    </tr>\n",
       "  </tbody>\n",
       "</table>\n",
       "</div>"
      ],
      "text/plain": [
       "     Food  Price\n",
       "0   Pizza  29.99\n",
       "1   Steak  49.99\n",
       "2  Nachos   9.99\n",
       "3   Salad   8.99"
      ]
     },
     "execution_count": 8,
     "metadata": {},
     "output_type": "execute_result"
    }
   ],
   "source": [
    "df"
   ]
  },
  {
   "cell_type": "code",
   "execution_count": 16,
   "id": "a54a4eb0",
   "metadata": {},
   "outputs": [],
   "source": [
    "df['Qnty'] = 0"
   ]
  },
  {
   "cell_type": "code",
   "execution_count": 17,
   "id": "a8e1207a",
   "metadata": {},
   "outputs": [
    {
     "data": {
      "text/html": [
       "<div>\n",
       "<style scoped>\n",
       "    .dataframe tbody tr th:only-of-type {\n",
       "        vertical-align: middle;\n",
       "    }\n",
       "\n",
       "    .dataframe tbody tr th {\n",
       "        vertical-align: top;\n",
       "    }\n",
       "\n",
       "    .dataframe thead th {\n",
       "        text-align: right;\n",
       "    }\n",
       "</style>\n",
       "<table border=\"1\" class=\"dataframe\">\n",
       "  <thead>\n",
       "    <tr style=\"text-align: right;\">\n",
       "      <th></th>\n",
       "      <th>Food</th>\n",
       "      <th>Price</th>\n",
       "      <th>Qnty</th>\n",
       "    </tr>\n",
       "  </thead>\n",
       "  <tbody>\n",
       "    <tr>\n",
       "      <th>0</th>\n",
       "      <td>Pizza</td>\n",
       "      <td>29.99</td>\n",
       "      <td>0</td>\n",
       "    </tr>\n",
       "    <tr>\n",
       "      <th>1</th>\n",
       "      <td>Steak</td>\n",
       "      <td>49.99</td>\n",
       "      <td>0</td>\n",
       "    </tr>\n",
       "    <tr>\n",
       "      <th>2</th>\n",
       "      <td>Nachos</td>\n",
       "      <td>9.99</td>\n",
       "      <td>0</td>\n",
       "    </tr>\n",
       "    <tr>\n",
       "      <th>3</th>\n",
       "      <td>Salad</td>\n",
       "      <td>8.99</td>\n",
       "      <td>0</td>\n",
       "    </tr>\n",
       "  </tbody>\n",
       "</table>\n",
       "</div>"
      ],
      "text/plain": [
       "     Food  Price  Qnty\n",
       "0   Pizza  29.99     0\n",
       "1   Steak  49.99     0\n",
       "2  Nachos   9.99     0\n",
       "3   Salad   8.99     0"
      ]
     },
     "execution_count": 17,
     "metadata": {},
     "output_type": "execute_result"
    }
   ],
   "source": [
    "df"
   ]
  },
  {
   "cell_type": "code",
   "execution_count": 18,
   "id": "31697d7d",
   "metadata": {},
   "outputs": [],
   "source": [
    "df['Qnty'] = [3, 2, 5, 5]"
   ]
  },
  {
   "cell_type": "code",
   "execution_count": 19,
   "id": "2904cd8b",
   "metadata": {},
   "outputs": [
    {
     "data": {
      "text/html": [
       "<div>\n",
       "<style scoped>\n",
       "    .dataframe tbody tr th:only-of-type {\n",
       "        vertical-align: middle;\n",
       "    }\n",
       "\n",
       "    .dataframe tbody tr th {\n",
       "        vertical-align: top;\n",
       "    }\n",
       "\n",
       "    .dataframe thead th {\n",
       "        text-align: right;\n",
       "    }\n",
       "</style>\n",
       "<table border=\"1\" class=\"dataframe\">\n",
       "  <thead>\n",
       "    <tr style=\"text-align: right;\">\n",
       "      <th></th>\n",
       "      <th>Food</th>\n",
       "      <th>Price</th>\n",
       "      <th>Qnty</th>\n",
       "    </tr>\n",
       "  </thead>\n",
       "  <tbody>\n",
       "    <tr>\n",
       "      <th>0</th>\n",
       "      <td>Pizza</td>\n",
       "      <td>29.99</td>\n",
       "      <td>3</td>\n",
       "    </tr>\n",
       "    <tr>\n",
       "      <th>1</th>\n",
       "      <td>Steak</td>\n",
       "      <td>49.99</td>\n",
       "      <td>2</td>\n",
       "    </tr>\n",
       "    <tr>\n",
       "      <th>2</th>\n",
       "      <td>Nachos</td>\n",
       "      <td>9.99</td>\n",
       "      <td>5</td>\n",
       "    </tr>\n",
       "    <tr>\n",
       "      <th>3</th>\n",
       "      <td>Salad</td>\n",
       "      <td>8.99</td>\n",
       "      <td>5</td>\n",
       "    </tr>\n",
       "  </tbody>\n",
       "</table>\n",
       "</div>"
      ],
      "text/plain": [
       "     Food  Price  Qnty\n",
       "0   Pizza  29.99     3\n",
       "1   Steak  49.99     2\n",
       "2  Nachos   9.99     5\n",
       "3   Salad   8.99     5"
      ]
     },
     "execution_count": 19,
     "metadata": {},
     "output_type": "execute_result"
    }
   ],
   "source": [
    "df"
   ]
  },
  {
   "cell_type": "code",
   "execution_count": 20,
   "id": "8040ef54",
   "metadata": {},
   "outputs": [
    {
     "data": {
      "text/plain": [
       "0    29.99\n",
       "1    49.99\n",
       "2     9.99\n",
       "3     8.99\n",
       "Name: Price, dtype: float64"
      ]
     },
     "execution_count": 20,
     "metadata": {},
     "output_type": "execute_result"
    }
   ],
   "source": [
    "df[\"Price\"]"
   ]
  },
  {
   "cell_type": "code",
   "execution_count": 21,
   "id": "d7a99318",
   "metadata": {},
   "outputs": [
    {
     "data": {
      "text/plain": [
       "pandas.core.series.Series"
      ]
     },
     "execution_count": 21,
     "metadata": {},
     "output_type": "execute_result"
    }
   ],
   "source": [
    "type(df['Price'])"
   ]
  },
  {
   "cell_type": "code",
   "execution_count": 22,
   "id": "685d77ff",
   "metadata": {},
   "outputs": [],
   "source": [
    "## Series two attributes\n",
    "### 1. index, 2. values"
   ]
  },
  {
   "cell_type": "code",
   "execution_count": 24,
   "id": "93f26e75",
   "metadata": {},
   "outputs": [
    {
     "data": {
      "text/plain": [
       "array([29.99, 49.99,  9.99,  8.99])"
      ]
     },
     "execution_count": 24,
     "metadata": {},
     "output_type": "execute_result"
    }
   ],
   "source": [
    "df[\"Price\"].values"
   ]
  },
  {
   "cell_type": "code",
   "execution_count": 27,
   "id": "7a354523",
   "metadata": {},
   "outputs": [],
   "source": [
    "# Still a series\n",
    "df[\"Amnt\"] = df[\"Price\"] * df[\"Qnty\"]"
   ]
  },
  {
   "cell_type": "code",
   "execution_count": 28,
   "id": "083a3515",
   "metadata": {},
   "outputs": [],
   "source": [
    "## If want to save new result, save expression to a new column (pd.series)"
   ]
  },
  {
   "cell_type": "code",
   "execution_count": 29,
   "id": "99b0442e",
   "metadata": {},
   "outputs": [
    {
     "data": {
      "text/plain": [
       "0    29.99\n",
       "1    49.99\n",
       "2     9.99\n",
       "3     8.99\n",
       "Name: Price, dtype: float64"
      ]
     },
     "execution_count": 29,
     "metadata": {},
     "output_type": "execute_result"
    }
   ],
   "source": [
    "# one dim\n",
    "df[\"Price\"]"
   ]
  },
  {
   "cell_type": "code",
   "execution_count": 31,
   "id": "881bf7ab",
   "metadata": {},
   "outputs": [
    {
     "data": {
      "text/plain": [
       "1"
      ]
     },
     "execution_count": 31,
     "metadata": {},
     "output_type": "execute_result"
    }
   ],
   "source": [
    "df['Price'].ndim"
   ]
  },
  {
   "cell_type": "code",
   "execution_count": 30,
   "id": "006e4874",
   "metadata": {},
   "outputs": [
    {
     "data": {
      "text/html": [
       "<div>\n",
       "<style scoped>\n",
       "    .dataframe tbody tr th:only-of-type {\n",
       "        vertical-align: middle;\n",
       "    }\n",
       "\n",
       "    .dataframe tbody tr th {\n",
       "        vertical-align: top;\n",
       "    }\n",
       "\n",
       "    .dataframe thead th {\n",
       "        text-align: right;\n",
       "    }\n",
       "</style>\n",
       "<table border=\"1\" class=\"dataframe\">\n",
       "  <thead>\n",
       "    <tr style=\"text-align: right;\">\n",
       "      <th></th>\n",
       "      <th>Price</th>\n",
       "    </tr>\n",
       "  </thead>\n",
       "  <tbody>\n",
       "    <tr>\n",
       "      <th>0</th>\n",
       "      <td>29.99</td>\n",
       "    </tr>\n",
       "    <tr>\n",
       "      <th>1</th>\n",
       "      <td>49.99</td>\n",
       "    </tr>\n",
       "    <tr>\n",
       "      <th>2</th>\n",
       "      <td>9.99</td>\n",
       "    </tr>\n",
       "    <tr>\n",
       "      <th>3</th>\n",
       "      <td>8.99</td>\n",
       "    </tr>\n",
       "  </tbody>\n",
       "</table>\n",
       "</div>"
      ],
      "text/plain": [
       "   Price\n",
       "0  29.99\n",
       "1  49.99\n",
       "2   9.99\n",
       "3   8.99"
      ]
     },
     "execution_count": 30,
     "metadata": {},
     "output_type": "execute_result"
    }
   ],
   "source": [
    "## Two dimensional\n",
    "df[['Price']]"
   ]
  },
  {
   "cell_type": "code",
   "execution_count": 37,
   "id": "5d28fd23",
   "metadata": {},
   "outputs": [
    {
     "data": {
      "text/html": [
       "<div>\n",
       "<style scoped>\n",
       "    .dataframe tbody tr th:only-of-type {\n",
       "        vertical-align: middle;\n",
       "    }\n",
       "\n",
       "    .dataframe tbody tr th {\n",
       "        vertical-align: top;\n",
       "    }\n",
       "\n",
       "    .dataframe thead th {\n",
       "        text-align: right;\n",
       "    }\n",
       "</style>\n",
       "<table border=\"1\" class=\"dataframe\">\n",
       "  <thead>\n",
       "    <tr style=\"text-align: right;\">\n",
       "      <th></th>\n",
       "      <th>Price</th>\n",
       "      <th>Food</th>\n",
       "    </tr>\n",
       "  </thead>\n",
       "  <tbody>\n",
       "    <tr>\n",
       "      <th>0</th>\n",
       "      <td>29.99</td>\n",
       "      <td>Pizza</td>\n",
       "    </tr>\n",
       "    <tr>\n",
       "      <th>1</th>\n",
       "      <td>49.99</td>\n",
       "      <td>Steak</td>\n",
       "    </tr>\n",
       "    <tr>\n",
       "      <th>2</th>\n",
       "      <td>9.99</td>\n",
       "      <td>Nachos</td>\n",
       "    </tr>\n",
       "    <tr>\n",
       "      <th>3</th>\n",
       "      <td>8.99</td>\n",
       "      <td>Salad</td>\n",
       "    </tr>\n",
       "  </tbody>\n",
       "</table>\n",
       "</div>"
      ],
      "text/plain": [
       "   Price    Food\n",
       "0  29.99   Pizza\n",
       "1  49.99   Steak\n",
       "2   9.99  Nachos\n",
       "3   8.99   Salad"
      ]
     },
     "execution_count": 37,
     "metadata": {},
     "output_type": "execute_result"
    }
   ],
   "source": [
    "alist = [\"Price\", \"Food\"]\n",
    "df[alist]"
   ]
  },
  {
   "cell_type": "code",
   "execution_count": 33,
   "id": "ba4636b7",
   "metadata": {},
   "outputs": [
    {
     "data": {
      "text/plain": [
       "2"
      ]
     },
     "execution_count": 33,
     "metadata": {},
     "output_type": "execute_result"
    }
   ],
   "source": [
    "## Double brackets, return a dataframe\n",
    "df[['Price']].ndim"
   ]
  },
  {
   "cell_type": "code",
   "execution_count": 35,
   "id": "f8f4d189",
   "metadata": {},
   "outputs": [
    {
     "data": {
      "text/plain": [
       "2"
      ]
     },
     "execution_count": 35,
     "metadata": {},
     "output_type": "execute_result"
    }
   ],
   "source": [
    "df[['Price', 'Qnty']].ndim"
   ]
  },
  {
   "cell_type": "code",
   "execution_count": 36,
   "id": "00a537ce",
   "metadata": {},
   "outputs": [
    {
     "data": {
      "text/plain": [
       "2"
      ]
     },
     "execution_count": 36,
     "metadata": {},
     "output_type": "execute_result"
    }
   ],
   "source": [
    "df[['Price', 'Qnty', 'Amnt']].ndim"
   ]
  },
  {
   "cell_type": "markdown",
   "id": "8a35f065",
   "metadata": {},
   "source": [
    "### Slice by columns"
   ]
  },
  {
   "cell_type": "code",
   "execution_count": 38,
   "id": "2057981a",
   "metadata": {},
   "outputs": [],
   "source": [
    "df.index = df[\"Food\"]\n",
    "\n",
    "# use strings to attach on top of numerical indices"
   ]
  },
  {
   "cell_type": "code",
   "execution_count": 39,
   "id": "c7b46568",
   "metadata": {},
   "outputs": [
    {
     "data": {
      "text/html": [
       "<div>\n",
       "<style scoped>\n",
       "    .dataframe tbody tr th:only-of-type {\n",
       "        vertical-align: middle;\n",
       "    }\n",
       "\n",
       "    .dataframe tbody tr th {\n",
       "        vertical-align: top;\n",
       "    }\n",
       "\n",
       "    .dataframe thead th {\n",
       "        text-align: right;\n",
       "    }\n",
       "</style>\n",
       "<table border=\"1\" class=\"dataframe\">\n",
       "  <thead>\n",
       "    <tr style=\"text-align: right;\">\n",
       "      <th></th>\n",
       "      <th>Food</th>\n",
       "      <th>Price</th>\n",
       "      <th>Qnty</th>\n",
       "      <th>Amnt</th>\n",
       "    </tr>\n",
       "    <tr>\n",
       "      <th>Food</th>\n",
       "      <th></th>\n",
       "      <th></th>\n",
       "      <th></th>\n",
       "      <th></th>\n",
       "    </tr>\n",
       "  </thead>\n",
       "  <tbody>\n",
       "    <tr>\n",
       "      <th>Pizza</th>\n",
       "      <td>Pizza</td>\n",
       "      <td>29.99</td>\n",
       "      <td>3</td>\n",
       "      <td>89.97</td>\n",
       "    </tr>\n",
       "    <tr>\n",
       "      <th>Steak</th>\n",
       "      <td>Steak</td>\n",
       "      <td>49.99</td>\n",
       "      <td>2</td>\n",
       "      <td>99.98</td>\n",
       "    </tr>\n",
       "    <tr>\n",
       "      <th>Nachos</th>\n",
       "      <td>Nachos</td>\n",
       "      <td>9.99</td>\n",
       "      <td>5</td>\n",
       "      <td>49.95</td>\n",
       "    </tr>\n",
       "    <tr>\n",
       "      <th>Salad</th>\n",
       "      <td>Salad</td>\n",
       "      <td>8.99</td>\n",
       "      <td>5</td>\n",
       "      <td>44.95</td>\n",
       "    </tr>\n",
       "  </tbody>\n",
       "</table>\n",
       "</div>"
      ],
      "text/plain": [
       "          Food  Price  Qnty   Amnt\n",
       "Food                              \n",
       "Pizza    Pizza  29.99     3  89.97\n",
       "Steak    Steak  49.99     2  99.98\n",
       "Nachos  Nachos   9.99     5  49.95\n",
       "Salad    Salad   8.99     5  44.95"
      ]
     },
     "execution_count": 39,
     "metadata": {},
     "output_type": "execute_result"
    }
   ],
   "source": [
    "df"
   ]
  },
  {
   "cell_type": "code",
   "execution_count": 40,
   "id": "c8900c61",
   "metadata": {},
   "outputs": [
    {
     "data": {
      "text/html": [
       "<div>\n",
       "<style scoped>\n",
       "    .dataframe tbody tr th:only-of-type {\n",
       "        vertical-align: middle;\n",
       "    }\n",
       "\n",
       "    .dataframe tbody tr th {\n",
       "        vertical-align: top;\n",
       "    }\n",
       "\n",
       "    .dataframe thead th {\n",
       "        text-align: right;\n",
       "    }\n",
       "</style>\n",
       "<table border=\"1\" class=\"dataframe\">\n",
       "  <thead>\n",
       "    <tr style=\"text-align: right;\">\n",
       "      <th></th>\n",
       "      <th>Price</th>\n",
       "      <th>Qnty</th>\n",
       "      <th>Amnt</th>\n",
       "    </tr>\n",
       "    <tr>\n",
       "      <th>Food</th>\n",
       "      <th></th>\n",
       "      <th></th>\n",
       "      <th></th>\n",
       "    </tr>\n",
       "  </thead>\n",
       "  <tbody>\n",
       "    <tr>\n",
       "      <th>Pizza</th>\n",
       "      <td>29.99</td>\n",
       "      <td>3</td>\n",
       "      <td>89.97</td>\n",
       "    </tr>\n",
       "    <tr>\n",
       "      <th>Steak</th>\n",
       "      <td>49.99</td>\n",
       "      <td>2</td>\n",
       "      <td>99.98</td>\n",
       "    </tr>\n",
       "    <tr>\n",
       "      <th>Nachos</th>\n",
       "      <td>9.99</td>\n",
       "      <td>5</td>\n",
       "      <td>49.95</td>\n",
       "    </tr>\n",
       "    <tr>\n",
       "      <th>Salad</th>\n",
       "      <td>8.99</td>\n",
       "      <td>5</td>\n",
       "      <td>44.95</td>\n",
       "    </tr>\n",
       "  </tbody>\n",
       "</table>\n",
       "</div>"
      ],
      "text/plain": [
       "        Price  Qnty   Amnt\n",
       "Food                      \n",
       "Pizza   29.99     3  89.97\n",
       "Steak   49.99     2  99.98\n",
       "Nachos   9.99     5  49.95\n",
       "Salad    8.99     5  44.95"
      ]
     },
     "execution_count": 40,
     "metadata": {},
     "output_type": "execute_result"
    }
   ],
   "source": [
    "## Axis, inplace\n",
    "### Axis: df is 2-D, any be applied through rows(0), or columns(1)\n",
    "### Inplace: True, permanently saves the changes\n",
    "\n",
    "df.drop(\"Food\", axis=1, inplace=False)"
   ]
  },
  {
   "cell_type": "code",
   "execution_count": 41,
   "id": "b4123019",
   "metadata": {},
   "outputs": [
    {
     "data": {
      "text/html": [
       "<div>\n",
       "<style scoped>\n",
       "    .dataframe tbody tr th:only-of-type {\n",
       "        vertical-align: middle;\n",
       "    }\n",
       "\n",
       "    .dataframe tbody tr th {\n",
       "        vertical-align: top;\n",
       "    }\n",
       "\n",
       "    .dataframe thead th {\n",
       "        text-align: right;\n",
       "    }\n",
       "</style>\n",
       "<table border=\"1\" class=\"dataframe\">\n",
       "  <thead>\n",
       "    <tr style=\"text-align: right;\">\n",
       "      <th></th>\n",
       "      <th>Food</th>\n",
       "      <th>Price</th>\n",
       "      <th>Qnty</th>\n",
       "      <th>Amnt</th>\n",
       "    </tr>\n",
       "    <tr>\n",
       "      <th>Food</th>\n",
       "      <th></th>\n",
       "      <th></th>\n",
       "      <th></th>\n",
       "      <th></th>\n",
       "    </tr>\n",
       "  </thead>\n",
       "  <tbody>\n",
       "    <tr>\n",
       "      <th>Pizza</th>\n",
       "      <td>Pizza</td>\n",
       "      <td>29.99</td>\n",
       "      <td>3</td>\n",
       "      <td>89.97</td>\n",
       "    </tr>\n",
       "    <tr>\n",
       "      <th>Steak</th>\n",
       "      <td>Steak</td>\n",
       "      <td>49.99</td>\n",
       "      <td>2</td>\n",
       "      <td>99.98</td>\n",
       "    </tr>\n",
       "    <tr>\n",
       "      <th>Nachos</th>\n",
       "      <td>Nachos</td>\n",
       "      <td>9.99</td>\n",
       "      <td>5</td>\n",
       "      <td>49.95</td>\n",
       "    </tr>\n",
       "    <tr>\n",
       "      <th>Salad</th>\n",
       "      <td>Salad</td>\n",
       "      <td>8.99</td>\n",
       "      <td>5</td>\n",
       "      <td>44.95</td>\n",
       "    </tr>\n",
       "  </tbody>\n",
       "</table>\n",
       "</div>"
      ],
      "text/plain": [
       "          Food  Price  Qnty   Amnt\n",
       "Food                              \n",
       "Pizza    Pizza  29.99     3  89.97\n",
       "Steak    Steak  49.99     2  99.98\n",
       "Nachos  Nachos   9.99     5  49.95\n",
       "Salad    Salad   8.99     5  44.95"
      ]
     },
     "execution_count": 41,
     "metadata": {},
     "output_type": "execute_result"
    }
   ],
   "source": [
    "df"
   ]
  },
  {
   "cell_type": "code",
   "execution_count": null,
   "id": "49854340",
   "metadata": {},
   "outputs": [],
   "source": [
    "df.drop(\"Food\", axis=1, inplace=True)"
   ]
  },
  {
   "cell_type": "markdown",
   "id": "aad41fdf",
   "metadata": {},
   "source": [
    "## Manipulate by rows"
   ]
  },
  {
   "cell_type": "code",
   "execution_count": 42,
   "id": "976fe055",
   "metadata": {},
   "outputs": [],
   "source": [
    "# loc vs iloc\n",
    "## loc is location, use labels\n",
    "## iloc is using index"
   ]
  },
  {
   "cell_type": "code",
   "execution_count": 43,
   "id": "d453253b",
   "metadata": {},
   "outputs": [
    {
     "data": {
      "text/html": [
       "<div>\n",
       "<style scoped>\n",
       "    .dataframe tbody tr th:only-of-type {\n",
       "        vertical-align: middle;\n",
       "    }\n",
       "\n",
       "    .dataframe tbody tr th {\n",
       "        vertical-align: top;\n",
       "    }\n",
       "\n",
       "    .dataframe thead th {\n",
       "        text-align: right;\n",
       "    }\n",
       "</style>\n",
       "<table border=\"1\" class=\"dataframe\">\n",
       "  <thead>\n",
       "    <tr style=\"text-align: right;\">\n",
       "      <th></th>\n",
       "      <th>Food</th>\n",
       "      <th>Price</th>\n",
       "      <th>Qnty</th>\n",
       "      <th>Amnt</th>\n",
       "    </tr>\n",
       "    <tr>\n",
       "      <th>Food</th>\n",
       "      <th></th>\n",
       "      <th></th>\n",
       "      <th></th>\n",
       "      <th></th>\n",
       "    </tr>\n",
       "  </thead>\n",
       "  <tbody>\n",
       "    <tr>\n",
       "      <th>Pizza</th>\n",
       "      <td>Pizza</td>\n",
       "      <td>29.99</td>\n",
       "      <td>3</td>\n",
       "      <td>89.97</td>\n",
       "    </tr>\n",
       "    <tr>\n",
       "      <th>Steak</th>\n",
       "      <td>Steak</td>\n",
       "      <td>49.99</td>\n",
       "      <td>2</td>\n",
       "      <td>99.98</td>\n",
       "    </tr>\n",
       "    <tr>\n",
       "      <th>Nachos</th>\n",
       "      <td>Nachos</td>\n",
       "      <td>9.99</td>\n",
       "      <td>5</td>\n",
       "      <td>49.95</td>\n",
       "    </tr>\n",
       "    <tr>\n",
       "      <th>Salad</th>\n",
       "      <td>Salad</td>\n",
       "      <td>8.99</td>\n",
       "      <td>5</td>\n",
       "      <td>44.95</td>\n",
       "    </tr>\n",
       "  </tbody>\n",
       "</table>\n",
       "</div>"
      ],
      "text/plain": [
       "          Food  Price  Qnty   Amnt\n",
       "Food                              \n",
       "Pizza    Pizza  29.99     3  89.97\n",
       "Steak    Steak  49.99     2  99.98\n",
       "Nachos  Nachos   9.99     5  49.95\n",
       "Salad    Salad   8.99     5  44.95"
      ]
     },
     "execution_count": 43,
     "metadata": {},
     "output_type": "execute_result"
    }
   ],
   "source": [
    "df"
   ]
  },
  {
   "cell_type": "code",
   "execution_count": 44,
   "id": "fb37cbd9",
   "metadata": {},
   "outputs": [
    {
     "data": {
      "text/plain": [
       "Food     Steak\n",
       "Price    49.99\n",
       "Qnty         2\n",
       "Amnt     99.98\n",
       "Name: Steak, dtype: object"
      ]
     },
     "execution_count": 44,
     "metadata": {},
     "output_type": "execute_result"
    }
   ],
   "source": [
    "df.loc[\"Steak\"]"
   ]
  },
  {
   "cell_type": "code",
   "execution_count": 45,
   "id": "32292d8b",
   "metadata": {},
   "outputs": [
    {
     "data": {
      "text/plain": [
       "Food     Steak\n",
       "Price    49.99\n",
       "Qnty         2\n",
       "Amnt     99.98\n",
       "Name: Steak, dtype: object"
      ]
     },
     "execution_count": 45,
     "metadata": {},
     "output_type": "execute_result"
    }
   ],
   "source": [
    "df.iloc[1]"
   ]
  },
  {
   "cell_type": "code",
   "execution_count": 46,
   "id": "9d5890f0",
   "metadata": {},
   "outputs": [
    {
     "data": {
      "text/html": [
       "<div>\n",
       "<style scoped>\n",
       "    .dataframe tbody tr th:only-of-type {\n",
       "        vertical-align: middle;\n",
       "    }\n",
       "\n",
       "    .dataframe tbody tr th {\n",
       "        vertical-align: top;\n",
       "    }\n",
       "\n",
       "    .dataframe thead th {\n",
       "        text-align: right;\n",
       "    }\n",
       "</style>\n",
       "<table border=\"1\" class=\"dataframe\">\n",
       "  <thead>\n",
       "    <tr style=\"text-align: right;\">\n",
       "      <th></th>\n",
       "      <th>Food</th>\n",
       "      <th>Price</th>\n",
       "      <th>Qnty</th>\n",
       "      <th>Amnt</th>\n",
       "    </tr>\n",
       "    <tr>\n",
       "      <th>Food</th>\n",
       "      <th></th>\n",
       "      <th></th>\n",
       "      <th></th>\n",
       "      <th></th>\n",
       "    </tr>\n",
       "  </thead>\n",
       "  <tbody>\n",
       "    <tr>\n",
       "      <th>Steak</th>\n",
       "      <td>Steak</td>\n",
       "      <td>49.99</td>\n",
       "      <td>2</td>\n",
       "      <td>99.98</td>\n",
       "    </tr>\n",
       "    <tr>\n",
       "      <th>Nachos</th>\n",
       "      <td>Nachos</td>\n",
       "      <td>9.99</td>\n",
       "      <td>5</td>\n",
       "      <td>49.95</td>\n",
       "    </tr>\n",
       "  </tbody>\n",
       "</table>\n",
       "</div>"
      ],
      "text/plain": [
       "          Food  Price  Qnty   Amnt\n",
       "Food                              \n",
       "Steak    Steak  49.99     2  99.98\n",
       "Nachos  Nachos   9.99     5  49.95"
      ]
     },
     "execution_count": 46,
     "metadata": {},
     "output_type": "execute_result"
    }
   ],
   "source": [
    "## Stop is not exclusive, when using label,. is N included\n",
    "df.loc[\"Steak\":\"Nachos\"]"
   ]
  },
  {
   "cell_type": "code",
   "execution_count": 47,
   "id": "86111c25",
   "metadata": {},
   "outputs": [
    {
     "data": {
      "text/html": [
       "<div>\n",
       "<style scoped>\n",
       "    .dataframe tbody tr th:only-of-type {\n",
       "        vertical-align: middle;\n",
       "    }\n",
       "\n",
       "    .dataframe tbody tr th {\n",
       "        vertical-align: top;\n",
       "    }\n",
       "\n",
       "    .dataframe thead th {\n",
       "        text-align: right;\n",
       "    }\n",
       "</style>\n",
       "<table border=\"1\" class=\"dataframe\">\n",
       "  <thead>\n",
       "    <tr style=\"text-align: right;\">\n",
       "      <th></th>\n",
       "      <th>Food</th>\n",
       "      <th>Price</th>\n",
       "      <th>Qnty</th>\n",
       "      <th>Amnt</th>\n",
       "    </tr>\n",
       "    <tr>\n",
       "      <th>Food</th>\n",
       "      <th></th>\n",
       "      <th></th>\n",
       "      <th></th>\n",
       "      <th></th>\n",
       "    </tr>\n",
       "  </thead>\n",
       "  <tbody>\n",
       "    <tr>\n",
       "      <th>Steak</th>\n",
       "      <td>Steak</td>\n",
       "      <td>49.99</td>\n",
       "      <td>2</td>\n",
       "      <td>99.98</td>\n",
       "    </tr>\n",
       "    <tr>\n",
       "      <th>Nachos</th>\n",
       "      <td>Nachos</td>\n",
       "      <td>9.99</td>\n",
       "      <td>5</td>\n",
       "      <td>49.95</td>\n",
       "    </tr>\n",
       "  </tbody>\n",
       "</table>\n",
       "</div>"
      ],
      "text/plain": [
       "          Food  Price  Qnty   Amnt\n",
       "Food                              \n",
       "Steak    Steak  49.99     2  99.98\n",
       "Nachos  Nachos   9.99     5  49.95"
      ]
     },
     "execution_count": 47,
     "metadata": {},
     "output_type": "execute_result"
    }
   ],
   "source": [
    "df.iloc[1:3]"
   ]
  },
  {
   "cell_type": "code",
   "execution_count": 48,
   "id": "2c2ab9f9",
   "metadata": {},
   "outputs": [
    {
     "data": {
      "text/html": [
       "<div>\n",
       "<style scoped>\n",
       "    .dataframe tbody tr th:only-of-type {\n",
       "        vertical-align: middle;\n",
       "    }\n",
       "\n",
       "    .dataframe tbody tr th {\n",
       "        vertical-align: top;\n",
       "    }\n",
       "\n",
       "    .dataframe thead th {\n",
       "        text-align: right;\n",
       "    }\n",
       "</style>\n",
       "<table border=\"1\" class=\"dataframe\">\n",
       "  <thead>\n",
       "    <tr style=\"text-align: right;\">\n",
       "      <th></th>\n",
       "      <th>Qnty</th>\n",
       "      <th>Amnt</th>\n",
       "    </tr>\n",
       "    <tr>\n",
       "      <th>Food</th>\n",
       "      <th></th>\n",
       "      <th></th>\n",
       "    </tr>\n",
       "  </thead>\n",
       "  <tbody>\n",
       "    <tr>\n",
       "      <th>Steak</th>\n",
       "      <td>2</td>\n",
       "      <td>99.98</td>\n",
       "    </tr>\n",
       "    <tr>\n",
       "      <th>Nachos</th>\n",
       "      <td>5</td>\n",
       "      <td>49.95</td>\n",
       "    </tr>\n",
       "  </tbody>\n",
       "</table>\n",
       "</div>"
      ],
      "text/plain": [
       "        Qnty   Amnt\n",
       "Food               \n",
       "Steak      2  99.98\n",
       "Nachos     5  49.95"
      ]
     },
     "execution_count": 48,
     "metadata": {},
     "output_type": "execute_result"
    }
   ],
   "source": [
    "df.loc[\"Steak\":\"Nachos\", \"Qnty\":\"Amnt\"]"
   ]
  },
  {
   "cell_type": "code",
   "execution_count": 49,
   "id": "7795e518",
   "metadata": {},
   "outputs": [
    {
     "data": {
      "text/html": [
       "<div>\n",
       "<style scoped>\n",
       "    .dataframe tbody tr th:only-of-type {\n",
       "        vertical-align: middle;\n",
       "    }\n",
       "\n",
       "    .dataframe tbody tr th {\n",
       "        vertical-align: top;\n",
       "    }\n",
       "\n",
       "    .dataframe thead th {\n",
       "        text-align: right;\n",
       "    }\n",
       "</style>\n",
       "<table border=\"1\" class=\"dataframe\">\n",
       "  <thead>\n",
       "    <tr style=\"text-align: right;\">\n",
       "      <th></th>\n",
       "      <th>Price</th>\n",
       "      <th>Qnty</th>\n",
       "      <th>Amnt</th>\n",
       "    </tr>\n",
       "    <tr>\n",
       "      <th>Food</th>\n",
       "      <th></th>\n",
       "      <th></th>\n",
       "      <th></th>\n",
       "    </tr>\n",
       "  </thead>\n",
       "  <tbody>\n",
       "    <tr>\n",
       "      <th>Steak</th>\n",
       "      <td>49.99</td>\n",
       "      <td>2</td>\n",
       "      <td>99.98</td>\n",
       "    </tr>\n",
       "    <tr>\n",
       "      <th>Nachos</th>\n",
       "      <td>9.99</td>\n",
       "      <td>5</td>\n",
       "      <td>49.95</td>\n",
       "    </tr>\n",
       "  </tbody>\n",
       "</table>\n",
       "</div>"
      ],
      "text/plain": [
       "        Price  Qnty   Amnt\n",
       "Food                      \n",
       "Steak   49.99     2  99.98\n",
       "Nachos   9.99     5  49.95"
      ]
     },
     "execution_count": 49,
     "metadata": {},
     "output_type": "execute_result"
    }
   ],
   "source": [
    "df.iloc[1:3, 1:]"
   ]
  },
  {
   "cell_type": "code",
   "execution_count": 50,
   "id": "8e752335",
   "metadata": {},
   "outputs": [
    {
     "data": {
      "text/html": [
       "<div>\n",
       "<style scoped>\n",
       "    .dataframe tbody tr th:only-of-type {\n",
       "        vertical-align: middle;\n",
       "    }\n",
       "\n",
       "    .dataframe tbody tr th {\n",
       "        vertical-align: top;\n",
       "    }\n",
       "\n",
       "    .dataframe thead th {\n",
       "        text-align: right;\n",
       "    }\n",
       "</style>\n",
       "<table border=\"1\" class=\"dataframe\">\n",
       "  <thead>\n",
       "    <tr style=\"text-align: right;\">\n",
       "      <th></th>\n",
       "      <th>Price</th>\n",
       "      <th>Amnt</th>\n",
       "    </tr>\n",
       "    <tr>\n",
       "      <th>Food</th>\n",
       "      <th></th>\n",
       "      <th></th>\n",
       "    </tr>\n",
       "  </thead>\n",
       "  <tbody>\n",
       "    <tr>\n",
       "      <th>Steak</th>\n",
       "      <td>49.99</td>\n",
       "      <td>99.98</td>\n",
       "    </tr>\n",
       "    <tr>\n",
       "      <th>Nachos</th>\n",
       "      <td>9.99</td>\n",
       "      <td>49.95</td>\n",
       "    </tr>\n",
       "  </tbody>\n",
       "</table>\n",
       "</div>"
      ],
      "text/plain": [
       "        Price   Amnt\n",
       "Food                \n",
       "Steak   49.99  99.98\n",
       "Nachos   9.99  49.95"
      ]
     },
     "execution_count": 50,
     "metadata": {},
     "output_type": "execute_result"
    }
   ],
   "source": [
    "df[[\"Price\", \"Amnt\"]].loc[\"Steak\":\"Nachos\"]"
   ]
  },
  {
   "cell_type": "code",
   "execution_count": 52,
   "id": "7a9b6665",
   "metadata": {},
   "outputs": [
    {
     "data": {
      "text/html": [
       "<div>\n",
       "<style scoped>\n",
       "    .dataframe tbody tr th:only-of-type {\n",
       "        vertical-align: middle;\n",
       "    }\n",
       "\n",
       "    .dataframe tbody tr th {\n",
       "        vertical-align: top;\n",
       "    }\n",
       "\n",
       "    .dataframe thead th {\n",
       "        text-align: right;\n",
       "    }\n",
       "</style>\n",
       "<table border=\"1\" class=\"dataframe\">\n",
       "  <thead>\n",
       "    <tr style=\"text-align: right;\">\n",
       "      <th></th>\n",
       "      <th>Food</th>\n",
       "      <th>Price</th>\n",
       "      <th>Qnty</th>\n",
       "      <th>Amnt</th>\n",
       "    </tr>\n",
       "    <tr>\n",
       "      <th>Food</th>\n",
       "      <th></th>\n",
       "      <th></th>\n",
       "      <th></th>\n",
       "      <th></th>\n",
       "    </tr>\n",
       "  </thead>\n",
       "  <tbody>\n",
       "    <tr>\n",
       "      <th>Pizza</th>\n",
       "      <td>Pizza</td>\n",
       "      <td>29.99</td>\n",
       "      <td>3</td>\n",
       "      <td>89.97</td>\n",
       "    </tr>\n",
       "    <tr>\n",
       "      <th>Steak</th>\n",
       "      <td>Steak</td>\n",
       "      <td>49.99</td>\n",
       "      <td>2</td>\n",
       "      <td>99.98</td>\n",
       "    </tr>\n",
       "    <tr>\n",
       "      <th>Nachos</th>\n",
       "      <td>Nachos</td>\n",
       "      <td>9.99</td>\n",
       "      <td>5</td>\n",
       "      <td>49.95</td>\n",
       "    </tr>\n",
       "    <tr>\n",
       "      <th>Salad</th>\n",
       "      <td>Salad</td>\n",
       "      <td>8.99</td>\n",
       "      <td>5</td>\n",
       "      <td>44.95</td>\n",
       "    </tr>\n",
       "  </tbody>\n",
       "</table>\n",
       "</div>"
      ],
      "text/plain": [
       "          Food  Price  Qnty   Amnt\n",
       "Food                              \n",
       "Pizza    Pizza  29.99     3  89.97\n",
       "Steak    Steak  49.99     2  99.98\n",
       "Nachos  Nachos   9.99     5  49.95\n",
       "Salad    Salad   8.99     5  44.95"
      ]
     },
     "execution_count": 52,
     "metadata": {},
     "output_type": "execute_result"
    }
   ],
   "source": [
    "df."
   ]
  },
  {
   "cell_type": "code",
   "execution_count": 54,
   "id": "e9aa5271",
   "metadata": {},
   "outputs": [],
   "source": [
    "df.loc[\"Hamburger\"] = [\"Hamburger\", 5.99, 5, 27.00]"
   ]
  },
  {
   "cell_type": "code",
   "execution_count": 55,
   "id": "dc34bb16",
   "metadata": {},
   "outputs": [
    {
     "data": {
      "text/html": [
       "<div>\n",
       "<style scoped>\n",
       "    .dataframe tbody tr th:only-of-type {\n",
       "        vertical-align: middle;\n",
       "    }\n",
       "\n",
       "    .dataframe tbody tr th {\n",
       "        vertical-align: top;\n",
       "    }\n",
       "\n",
       "    .dataframe thead th {\n",
       "        text-align: right;\n",
       "    }\n",
       "</style>\n",
       "<table border=\"1\" class=\"dataframe\">\n",
       "  <thead>\n",
       "    <tr style=\"text-align: right;\">\n",
       "      <th></th>\n",
       "      <th>Food</th>\n",
       "      <th>Price</th>\n",
       "      <th>Qnty</th>\n",
       "      <th>Amnt</th>\n",
       "    </tr>\n",
       "    <tr>\n",
       "      <th>Food</th>\n",
       "      <th></th>\n",
       "      <th></th>\n",
       "      <th></th>\n",
       "      <th></th>\n",
       "    </tr>\n",
       "  </thead>\n",
       "  <tbody>\n",
       "    <tr>\n",
       "      <th>Pizza</th>\n",
       "      <td>Pizza</td>\n",
       "      <td>29.99</td>\n",
       "      <td>3</td>\n",
       "      <td>89.97</td>\n",
       "    </tr>\n",
       "    <tr>\n",
       "      <th>Steak</th>\n",
       "      <td>Steak</td>\n",
       "      <td>49.99</td>\n",
       "      <td>2</td>\n",
       "      <td>99.98</td>\n",
       "    </tr>\n",
       "    <tr>\n",
       "      <th>Nachos</th>\n",
       "      <td>Nachos</td>\n",
       "      <td>9.99</td>\n",
       "      <td>5</td>\n",
       "      <td>49.95</td>\n",
       "    </tr>\n",
       "    <tr>\n",
       "      <th>Salad</th>\n",
       "      <td>Salad</td>\n",
       "      <td>8.99</td>\n",
       "      <td>5</td>\n",
       "      <td>44.95</td>\n",
       "    </tr>\n",
       "    <tr>\n",
       "      <th>Hamburger</th>\n",
       "      <td>Hamburger</td>\n",
       "      <td>5.99</td>\n",
       "      <td>5</td>\n",
       "      <td>27.00</td>\n",
       "    </tr>\n",
       "  </tbody>\n",
       "</table>\n",
       "</div>"
      ],
      "text/plain": [
       "                Food  Price  Qnty   Amnt\n",
       "Food                                    \n",
       "Pizza          Pizza  29.99     3  89.97\n",
       "Steak          Steak  49.99     2  99.98\n",
       "Nachos        Nachos   9.99     5  49.95\n",
       "Salad          Salad   8.99     5  44.95\n",
       "Hamburger  Hamburger   5.99     5  27.00"
      ]
     },
     "execution_count": 55,
     "metadata": {},
     "output_type": "execute_result"
    }
   ],
   "source": [
    "df"
   ]
  },
  {
   "cell_type": "code",
   "execution_count": 56,
   "id": "5c841597",
   "metadata": {},
   "outputs": [],
   "source": [
    "df.drop(\"Food\", inplace=True, axis=1)"
   ]
  },
  {
   "cell_type": "code",
   "execution_count": 57,
   "id": "89ac52bd",
   "metadata": {},
   "outputs": [
    {
     "data": {
      "text/html": [
       "<div>\n",
       "<style scoped>\n",
       "    .dataframe tbody tr th:only-of-type {\n",
       "        vertical-align: middle;\n",
       "    }\n",
       "\n",
       "    .dataframe tbody tr th {\n",
       "        vertical-align: top;\n",
       "    }\n",
       "\n",
       "    .dataframe thead th {\n",
       "        text-align: right;\n",
       "    }\n",
       "</style>\n",
       "<table border=\"1\" class=\"dataframe\">\n",
       "  <thead>\n",
       "    <tr style=\"text-align: right;\">\n",
       "      <th></th>\n",
       "      <th>Price</th>\n",
       "      <th>Qnty</th>\n",
       "      <th>Amnt</th>\n",
       "    </tr>\n",
       "    <tr>\n",
       "      <th>Food</th>\n",
       "      <th></th>\n",
       "      <th></th>\n",
       "      <th></th>\n",
       "    </tr>\n",
       "  </thead>\n",
       "  <tbody>\n",
       "    <tr>\n",
       "      <th>Pizza</th>\n",
       "      <td>29.99</td>\n",
       "      <td>3</td>\n",
       "      <td>89.97</td>\n",
       "    </tr>\n",
       "    <tr>\n",
       "      <th>Steak</th>\n",
       "      <td>49.99</td>\n",
       "      <td>2</td>\n",
       "      <td>99.98</td>\n",
       "    </tr>\n",
       "    <tr>\n",
       "      <th>Nachos</th>\n",
       "      <td>9.99</td>\n",
       "      <td>5</td>\n",
       "      <td>49.95</td>\n",
       "    </tr>\n",
       "    <tr>\n",
       "      <th>Salad</th>\n",
       "      <td>8.99</td>\n",
       "      <td>5</td>\n",
       "      <td>44.95</td>\n",
       "    </tr>\n",
       "    <tr>\n",
       "      <th>Hamburger</th>\n",
       "      <td>5.99</td>\n",
       "      <td>5</td>\n",
       "      <td>27.00</td>\n",
       "    </tr>\n",
       "  </tbody>\n",
       "</table>\n",
       "</div>"
      ],
      "text/plain": [
       "           Price  Qnty   Amnt\n",
       "Food                         \n",
       "Pizza      29.99     3  89.97\n",
       "Steak      49.99     2  99.98\n",
       "Nachos      9.99     5  49.95\n",
       "Salad       8.99     5  44.95\n",
       "Hamburger   5.99     5  27.00"
      ]
     },
     "execution_count": 57,
     "metadata": {},
     "output_type": "execute_result"
    }
   ],
   "source": [
    "df"
   ]
  },
  {
   "cell_type": "code",
   "execution_count": 58,
   "id": "5149bbe9",
   "metadata": {},
   "outputs": [],
   "source": [
    "df.reset_index(inplace=True)"
   ]
  },
  {
   "cell_type": "code",
   "execution_count": 59,
   "id": "d8f58104",
   "metadata": {},
   "outputs": [
    {
     "data": {
      "text/html": [
       "<div>\n",
       "<style scoped>\n",
       "    .dataframe tbody tr th:only-of-type {\n",
       "        vertical-align: middle;\n",
       "    }\n",
       "\n",
       "    .dataframe tbody tr th {\n",
       "        vertical-align: top;\n",
       "    }\n",
       "\n",
       "    .dataframe thead th {\n",
       "        text-align: right;\n",
       "    }\n",
       "</style>\n",
       "<table border=\"1\" class=\"dataframe\">\n",
       "  <thead>\n",
       "    <tr style=\"text-align: right;\">\n",
       "      <th></th>\n",
       "      <th>Food</th>\n",
       "      <th>Price</th>\n",
       "      <th>Qnty</th>\n",
       "      <th>Amnt</th>\n",
       "    </tr>\n",
       "  </thead>\n",
       "  <tbody>\n",
       "    <tr>\n",
       "      <th>0</th>\n",
       "      <td>Pizza</td>\n",
       "      <td>29.99</td>\n",
       "      <td>3</td>\n",
       "      <td>89.97</td>\n",
       "    </tr>\n",
       "    <tr>\n",
       "      <th>1</th>\n",
       "      <td>Steak</td>\n",
       "      <td>49.99</td>\n",
       "      <td>2</td>\n",
       "      <td>99.98</td>\n",
       "    </tr>\n",
       "    <tr>\n",
       "      <th>2</th>\n",
       "      <td>Nachos</td>\n",
       "      <td>9.99</td>\n",
       "      <td>5</td>\n",
       "      <td>49.95</td>\n",
       "    </tr>\n",
       "    <tr>\n",
       "      <th>3</th>\n",
       "      <td>Salad</td>\n",
       "      <td>8.99</td>\n",
       "      <td>5</td>\n",
       "      <td>44.95</td>\n",
       "    </tr>\n",
       "    <tr>\n",
       "      <th>4</th>\n",
       "      <td>Hamburger</td>\n",
       "      <td>5.99</td>\n",
       "      <td>5</td>\n",
       "      <td>27.00</td>\n",
       "    </tr>\n",
       "  </tbody>\n",
       "</table>\n",
       "</div>"
      ],
      "text/plain": [
       "        Food  Price  Qnty   Amnt\n",
       "0      Pizza  29.99     3  89.97\n",
       "1      Steak  49.99     2  99.98\n",
       "2     Nachos   9.99     5  49.95\n",
       "3      Salad   8.99     5  44.95\n",
       "4  Hamburger   5.99     5  27.00"
      ]
     },
     "execution_count": 59,
     "metadata": {},
     "output_type": "execute_result"
    }
   ],
   "source": [
    "df"
   ]
  },
  {
   "cell_type": "code",
   "execution_count": 61,
   "id": "83ef91c2",
   "metadata": {},
   "outputs": [
    {
     "data": {
      "text/plain": [
       "0    29.99\n",
       "1    49.99\n",
       "2     9.99\n",
       "3     8.99\n",
       "4     5.99\n",
       "Name: Price, dtype: float64"
      ]
     },
     "execution_count": 61,
     "metadata": {},
     "output_type": "execute_result"
    }
   ],
   "source": [
    "df[\"Price\"] ## never use a for loop in pandas"
   ]
  },
  {
   "cell_type": "code",
   "execution_count": 63,
   "id": "85d308d8",
   "metadata": {},
   "outputs": [
    {
     "data": {
      "text/html": [
       "<div>\n",
       "<style scoped>\n",
       "    .dataframe tbody tr th:only-of-type {\n",
       "        vertical-align: middle;\n",
       "    }\n",
       "\n",
       "    .dataframe tbody tr th {\n",
       "        vertical-align: top;\n",
       "    }\n",
       "\n",
       "    .dataframe thead th {\n",
       "        text-align: right;\n",
       "    }\n",
       "</style>\n",
       "<table border=\"1\" class=\"dataframe\">\n",
       "  <thead>\n",
       "    <tr style=\"text-align: right;\">\n",
       "      <th></th>\n",
       "      <th>Food</th>\n",
       "      <th>Price</th>\n",
       "      <th>Qnty</th>\n",
       "      <th>Amnt</th>\n",
       "    </tr>\n",
       "  </thead>\n",
       "  <tbody>\n",
       "    <tr>\n",
       "      <th>2</th>\n",
       "      <td>Nachos</td>\n",
       "      <td>9.99</td>\n",
       "      <td>5</td>\n",
       "      <td>49.95</td>\n",
       "    </tr>\n",
       "    <tr>\n",
       "      <th>3</th>\n",
       "      <td>Salad</td>\n",
       "      <td>8.99</td>\n",
       "      <td>5</td>\n",
       "      <td>44.95</td>\n",
       "    </tr>\n",
       "    <tr>\n",
       "      <th>4</th>\n",
       "      <td>Hamburger</td>\n",
       "      <td>5.99</td>\n",
       "      <td>5</td>\n",
       "      <td>27.00</td>\n",
       "    </tr>\n",
       "  </tbody>\n",
       "</table>\n",
       "</div>"
      ],
      "text/plain": [
       "        Food  Price  Qnty   Amnt\n",
       "2     Nachos   9.99     5  49.95\n",
       "3      Salad   8.99     5  44.95\n",
       "4  Hamburger   5.99     5  27.00"
      ]
     },
     "execution_count": 63,
     "metadata": {},
     "output_type": "execute_result"
    }
   ],
   "source": [
    "condition = df[\"Price\"] < 10\n",
    "df[ condition ]"
   ]
  },
  {
   "cell_type": "code",
   "execution_count": 65,
   "id": "763c9b3a",
   "metadata": {},
   "outputs": [],
   "source": [
    "max_Amnt = df[\"Amnt\"].max()"
   ]
  },
  {
   "cell_type": "code",
   "execution_count": 66,
   "id": "9c803916",
   "metadata": {},
   "outputs": [
    {
     "data": {
      "text/plain": [
       "99.98"
      ]
     },
     "execution_count": 66,
     "metadata": {},
     "output_type": "execute_result"
    }
   ],
   "source": [
    "max_Amnt"
   ]
  },
  {
   "cell_type": "code",
   "execution_count": 70,
   "id": "58ed2885",
   "metadata": {},
   "outputs": [
    {
     "data": {
      "text/plain": [
       "1    Steak\n",
       "Name: Food, dtype: object"
      ]
     },
     "execution_count": 70,
     "metadata": {},
     "output_type": "execute_result"
    }
   ],
   "source": [
    "df [ df[\"Amnt\"] == max_Amnt ] [\"Food\"]"
   ]
  },
  {
   "cell_type": "markdown",
   "id": "b5a91d76",
   "metadata": {},
   "source": [
    "### df query\n",
    "### alternative way, sometimes faster, other times slower\n",
    "### when sophisticated filtering, >1 conditions, need to break it into steps"
   ]
  },
  {
   "cell_type": "code",
   "execution_count": 71,
   "id": "a8e5104a",
   "metadata": {},
   "outputs": [
    {
     "data": {
      "text/html": [
       "<div>\n",
       "<style scoped>\n",
       "    .dataframe tbody tr th:only-of-type {\n",
       "        vertical-align: middle;\n",
       "    }\n",
       "\n",
       "    .dataframe tbody tr th {\n",
       "        vertical-align: top;\n",
       "    }\n",
       "\n",
       "    .dataframe thead th {\n",
       "        text-align: right;\n",
       "    }\n",
       "</style>\n",
       "<table border=\"1\" class=\"dataframe\">\n",
       "  <thead>\n",
       "    <tr style=\"text-align: right;\">\n",
       "      <th></th>\n",
       "      <th>Food</th>\n",
       "      <th>Price</th>\n",
       "      <th>Qnty</th>\n",
       "      <th>Amnt</th>\n",
       "    </tr>\n",
       "  </thead>\n",
       "  <tbody>\n",
       "    <tr>\n",
       "      <th>2</th>\n",
       "      <td>Nachos</td>\n",
       "      <td>9.99</td>\n",
       "      <td>5</td>\n",
       "      <td>49.95</td>\n",
       "    </tr>\n",
       "    <tr>\n",
       "      <th>3</th>\n",
       "      <td>Salad</td>\n",
       "      <td>8.99</td>\n",
       "      <td>5</td>\n",
       "      <td>44.95</td>\n",
       "    </tr>\n",
       "    <tr>\n",
       "      <th>4</th>\n",
       "      <td>Hamburger</td>\n",
       "      <td>5.99</td>\n",
       "      <td>5</td>\n",
       "      <td>27.00</td>\n",
       "    </tr>\n",
       "  </tbody>\n",
       "</table>\n",
       "</div>"
      ],
      "text/plain": [
       "        Food  Price  Qnty   Amnt\n",
       "2     Nachos   9.99     5  49.95\n",
       "3      Salad   8.99     5  44.95\n",
       "4  Hamburger   5.99     5  27.00"
      ]
     },
     "execution_count": 71,
     "metadata": {},
     "output_type": "execute_result"
    }
   ],
   "source": [
    "df.query( 'Price < 10')"
   ]
  },
  {
   "cell_type": "code",
   "execution_count": 72,
   "id": "575b237f",
   "metadata": {},
   "outputs": [
    {
     "data": {
      "text/html": [
       "<div>\n",
       "<style scoped>\n",
       "    .dataframe tbody tr th:only-of-type {\n",
       "        vertical-align: middle;\n",
       "    }\n",
       "\n",
       "    .dataframe tbody tr th {\n",
       "        vertical-align: top;\n",
       "    }\n",
       "\n",
       "    .dataframe thead th {\n",
       "        text-align: right;\n",
       "    }\n",
       "</style>\n",
       "<table border=\"1\" class=\"dataframe\">\n",
       "  <thead>\n",
       "    <tr style=\"text-align: right;\">\n",
       "      <th></th>\n",
       "      <th>Food</th>\n",
       "      <th>Price</th>\n",
       "      <th>Qnty</th>\n",
       "      <th>Amnt</th>\n",
       "    </tr>\n",
       "  </thead>\n",
       "  <tbody>\n",
       "    <tr>\n",
       "      <th>0</th>\n",
       "      <td>Pizza</td>\n",
       "      <td>29.99</td>\n",
       "      <td>3</td>\n",
       "      <td>89.97</td>\n",
       "    </tr>\n",
       "    <tr>\n",
       "      <th>1</th>\n",
       "      <td>Steak</td>\n",
       "      <td>49.99</td>\n",
       "      <td>2</td>\n",
       "      <td>99.98</td>\n",
       "    </tr>\n",
       "    <tr>\n",
       "      <th>2</th>\n",
       "      <td>Nachos</td>\n",
       "      <td>9.99</td>\n",
       "      <td>5</td>\n",
       "      <td>49.95</td>\n",
       "    </tr>\n",
       "    <tr>\n",
       "      <th>3</th>\n",
       "      <td>Salad</td>\n",
       "      <td>8.99</td>\n",
       "      <td>5</td>\n",
       "      <td>44.95</td>\n",
       "    </tr>\n",
       "    <tr>\n",
       "      <th>4</th>\n",
       "      <td>Hamburger</td>\n",
       "      <td>5.99</td>\n",
       "      <td>5</td>\n",
       "      <td>27.00</td>\n",
       "    </tr>\n",
       "  </tbody>\n",
       "</table>\n",
       "</div>"
      ],
      "text/plain": [
       "        Food  Price  Qnty   Amnt\n",
       "0      Pizza  29.99     3  89.97\n",
       "1      Steak  49.99     2  99.98\n",
       "2     Nachos   9.99     5  49.95\n",
       "3      Salad   8.99     5  44.95\n",
       "4  Hamburger   5.99     5  27.00"
      ]
     },
     "execution_count": 72,
     "metadata": {},
     "output_type": "execute_result"
    }
   ],
   "source": [
    "df"
   ]
  },
  {
   "cell_type": "code",
   "execution_count": 74,
   "id": "2e421210",
   "metadata": {},
   "outputs": [
    {
     "data": {
      "text/plain": [
       "0    Pizza\n",
       "1    Steak\n",
       "Name: Food, dtype: object"
      ]
     },
     "execution_count": 74,
     "metadata": {},
     "output_type": "execute_result"
    }
   ],
   "source": [
    "## Practice: get name of the food where quantity is < 5\n",
    "df[ df['Qnty']<5][\"Food\"]"
   ]
  },
  {
   "cell_type": "code",
   "execution_count": 77,
   "id": "64ee749e",
   "metadata": {},
   "outputs": [
    {
     "data": {
      "text/plain": [
       "pandas.core.series.Series"
      ]
     },
     "execution_count": 77,
     "metadata": {},
     "output_type": "execute_result"
    }
   ],
   "source": [
    "type(df[ df['Qnty']<5][\"Food\"])"
   ]
  },
  {
   "cell_type": "markdown",
   "id": "220404e3",
   "metadata": {},
   "source": [
    "### Dataset and read case study"
   ]
  },
  {
   "cell_type": "code",
   "execution_count": 78,
   "id": "7c3b487c",
   "metadata": {},
   "outputs": [],
   "source": [
    "## https://www.sectorspdrs.com/"
   ]
  },
  {
   "cell_type": "code",
   "execution_count": 82,
   "id": "5730907c",
   "metadata": {},
   "outputs": [],
   "source": [
    "## File location: https://www.sectorspdrs.com/mainfund/XLF\n",
    "path = \"/Users/huangz36/Downloads/index-holdings-xlf.csv\"\n",
    "df = pd.read_csv(path, skiprows=1)"
   ]
  },
  {
   "cell_type": "code",
   "execution_count": 84,
   "id": "2aee0c9a",
   "metadata": {},
   "outputs": [
    {
     "data": {
      "text/html": [
       "<div>\n",
       "<style scoped>\n",
       "    .dataframe tbody tr th:only-of-type {\n",
       "        vertical-align: middle;\n",
       "    }\n",
       "\n",
       "    .dataframe tbody tr th {\n",
       "        vertical-align: top;\n",
       "    }\n",
       "\n",
       "    .dataframe thead th {\n",
       "        text-align: right;\n",
       "    }\n",
       "</style>\n",
       "<table border=\"1\" class=\"dataframe\">\n",
       "  <thead>\n",
       "    <tr style=\"text-align: right;\">\n",
       "      <th></th>\n",
       "      <th>Symbol</th>\n",
       "      <th>Company Name</th>\n",
       "      <th>Index Weight</th>\n",
       "      <th>Last</th>\n",
       "      <th>Change</th>\n",
       "      <th>%Change</th>\n",
       "      <th>Volume</th>\n",
       "      <th>52 Week Range</th>\n",
       "    </tr>\n",
       "  </thead>\n",
       "  <tbody>\n",
       "    <tr>\n",
       "      <th>0</th>\n",
       "      <td>BRK.b</td>\n",
       "      <td>Berkshire Hathaway B</td>\n",
       "      <td>13.11%</td>\n",
       "      <td>345.35</td>\n",
       "      <td>1.98</td>\n",
       "      <td>+0.58%</td>\n",
       "      <td>2.9 M</td>\n",
       "      <td>259.85 - 344.07</td>\n",
       "    </tr>\n",
       "    <tr>\n",
       "      <th>1</th>\n",
       "      <td>JPM</td>\n",
       "      <td>JP Morgan Chase &amp; Co</td>\n",
       "      <td>9.23%</td>\n",
       "      <td>148.15</td>\n",
       "      <td>0.73</td>\n",
       "      <td>+0.50%</td>\n",
       "      <td>11.31 M</td>\n",
       "      <td>101.28 - 149.87</td>\n",
       "    </tr>\n",
       "  </tbody>\n",
       "</table>\n",
       "</div>"
      ],
      "text/plain": [
       "  Symbol          Company Name Index Weight    Last  Change %Change   Volume  \\\n",
       "0  BRK.b  Berkshire Hathaway B       13.11%  345.35    1.98  +0.58%    2.9 M   \n",
       "1    JPM  JP Morgan Chase & Co        9.23%  148.15    0.73  +0.50%  11.31 M   \n",
       "\n",
       "     52 Week Range  \n",
       "0  259.85 - 344.07  \n",
       "1  101.28 - 149.87  "
      ]
     },
     "execution_count": 84,
     "metadata": {},
     "output_type": "execute_result"
    }
   ],
   "source": [
    "df.head(2)"
   ]
  },
  {
   "cell_type": "code",
   "execution_count": 88,
   "id": "a41f84d5",
   "metadata": {},
   "outputs": [],
   "source": [
    "## Read csv from a url\n",
    "\n",
    "url = \"https://artyudinsitemedia.nyc3.cdn.digitaloceanspaces.com/index-holdings-xlf-2.csv\"\n",
    "df = pd.read_csv(url, skiprows=1)"
   ]
  },
  {
   "cell_type": "code",
   "execution_count": 90,
   "id": "a6e2387e",
   "metadata": {},
   "outputs": [
    {
     "data": {
      "text/html": [
       "<div>\n",
       "<style scoped>\n",
       "    .dataframe tbody tr th:only-of-type {\n",
       "        vertical-align: middle;\n",
       "    }\n",
       "\n",
       "    .dataframe tbody tr th {\n",
       "        vertical-align: top;\n",
       "    }\n",
       "\n",
       "    .dataframe thead th {\n",
       "        text-align: right;\n",
       "    }\n",
       "</style>\n",
       "<table border=\"1\" class=\"dataframe\">\n",
       "  <thead>\n",
       "    <tr style=\"text-align: right;\">\n",
       "      <th></th>\n",
       "      <th>Symbol</th>\n",
       "      <th>Company Name</th>\n",
       "      <th>Index Weight</th>\n",
       "      <th>Last</th>\n",
       "      <th>Change</th>\n",
       "      <th>%Change</th>\n",
       "      <th>Volume</th>\n",
       "      <th>52 Week Range</th>\n",
       "    </tr>\n",
       "  </thead>\n",
       "  <tbody>\n",
       "    <tr>\n",
       "      <th>0</th>\n",
       "      <td>BRK.b</td>\n",
       "      <td>Berkshire Hathaway B</td>\n",
       "      <td>13.11%</td>\n",
       "      <td>345.35</td>\n",
       "      <td>1.98</td>\n",
       "      <td>+0.58%</td>\n",
       "      <td>2.9 M</td>\n",
       "      <td>259.85 - 344.07</td>\n",
       "    </tr>\n",
       "    <tr>\n",
       "      <th>1</th>\n",
       "      <td>JPM</td>\n",
       "      <td>JP Morgan Chase &amp; Co</td>\n",
       "      <td>9.23%</td>\n",
       "      <td>148.15</td>\n",
       "      <td>0.73</td>\n",
       "      <td>+0.50%</td>\n",
       "      <td>11.31 M</td>\n",
       "      <td>101.28 - 149.87</td>\n",
       "    </tr>\n",
       "  </tbody>\n",
       "</table>\n",
       "</div>"
      ],
      "text/plain": [
       "  Symbol          Company Name Index Weight    Last  Change %Change   Volume  \\\n",
       "0  BRK.b  Berkshire Hathaway B       13.11%  345.35    1.98  +0.58%    2.9 M   \n",
       "1    JPM  JP Morgan Chase & Co        9.23%  148.15    0.73  +0.50%  11.31 M   \n",
       "\n",
       "     52 Week Range  \n",
       "0  259.85 - 344.07  \n",
       "1  101.28 - 149.87  "
      ]
     },
     "execution_count": 90,
     "metadata": {},
     "output_type": "execute_result"
    }
   ],
   "source": [
    "df.head(2)"
   ]
  },
  {
   "cell_type": "code",
   "execution_count": 97,
   "id": "43507e0c",
   "metadata": {},
   "outputs": [],
   "source": [
    "### Objects, () vs no \"()\"\n",
    "#### Attributes, given, part of dataset, do not need to use ()\n",
    "##### the 6 attributes do not need a () that are built in from Numpy\n",
    "#### Methods need to use \"()\", to invoke the method\n",
    "#### "
   ]
  },
  {
   "cell_type": "code",
   "execution_count": 96,
   "id": "7fc21977",
   "metadata": {},
   "outputs": [
    {
     "data": {
      "text/plain": [
       "(72, 8)"
      ]
     },
     "execution_count": 96,
     "metadata": {},
     "output_type": "execute_result"
    }
   ],
   "source": [
    "df.shape"
   ]
  },
  {
   "cell_type": "code",
   "execution_count": 94,
   "id": "8386510d",
   "metadata": {},
   "outputs": [
    {
     "data": {
      "text/plain": [
       "Symbol           0\n",
       "Company Name     0\n",
       "Index Weight     0\n",
       "Last             0\n",
       "Change           0\n",
       "%Change          0\n",
       "Volume           0\n",
       "52 Week Range    0\n",
       "dtype: int64"
      ]
     },
     "execution_count": 94,
     "metadata": {},
     "output_type": "execute_result"
    }
   ],
   "source": [
    "df.isna().sum()"
   ]
  },
  {
   "cell_type": "code",
   "execution_count": 98,
   "id": "ee9c8f12",
   "metadata": {},
   "outputs": [
    {
     "name": "stdout",
     "output_type": "stream",
     "text": [
      "<class 'pandas.core.frame.DataFrame'>\n",
      "RangeIndex: 72 entries, 0 to 71\n",
      "Data columns (total 8 columns):\n",
      " #   Column         Non-Null Count  Dtype  \n",
      "---  ------         --------------  -----  \n",
      " 0   Symbol         72 non-null     object \n",
      " 1   Company Name   72 non-null     object \n",
      " 2   Index Weight   72 non-null     object \n",
      " 3   Last           72 non-null     float64\n",
      " 4   Change         72 non-null     float64\n",
      " 5   %Change        72 non-null     object \n",
      " 6   Volume         72 non-null     object \n",
      " 7   52 Week Range  72 non-null     object \n",
      "dtypes: float64(2), object(6)\n",
      "memory usage: 4.6+ KB\n"
     ]
    }
   ],
   "source": [
    "## Look for Dtype for each column\n",
    "df.info()"
   ]
  },
  {
   "cell_type": "code",
   "execution_count": null,
   "id": "43e0b072",
   "metadata": {},
   "outputs": [],
   "source": [
    "## Object means many things, mostly means strings (str), need to clean this data first, may need to convert to numerical"
   ]
  },
  {
   "cell_type": "markdown",
   "id": "4efd2c65",
   "metadata": {},
   "source": [
    "### Clean data"
   ]
  },
  {
   "cell_type": "code",
   "execution_count": 99,
   "id": "dab95193",
   "metadata": {},
   "outputs": [
    {
     "data": {
      "text/plain": [
       "0     13.11%\n",
       "1      9.23%\n",
       "2      8.34%\n",
       "3      7.13%\n",
       "4      4.31%\n",
       "       ...  \n",
       "67     0.17%\n",
       "68     0.14%\n",
       "69     0.13%\n",
       "70     0.10%\n",
       "71     0.09%\n",
       "Name: Index Weight, Length: 72, dtype: object"
      ]
     },
     "execution_count": 99,
     "metadata": {},
     "output_type": "execute_result"
    }
   ],
   "source": [
    "df[\"Index Weight\"]"
   ]
  },
  {
   "cell_type": "code",
   "execution_count": 100,
   "id": "65176b38",
   "metadata": {},
   "outputs": [],
   "source": [
    "## Clean up (\"%\") sign"
   ]
  },
  {
   "cell_type": "code",
   "execution_count": 106,
   "id": "aa073e78",
   "metadata": {},
   "outputs": [],
   "source": [
    "## Option 1\n",
    "### Apply to series, str is built in pandas\n",
    "df[\"IW_1\"] = df[\"Index Weight\"].str.strip(\"%\").astype(float)"
   ]
  },
  {
   "cell_type": "code",
   "execution_count": 103,
   "id": "78a6546a",
   "metadata": {},
   "outputs": [
    {
     "data": {
      "text/plain": [
       "0     13.11\n",
       "1      9.23\n",
       "2      8.34\n",
       "3      7.13\n",
       "4      4.31\n",
       "      ...  \n",
       "67     0.17\n",
       "68     0.14\n",
       "69     0.13\n",
       "70     0.10\n",
       "71     0.09\n",
       "Name: IW_1, Length: 72, dtype: float64"
      ]
     },
     "execution_count": 103,
     "metadata": {},
     "output_type": "execute_result"
    }
   ],
   "source": [
    "df[\"IW_1\"]"
   ]
  },
  {
   "cell_type": "markdown",
   "id": "ce08d404",
   "metadata": {},
   "source": [
    "#### Apply to only good way to iterate over columns and rows"
   ]
  },
  {
   "cell_type": "code",
   "execution_count": 109,
   "id": "701fd1d5",
   "metadata": {},
   "outputs": [],
   "source": [
    "# Do not use map to slow, use apply (map implemented in pandas)\n",
    "## Strip applied to string one at a time\n",
    "df[\"IW_2\"] = df[\"Index Weight\"].apply(lambda x : float(x.strip(\"%\")))"
   ]
  },
  {
   "cell_type": "code",
   "execution_count": 110,
   "id": "624bc7a7",
   "metadata": {},
   "outputs": [
    {
     "data": {
      "text/html": [
       "<div>\n",
       "<style scoped>\n",
       "    .dataframe tbody tr th:only-of-type {\n",
       "        vertical-align: middle;\n",
       "    }\n",
       "\n",
       "    .dataframe tbody tr th {\n",
       "        vertical-align: top;\n",
       "    }\n",
       "\n",
       "    .dataframe thead th {\n",
       "        text-align: right;\n",
       "    }\n",
       "</style>\n",
       "<table border=\"1\" class=\"dataframe\">\n",
       "  <thead>\n",
       "    <tr style=\"text-align: right;\">\n",
       "      <th></th>\n",
       "      <th>Symbol</th>\n",
       "      <th>Company Name</th>\n",
       "      <th>Index Weight</th>\n",
       "      <th>Last</th>\n",
       "      <th>Change</th>\n",
       "      <th>%Change</th>\n",
       "      <th>Volume</th>\n",
       "      <th>52 Week Range</th>\n",
       "      <th>IW_1</th>\n",
       "      <th>IW_2</th>\n",
       "    </tr>\n",
       "  </thead>\n",
       "  <tbody>\n",
       "    <tr>\n",
       "      <th>0</th>\n",
       "      <td>BRK.b</td>\n",
       "      <td>Berkshire Hathaway B</td>\n",
       "      <td>13.11%</td>\n",
       "      <td>345.35</td>\n",
       "      <td>1.98</td>\n",
       "      <td>+0.58%</td>\n",
       "      <td>2.9 M</td>\n",
       "      <td>259.85 - 344.07</td>\n",
       "      <td>13.11</td>\n",
       "      <td>13.11</td>\n",
       "    </tr>\n",
       "    <tr>\n",
       "      <th>1</th>\n",
       "      <td>JPM</td>\n",
       "      <td>JP Morgan Chase &amp; Co</td>\n",
       "      <td>9.23%</td>\n",
       "      <td>148.15</td>\n",
       "      <td>0.73</td>\n",
       "      <td>+0.50%</td>\n",
       "      <td>11.31 M</td>\n",
       "      <td>101.28 - 149.87</td>\n",
       "      <td>9.23</td>\n",
       "      <td>9.23</td>\n",
       "    </tr>\n",
       "    <tr>\n",
       "      <th>2</th>\n",
       "      <td>V</td>\n",
       "      <td>Visa Inc A</td>\n",
       "      <td>8.34%</td>\n",
       "      <td>242.21</td>\n",
       "      <td>1.66</td>\n",
       "      <td>+0.69%</td>\n",
       "      <td>6.12 M</td>\n",
       "      <td>174.60 - 250.58</td>\n",
       "      <td>8.34</td>\n",
       "      <td>8.34</td>\n",
       "    </tr>\n",
       "    <tr>\n",
       "      <th>3</th>\n",
       "      <td>MA</td>\n",
       "      <td>Mastercard Inc A</td>\n",
       "      <td>7.13%</td>\n",
       "      <td>400.69</td>\n",
       "      <td>2.89</td>\n",
       "      <td>+0.73%</td>\n",
       "      <td>2.27 M</td>\n",
       "      <td>276.87 - 398.46</td>\n",
       "      <td>7.13</td>\n",
       "      <td>7.13</td>\n",
       "    </tr>\n",
       "    <tr>\n",
       "      <th>4</th>\n",
       "      <td>BAC</td>\n",
       "      <td>Bank of America Corp</td>\n",
       "      <td>4.31%</td>\n",
       "      <td>29.36</td>\n",
       "      <td>0.34</td>\n",
       "      <td>+1.17%</td>\n",
       "      <td>41.78 M</td>\n",
       "      <td>26.32 - 38.60</td>\n",
       "      <td>4.31</td>\n",
       "      <td>4.31</td>\n",
       "    </tr>\n",
       "    <tr>\n",
       "      <th>...</th>\n",
       "      <td>...</td>\n",
       "      <td>...</td>\n",
       "      <td>...</td>\n",
       "      <td>...</td>\n",
       "      <td>...</td>\n",
       "      <td>...</td>\n",
       "      <td>...</td>\n",
       "      <td>...</td>\n",
       "      <td>...</td>\n",
       "      <td>...</td>\n",
       "    </tr>\n",
       "    <tr>\n",
       "      <th>67</th>\n",
       "      <td>BEN</td>\n",
       "      <td>Franklin Resources Inc</td>\n",
       "      <td>0.17%</td>\n",
       "      <td>28.43</td>\n",
       "      <td>0.68</td>\n",
       "      <td>+2.45%</td>\n",
       "      <td>3.06 M</td>\n",
       "      <td>20.24 - 34.37</td>\n",
       "      <td>0.17</td>\n",
       "      <td>0.17</td>\n",
       "    </tr>\n",
       "    <tr>\n",
       "      <th>68</th>\n",
       "      <td>AIZ</td>\n",
       "      <td>Assurant Inc</td>\n",
       "      <td>0.14%</td>\n",
       "      <td>127.03</td>\n",
       "      <td>0.50</td>\n",
       "      <td>+0.40%</td>\n",
       "      <td>0.39 M</td>\n",
       "      <td>104.49 - 178.76</td>\n",
       "      <td>0.14</td>\n",
       "      <td>0.14</td>\n",
       "    </tr>\n",
       "    <tr>\n",
       "      <th>69</th>\n",
       "      <td>CMA</td>\n",
       "      <td>Comerica Inc (MI)</td>\n",
       "      <td>0.13%</td>\n",
       "      <td>47.57</td>\n",
       "      <td>1.44</td>\n",
       "      <td>+3.12%</td>\n",
       "      <td>4.35 M</td>\n",
       "      <td>28.40 - 87.02</td>\n",
       "      <td>0.13</td>\n",
       "      <td>0.13</td>\n",
       "    </tr>\n",
       "    <tr>\n",
       "      <th>70</th>\n",
       "      <td>ZION</td>\n",
       "      <td>Zions Bancorporation N.A.</td>\n",
       "      <td>0.10%</td>\n",
       "      <td>31.28</td>\n",
       "      <td>0.86</td>\n",
       "      <td>+2.81%</td>\n",
       "      <td>5.96 M</td>\n",
       "      <td>18.26 - 59.75</td>\n",
       "      <td>0.10</td>\n",
       "      <td>0.10</td>\n",
       "    </tr>\n",
       "    <tr>\n",
       "      <th>71</th>\n",
       "      <td>LNC</td>\n",
       "      <td>Lincoln National Corp</td>\n",
       "      <td>0.09%</td>\n",
       "      <td>26.21</td>\n",
       "      <td>-0.49</td>\n",
       "      <td>-1.84%</td>\n",
       "      <td>3.99 M</td>\n",
       "      <td>18.50 - 54.59</td>\n",
       "      <td>0.09</td>\n",
       "      <td>0.09</td>\n",
       "    </tr>\n",
       "  </tbody>\n",
       "</table>\n",
       "<p>72 rows × 10 columns</p>\n",
       "</div>"
      ],
      "text/plain": [
       "   Symbol               Company Name Index Weight    Last  Change %Change  \\\n",
       "0   BRK.b       Berkshire Hathaway B       13.11%  345.35    1.98  +0.58%   \n",
       "1     JPM       JP Morgan Chase & Co        9.23%  148.15    0.73  +0.50%   \n",
       "2       V                 Visa Inc A        8.34%  242.21    1.66  +0.69%   \n",
       "3      MA           Mastercard Inc A        7.13%  400.69    2.89  +0.73%   \n",
       "4     BAC       Bank of America Corp        4.31%   29.36    0.34  +1.17%   \n",
       "..    ...                        ...          ...     ...     ...     ...   \n",
       "67    BEN     Franklin Resources Inc        0.17%   28.43    0.68  +2.45%   \n",
       "68    AIZ               Assurant Inc        0.14%  127.03    0.50  +0.40%   \n",
       "69    CMA          Comerica Inc (MI)        0.13%   47.57    1.44  +3.12%   \n",
       "70   ZION  Zions Bancorporation N.A.        0.10%   31.28    0.86  +2.81%   \n",
       "71    LNC      Lincoln National Corp        0.09%   26.21   -0.49  -1.84%   \n",
       "\n",
       "     Volume    52 Week Range   IW_1   IW_2  \n",
       "0     2.9 M  259.85 - 344.07  13.11  13.11  \n",
       "1   11.31 M  101.28 - 149.87   9.23   9.23  \n",
       "2    6.12 M  174.60 - 250.58   8.34   8.34  \n",
       "3    2.27 M  276.87 - 398.46   7.13   7.13  \n",
       "4   41.78 M    26.32 - 38.60   4.31   4.31  \n",
       "..      ...              ...    ...    ...  \n",
       "67   3.06 M    20.24 - 34.37   0.17   0.17  \n",
       "68   0.39 M  104.49 - 178.76   0.14   0.14  \n",
       "69   4.35 M    28.40 - 87.02   0.13   0.13  \n",
       "70   5.96 M    18.26 - 59.75   0.10   0.10  \n",
       "71   3.99 M    18.50 - 54.59   0.09   0.09  \n",
       "\n",
       "[72 rows x 10 columns]"
      ]
     },
     "execution_count": 110,
     "metadata": {},
     "output_type": "execute_result"
    }
   ],
   "source": [
    "df"
   ]
  },
  {
   "cell_type": "code",
   "execution_count": 114,
   "id": "d1bcc878",
   "metadata": {},
   "outputs": [
    {
     "data": {
      "text/plain": [
       "71    Lincoln National Corp\n",
       "Name: Company Name, dtype: object"
      ]
     },
     "execution_count": 114,
     "metadata": {},
     "output_type": "execute_result"
    }
   ],
   "source": [
    "## Find the company with the smallest Index Weight\n",
    "min_IW1 = df['IW_1'].min()\n",
    "df[df['IW_1']==min_IW1]['Company Name']"
   ]
  },
  {
   "cell_type": "code",
   "execution_count": 112,
   "id": "ef3d351b",
   "metadata": {},
   "outputs": [
    {
     "data": {
      "text/plain": [
       "0.09"
      ]
     },
     "execution_count": 112,
     "metadata": {},
     "output_type": "execute_result"
    }
   ],
   "source": [
    "min_IW1"
   ]
  },
  {
   "cell_type": "code",
   "execution_count": 116,
   "id": "e2a445da",
   "metadata": {},
   "outputs": [
    {
     "data": {
      "text/plain": [
       "count    72.000000\n",
       "mean      1.388889\n",
       "std       2.198419\n",
       "min       0.090000\n",
       "25%       0.337500\n",
       "50%       0.670000\n",
       "75%       1.525000\n",
       "max      13.110000\n",
       "Name: IW_1, dtype: float64"
      ]
     },
     "execution_count": 116,
     "metadata": {},
     "output_type": "execute_result"
    }
   ],
   "source": [
    "## Describe numerical values\n",
    "\n",
    "df['IW_1'].describe()"
   ]
  },
  {
   "cell_type": "code",
   "execution_count": 119,
   "id": "aa9b5351",
   "metadata": {},
   "outputs": [
    {
     "data": {
      "text/html": [
       "<div>\n",
       "<style scoped>\n",
       "    .dataframe tbody tr th:only-of-type {\n",
       "        vertical-align: middle;\n",
       "    }\n",
       "\n",
       "    .dataframe tbody tr th {\n",
       "        vertical-align: top;\n",
       "    }\n",
       "\n",
       "    .dataframe thead th {\n",
       "        text-align: right;\n",
       "    }\n",
       "</style>\n",
       "<table border=\"1\" class=\"dataframe\">\n",
       "  <thead>\n",
       "    <tr style=\"text-align: right;\">\n",
       "      <th></th>\n",
       "      <th>Symbol</th>\n",
       "      <th>Company Name</th>\n",
       "      <th>Index Weight</th>\n",
       "      <th>Last</th>\n",
       "      <th>Change</th>\n",
       "      <th>%Change</th>\n",
       "      <th>Volume</th>\n",
       "      <th>52 Week Range</th>\n",
       "      <th>IW_1</th>\n",
       "      <th>IW_2</th>\n",
       "    </tr>\n",
       "  </thead>\n",
       "  <tbody>\n",
       "    <tr>\n",
       "      <th>71</th>\n",
       "      <td>LNC</td>\n",
       "      <td>Lincoln National Corp</td>\n",
       "      <td>0.09%</td>\n",
       "      <td>26.21</td>\n",
       "      <td>-0.49</td>\n",
       "      <td>-1.84%</td>\n",
       "      <td>3.99 M</td>\n",
       "      <td>18.50 - 54.59</td>\n",
       "      <td>0.09</td>\n",
       "      <td>0.09</td>\n",
       "    </tr>\n",
       "    <tr>\n",
       "      <th>70</th>\n",
       "      <td>ZION</td>\n",
       "      <td>Zions Bancorporation N.A.</td>\n",
       "      <td>0.10%</td>\n",
       "      <td>31.28</td>\n",
       "      <td>0.86</td>\n",
       "      <td>+2.81%</td>\n",
       "      <td>5.96 M</td>\n",
       "      <td>18.26 - 59.75</td>\n",
       "      <td>0.10</td>\n",
       "      <td>0.10</td>\n",
       "    </tr>\n",
       "    <tr>\n",
       "      <th>69</th>\n",
       "      <td>CMA</td>\n",
       "      <td>Comerica Inc (MI)</td>\n",
       "      <td>0.13%</td>\n",
       "      <td>47.57</td>\n",
       "      <td>1.44</td>\n",
       "      <td>+3.12%</td>\n",
       "      <td>4.35 M</td>\n",
       "      <td>28.40 - 87.02</td>\n",
       "      <td>0.13</td>\n",
       "      <td>0.13</td>\n",
       "    </tr>\n",
       "  </tbody>\n",
       "</table>\n",
       "</div>"
      ],
      "text/plain": [
       "   Symbol               Company Name Index Weight   Last  Change %Change  \\\n",
       "71    LNC      Lincoln National Corp        0.09%  26.21   -0.49  -1.84%   \n",
       "70   ZION  Zions Bancorporation N.A.        0.10%  31.28    0.86  +2.81%   \n",
       "69    CMA          Comerica Inc (MI)        0.13%  47.57    1.44  +3.12%   \n",
       "\n",
       "    Volume  52 Week Range  IW_1  IW_2  \n",
       "71  3.99 M  18.50 - 54.59  0.09  0.09  \n",
       "70  5.96 M  18.26 - 59.75  0.10  0.10  \n",
       "69  4.35 M  28.40 - 87.02  0.13  0.13  "
      ]
     },
     "execution_count": 119,
     "metadata": {},
     "output_type": "execute_result"
    }
   ],
   "source": [
    "## Build in method for the 3 smallest\n",
    "df.nsmallest(3, \"IW_1\")"
   ]
  },
  {
   "cell_type": "code",
   "execution_count": 122,
   "id": "b9a3c631",
   "metadata": {},
   "outputs": [
    {
     "data": {
      "text/plain": [
       "Symbol           3\n",
       "Company Name     3\n",
       "Index Weight     3\n",
       "Last             3\n",
       "Change           3\n",
       "%Change          3\n",
       "Volume           3\n",
       "52 Week Range    3\n",
       "IW_1             3\n",
       "IW_2             3\n",
       "dtype: int64"
      ]
     },
     "execution_count": 122,
     "metadata": {},
     "output_type": "execute_result"
    }
   ],
   "source": [
    "df.nsmallest(3, \"IW_1\").count()"
   ]
  },
  {
   "cell_type": "code",
   "execution_count": 123,
   "id": "5b22530b",
   "metadata": {},
   "outputs": [
    {
     "data": {
      "text/plain": [
       "3"
      ]
     },
     "execution_count": 123,
     "metadata": {},
     "output_type": "execute_result"
    }
   ],
   "source": [
    "df.nsmallest(3, \"IW_1\").count()[0]"
   ]
  },
  {
   "cell_type": "code",
   "execution_count": 127,
   "id": "04a9ccd7",
   "metadata": {},
   "outputs": [
    {
     "data": {
      "text/plain": [
       "320.84000000000003"
      ]
     },
     "execution_count": 127,
     "metadata": {},
     "output_type": "execute_result"
    }
   ],
   "source": [
    "## Total Volume for all stocks\n",
    "df[\"Volume_float\"] = df[\"Volume\"].apply(lambda x : float(x.strip(\"M\")))\n",
    "sum_volume_in_M = df[\"Volume_float\"].sum()\n",
    "\n",
    "sum_volume_in_M "
   ]
  },
  {
   "cell_type": "code",
   "execution_count": 130,
   "id": "a8f97452",
   "metadata": {},
   "outputs": [
    {
     "data": {
      "text/plain": [
       "35"
      ]
     },
     "execution_count": 130,
     "metadata": {},
     "output_type": "execute_result"
    }
   ],
   "source": [
    "## How many stocks got last price less than $100\n",
    "df[df['Last']<100]['Symbol'].count()"
   ]
  },
  {
   "cell_type": "code",
   "execution_count": 134,
   "id": "ca1a99fd",
   "metadata": {},
   "outputs": [
    {
     "data": {
      "text/plain": [
       "35"
      ]
     },
     "execution_count": 134,
     "metadata": {},
     "output_type": "execute_result"
    }
   ],
   "source": [
    "df.query(' Last < 100').count()[0]"
   ]
  },
  {
   "cell_type": "code",
   "execution_count": 135,
   "id": "eed90ba3",
   "metadata": {},
   "outputs": [
    {
     "data": {
      "text/html": [
       "<div>\n",
       "<style scoped>\n",
       "    .dataframe tbody tr th:only-of-type {\n",
       "        vertical-align: middle;\n",
       "    }\n",
       "\n",
       "    .dataframe tbody tr th {\n",
       "        vertical-align: top;\n",
       "    }\n",
       "\n",
       "    .dataframe thead th {\n",
       "        text-align: right;\n",
       "    }\n",
       "</style>\n",
       "<table border=\"1\" class=\"dataframe\">\n",
       "  <thead>\n",
       "    <tr style=\"text-align: right;\">\n",
       "      <th></th>\n",
       "      <th>Symbol</th>\n",
       "      <th>Company Name</th>\n",
       "      <th>Index Weight</th>\n",
       "      <th>Last</th>\n",
       "      <th>Change</th>\n",
       "      <th>%Change</th>\n",
       "      <th>Volume</th>\n",
       "      <th>52 Week Range</th>\n",
       "      <th>IW_1</th>\n",
       "      <th>IW_2</th>\n",
       "      <th>Volume_float</th>\n",
       "    </tr>\n",
       "  </thead>\n",
       "  <tbody>\n",
       "    <tr>\n",
       "      <th>0</th>\n",
       "      <td>BRK.b</td>\n",
       "      <td>Berkshire Hathaway B</td>\n",
       "      <td>13.11%</td>\n",
       "      <td>345.35</td>\n",
       "      <td>1.98</td>\n",
       "      <td>+0.58%</td>\n",
       "      <td>2.9 M</td>\n",
       "      <td>259.85 - 344.07</td>\n",
       "      <td>13.11</td>\n",
       "      <td>13.11</td>\n",
       "      <td>2.90</td>\n",
       "    </tr>\n",
       "    <tr>\n",
       "      <th>1</th>\n",
       "      <td>JPM</td>\n",
       "      <td>JP Morgan Chase &amp; Co</td>\n",
       "      <td>9.23%</td>\n",
       "      <td>148.15</td>\n",
       "      <td>0.73</td>\n",
       "      <td>+0.50%</td>\n",
       "      <td>11.31 M</td>\n",
       "      <td>101.28 - 149.87</td>\n",
       "      <td>9.23</td>\n",
       "      <td>9.23</td>\n",
       "      <td>11.31</td>\n",
       "    </tr>\n",
       "    <tr>\n",
       "      <th>2</th>\n",
       "      <td>V</td>\n",
       "      <td>Visa Inc A</td>\n",
       "      <td>8.34%</td>\n",
       "      <td>242.21</td>\n",
       "      <td>1.66</td>\n",
       "      <td>+0.69%</td>\n",
       "      <td>6.12 M</td>\n",
       "      <td>174.60 - 250.58</td>\n",
       "      <td>8.34</td>\n",
       "      <td>8.34</td>\n",
       "      <td>6.12</td>\n",
       "    </tr>\n",
       "    <tr>\n",
       "      <th>3</th>\n",
       "      <td>MA</td>\n",
       "      <td>Mastercard Inc A</td>\n",
       "      <td>7.13%</td>\n",
       "      <td>400.69</td>\n",
       "      <td>2.89</td>\n",
       "      <td>+0.73%</td>\n",
       "      <td>2.27 M</td>\n",
       "      <td>276.87 - 398.46</td>\n",
       "      <td>7.13</td>\n",
       "      <td>7.13</td>\n",
       "      <td>2.27</td>\n",
       "    </tr>\n",
       "    <tr>\n",
       "      <th>4</th>\n",
       "      <td>BAC</td>\n",
       "      <td>Bank of America Corp</td>\n",
       "      <td>4.31%</td>\n",
       "      <td>29.36</td>\n",
       "      <td>0.34</td>\n",
       "      <td>+1.17%</td>\n",
       "      <td>41.78 M</td>\n",
       "      <td>26.32 - 38.60</td>\n",
       "      <td>4.31</td>\n",
       "      <td>4.31</td>\n",
       "      <td>41.78</td>\n",
       "    </tr>\n",
       "  </tbody>\n",
       "</table>\n",
       "</div>"
      ],
      "text/plain": [
       "  Symbol          Company Name Index Weight    Last  Change %Change   Volume  \\\n",
       "0  BRK.b  Berkshire Hathaway B       13.11%  345.35    1.98  +0.58%    2.9 M   \n",
       "1    JPM  JP Morgan Chase & Co        9.23%  148.15    0.73  +0.50%  11.31 M   \n",
       "2      V            Visa Inc A        8.34%  242.21    1.66  +0.69%   6.12 M   \n",
       "3     MA      Mastercard Inc A        7.13%  400.69    2.89  +0.73%   2.27 M   \n",
       "4    BAC  Bank of America Corp        4.31%   29.36    0.34  +1.17%  41.78 M   \n",
       "\n",
       "     52 Week Range   IW_1   IW_2  Volume_float  \n",
       "0  259.85 - 344.07  13.11  13.11          2.90  \n",
       "1  101.28 - 149.87   9.23   9.23         11.31  \n",
       "2  174.60 - 250.58   8.34   8.34          6.12  \n",
       "3  276.87 - 398.46   7.13   7.13          2.27  \n",
       "4    26.32 - 38.60   4.31   4.31         41.78  "
      ]
     },
     "execution_count": 135,
     "metadata": {},
     "output_type": "execute_result"
    }
   ],
   "source": [
    "df.head()"
   ]
  },
  {
   "cell_type": "code",
   "execution_count": 142,
   "id": "7277bd88",
   "metadata": {},
   "outputs": [
    {
     "data": {
      "text/plain": [
       "12    47.38\n",
       "Name: Last, dtype: float64"
      ]
     },
     "execution_count": 142,
     "metadata": {},
     "output_type": "execute_result"
    }
   ],
   "source": [
    "## What is the last price of a company with Symbol \"C\"\n",
    "condition = df['Symbol'].apply(lambda x: x==\"C\")\n",
    "df[condition]['Last']"
   ]
  },
  {
   "cell_type": "code",
   "execution_count": 149,
   "id": "3bc8bd0e",
   "metadata": {},
   "outputs": [
    {
     "data": {
      "text/plain": [
       "47.38"
      ]
     },
     "execution_count": 149,
     "metadata": {},
     "output_type": "execute_result"
    }
   ],
   "source": [
    "## Series with only one value\n",
    "df[df[\"Symbol\"] == \"C\"][\"Last\"].iloc[0]"
   ]
  },
  {
   "cell_type": "code",
   "execution_count": 150,
   "id": "03e1286e",
   "metadata": {},
   "outputs": [
    {
     "data": {
      "text/plain": [
       "47.38"
      ]
     },
     "execution_count": 150,
     "metadata": {},
     "output_type": "execute_result"
    }
   ],
   "source": [
    "df[df[\"Symbol\"] == \"C\"][\"Last\"].squeeze()"
   ]
  },
  {
   "cell_type": "code",
   "execution_count": 146,
   "id": "850b699c",
   "metadata": {},
   "outputs": [
    {
     "data": {
      "text/html": [
       "<div>\n",
       "<style scoped>\n",
       "    .dataframe tbody tr th:only-of-type {\n",
       "        vertical-align: middle;\n",
       "    }\n",
       "\n",
       "    .dataframe tbody tr th {\n",
       "        vertical-align: top;\n",
       "    }\n",
       "\n",
       "    .dataframe thead th {\n",
       "        text-align: right;\n",
       "    }\n",
       "</style>\n",
       "<table border=\"1\" class=\"dataframe\">\n",
       "  <thead>\n",
       "    <tr style=\"text-align: right;\">\n",
       "      <th></th>\n",
       "      <th>Symbol</th>\n",
       "      <th>Company Name</th>\n",
       "      <th>Index Weight</th>\n",
       "      <th>Last</th>\n",
       "      <th>Change</th>\n",
       "      <th>%Change</th>\n",
       "      <th>Volume</th>\n",
       "      <th>52 Week Range</th>\n",
       "      <th>IW_1</th>\n",
       "      <th>IW_2</th>\n",
       "      <th>Volume_float</th>\n",
       "    </tr>\n",
       "  </thead>\n",
       "  <tbody>\n",
       "    <tr>\n",
       "      <th>4</th>\n",
       "      <td>BAC</td>\n",
       "      <td>Bank of America Corp</td>\n",
       "      <td>4.31%</td>\n",
       "      <td>29.36</td>\n",
       "      <td>0.34</td>\n",
       "      <td>+1.17%</td>\n",
       "      <td>41.78 M</td>\n",
       "      <td>26.32 - 38.60</td>\n",
       "      <td>4.31</td>\n",
       "      <td>4.31</td>\n",
       "      <td>41.78</td>\n",
       "    </tr>\n",
       "    <tr>\n",
       "      <th>5</th>\n",
       "      <td>WFC</td>\n",
       "      <td>Wells Fargo &amp; Co</td>\n",
       "      <td>3.43%</td>\n",
       "      <td>43.26</td>\n",
       "      <td>0.52</td>\n",
       "      <td>+1.22%</td>\n",
       "      <td>13.99 M</td>\n",
       "      <td>35.25 - 48.84</td>\n",
       "      <td>3.43</td>\n",
       "      <td>3.43</td>\n",
       "      <td>13.99</td>\n",
       "    </tr>\n",
       "    <tr>\n",
       "      <th>11</th>\n",
       "      <td>MMC</td>\n",
       "      <td>Marsh &amp; McLennan Companies</td>\n",
       "      <td>1.98%</td>\n",
       "      <td>186.65</td>\n",
       "      <td>-0.25</td>\n",
       "      <td>-0.13%</td>\n",
       "      <td>1.47 M</td>\n",
       "      <td>146.82 - 189.02</td>\n",
       "      <td>1.98</td>\n",
       "      <td>1.98</td>\n",
       "      <td>1.47</td>\n",
       "    </tr>\n",
       "    <tr>\n",
       "      <th>12</th>\n",
       "      <td>C</td>\n",
       "      <td>Citigroup Inc</td>\n",
       "      <td>1.94%</td>\n",
       "      <td>47.38</td>\n",
       "      <td>0.85</td>\n",
       "      <td>+1.83%</td>\n",
       "      <td>17.94 M</td>\n",
       "      <td>40.01 - 54.56</td>\n",
       "      <td>1.94</td>\n",
       "      <td>1.94</td>\n",
       "      <td>17.94</td>\n",
       "    </tr>\n",
       "    <tr>\n",
       "      <th>13</th>\n",
       "      <td>SCHW</td>\n",
       "      <td>Charles Schwab Corp</td>\n",
       "      <td>1.83%</td>\n",
       "      <td>58.41</td>\n",
       "      <td>0.83</td>\n",
       "      <td>+1.44%</td>\n",
       "      <td>8.9 M</td>\n",
       "      <td>45.00 - 86.63</td>\n",
       "      <td>1.83</td>\n",
       "      <td>1.83</td>\n",
       "      <td>8.90</td>\n",
       "    </tr>\n",
       "    <tr>\n",
       "      <th>14</th>\n",
       "      <td>CB</td>\n",
       "      <td>Chubb Limited</td>\n",
       "      <td>1.70%</td>\n",
       "      <td>190.28</td>\n",
       "      <td>-1.83</td>\n",
       "      <td>-0.95%</td>\n",
       "      <td>2.02 M</td>\n",
       "      <td>173.78 - 231.37</td>\n",
       "      <td>1.70</td>\n",
       "      <td>1.70</td>\n",
       "      <td>2.02</td>\n",
       "    </tr>\n",
       "    <tr>\n",
       "      <th>19</th>\n",
       "      <td>CME</td>\n",
       "      <td>CME Group Inc A</td>\n",
       "      <td>1.40%</td>\n",
       "      <td>181.31</td>\n",
       "      <td>-1.02</td>\n",
       "      <td>-0.56%</td>\n",
       "      <td>1.33 M</td>\n",
       "      <td>166.55 - 210.17</td>\n",
       "      <td>1.40</td>\n",
       "      <td>1.40</td>\n",
       "      <td>1.33</td>\n",
       "    </tr>\n",
       "    <tr>\n",
       "      <th>20</th>\n",
       "      <td>ICE</td>\n",
       "      <td>Intercontinental Exchange Inc</td>\n",
       "      <td>1.37%</td>\n",
       "      <td>115.38</td>\n",
       "      <td>0.97</td>\n",
       "      <td>+0.85%</td>\n",
       "      <td>1.98 M</td>\n",
       "      <td>88.60 - 114.49</td>\n",
       "      <td>1.37</td>\n",
       "      <td>1.37</td>\n",
       "      <td>1.98</td>\n",
       "    </tr>\n",
       "    <tr>\n",
       "      <th>21</th>\n",
       "      <td>MCO</td>\n",
       "      <td>Moody's Corp</td>\n",
       "      <td>1.15%</td>\n",
       "      <td>347.21</td>\n",
       "      <td>7.95</td>\n",
       "      <td>+2.34%</td>\n",
       "      <td>0.89 M</td>\n",
       "      <td>230.16 - 351.06</td>\n",
       "      <td>1.15</td>\n",
       "      <td>1.15</td>\n",
       "      <td>0.89</td>\n",
       "    </tr>\n",
       "    <tr>\n",
       "      <th>22</th>\n",
       "      <td>PNC</td>\n",
       "      <td>PNC Finl Services Group</td>\n",
       "      <td>1.08%</td>\n",
       "      <td>127.23</td>\n",
       "      <td>0.74</td>\n",
       "      <td>+0.59%</td>\n",
       "      <td>2.51 M</td>\n",
       "      <td>110.31 - 176.34</td>\n",
       "      <td>1.08</td>\n",
       "      <td>1.08</td>\n",
       "      <td>2.51</td>\n",
       "    </tr>\n",
       "    <tr>\n",
       "      <th>25</th>\n",
       "      <td>TFC</td>\n",
       "      <td>Truist Financial Corp</td>\n",
       "      <td>0.93%</td>\n",
       "      <td>33.02</td>\n",
       "      <td>0.54</td>\n",
       "      <td>+1.66%</td>\n",
       "      <td>10.17 M</td>\n",
       "      <td>25.56 - 53.34</td>\n",
       "      <td>0.93</td>\n",
       "      <td>0.93</td>\n",
       "      <td>10.17</td>\n",
       "    </tr>\n",
       "    <tr>\n",
       "      <th>26</th>\n",
       "      <td>COF</td>\n",
       "      <td>Capital One Financial</td>\n",
       "      <td>0.92%</td>\n",
       "      <td>112.74</td>\n",
       "      <td>0.54</td>\n",
       "      <td>+0.48%</td>\n",
       "      <td>1.83 M</td>\n",
       "      <td>83.93 - 123.09</td>\n",
       "      <td>0.92</td>\n",
       "      <td>0.92</td>\n",
       "      <td>1.83</td>\n",
       "    </tr>\n",
       "    <tr>\n",
       "      <th>29</th>\n",
       "      <td>MSCI</td>\n",
       "      <td>MSCI Inc</td>\n",
       "      <td>0.83%</td>\n",
       "      <td>497.75</td>\n",
       "      <td>11.10</td>\n",
       "      <td>+2.28%</td>\n",
       "      <td>0.5 M</td>\n",
       "      <td>385.00 - 572.50</td>\n",
       "      <td>0.83</td>\n",
       "      <td>0.83</td>\n",
       "      <td>0.50</td>\n",
       "    </tr>\n",
       "    <tr>\n",
       "      <th>39</th>\n",
       "      <td>ACGL</td>\n",
       "      <td>Arch Capital Group Ltd</td>\n",
       "      <td>0.61%</td>\n",
       "      <td>76.38</td>\n",
       "      <td>0.46</td>\n",
       "      <td>+0.61%</td>\n",
       "      <td>1.97 M</td>\n",
       "      <td>41.05 - 78.30</td>\n",
       "      <td>0.61</td>\n",
       "      <td>0.61</td>\n",
       "      <td>1.97</td>\n",
       "    </tr>\n",
       "    <tr>\n",
       "      <th>53</th>\n",
       "      <td>CINF</td>\n",
       "      <td>Cincinnati Financial Corp</td>\n",
       "      <td>0.34%</td>\n",
       "      <td>99.82</td>\n",
       "      <td>0.22</td>\n",
       "      <td>+0.22%</td>\n",
       "      <td>0.71 M</td>\n",
       "      <td>88.66 - 130.66</td>\n",
       "      <td>0.34</td>\n",
       "      <td>0.34</td>\n",
       "      <td>0.71</td>\n",
       "    </tr>\n",
       "    <tr>\n",
       "      <th>58</th>\n",
       "      <td>CBOE</td>\n",
       "      <td>Cboe Global Markets, Inc</td>\n",
       "      <td>0.31%</td>\n",
       "      <td>136.46</td>\n",
       "      <td>-1.14</td>\n",
       "      <td>-0.83%</td>\n",
       "      <td>0.59 M</td>\n",
       "      <td>114.17 - 140.82</td>\n",
       "      <td>0.31</td>\n",
       "      <td>0.31</td>\n",
       "      <td>0.59</td>\n",
       "    </tr>\n",
       "    <tr>\n",
       "      <th>59</th>\n",
       "      <td>CFG</td>\n",
       "      <td>Citizens Financial Group Inc</td>\n",
       "      <td>0.29%</td>\n",
       "      <td>28.11</td>\n",
       "      <td>0.53</td>\n",
       "      <td>+1.92%</td>\n",
       "      <td>6.29 M</td>\n",
       "      <td>23.37 - 44.82</td>\n",
       "      <td>0.29</td>\n",
       "      <td>0.29</td>\n",
       "      <td>6.29</td>\n",
       "    </tr>\n",
       "    <tr>\n",
       "      <th>69</th>\n",
       "      <td>CMA</td>\n",
       "      <td>Comerica Inc (MI)</td>\n",
       "      <td>0.13%</td>\n",
       "      <td>47.57</td>\n",
       "      <td>1.44</td>\n",
       "      <td>+3.12%</td>\n",
       "      <td>4.35 M</td>\n",
       "      <td>28.40 - 87.02</td>\n",
       "      <td>0.13</td>\n",
       "      <td>0.13</td>\n",
       "      <td>4.35</td>\n",
       "    </tr>\n",
       "    <tr>\n",
       "      <th>71</th>\n",
       "      <td>LNC</td>\n",
       "      <td>Lincoln National Corp</td>\n",
       "      <td>0.09%</td>\n",
       "      <td>26.21</td>\n",
       "      <td>-0.49</td>\n",
       "      <td>-1.84%</td>\n",
       "      <td>3.99 M</td>\n",
       "      <td>18.50 - 54.59</td>\n",
       "      <td>0.09</td>\n",
       "      <td>0.09</td>\n",
       "      <td>3.99</td>\n",
       "    </tr>\n",
       "  </tbody>\n",
       "</table>\n",
       "</div>"
      ],
      "text/plain": [
       "   Symbol                   Company Name Index Weight    Last  Change %Change  \\\n",
       "4     BAC           Bank of America Corp        4.31%   29.36    0.34  +1.17%   \n",
       "5     WFC               Wells Fargo & Co        3.43%   43.26    0.52  +1.22%   \n",
       "11    MMC     Marsh & McLennan Companies        1.98%  186.65   -0.25  -0.13%   \n",
       "12      C                  Citigroup Inc        1.94%   47.38    0.85  +1.83%   \n",
       "13   SCHW            Charles Schwab Corp        1.83%   58.41    0.83  +1.44%   \n",
       "14     CB                  Chubb Limited        1.70%  190.28   -1.83  -0.95%   \n",
       "19    CME                CME Group Inc A        1.40%  181.31   -1.02  -0.56%   \n",
       "20    ICE  Intercontinental Exchange Inc        1.37%  115.38    0.97  +0.85%   \n",
       "21    MCO                   Moody's Corp        1.15%  347.21    7.95  +2.34%   \n",
       "22    PNC        PNC Finl Services Group        1.08%  127.23    0.74  +0.59%   \n",
       "25    TFC          Truist Financial Corp        0.93%   33.02    0.54  +1.66%   \n",
       "26    COF          Capital One Financial        0.92%  112.74    0.54  +0.48%   \n",
       "29   MSCI                       MSCI Inc        0.83%  497.75   11.10  +2.28%   \n",
       "39   ACGL         Arch Capital Group Ltd        0.61%   76.38    0.46  +0.61%   \n",
       "53   CINF      Cincinnati Financial Corp        0.34%   99.82    0.22  +0.22%   \n",
       "58   CBOE       Cboe Global Markets, Inc        0.31%  136.46   -1.14  -0.83%   \n",
       "59    CFG   Citizens Financial Group Inc        0.29%   28.11    0.53  +1.92%   \n",
       "69    CMA              Comerica Inc (MI)        0.13%   47.57    1.44  +3.12%   \n",
       "71    LNC          Lincoln National Corp        0.09%   26.21   -0.49  -1.84%   \n",
       "\n",
       "     Volume    52 Week Range  IW_1  IW_2  Volume_float  \n",
       "4   41.78 M    26.32 - 38.60  4.31  4.31         41.78  \n",
       "5   13.99 M    35.25 - 48.84  3.43  3.43         13.99  \n",
       "11   1.47 M  146.82 - 189.02  1.98  1.98          1.47  \n",
       "12  17.94 M    40.01 - 54.56  1.94  1.94         17.94  \n",
       "13    8.9 M    45.00 - 86.63  1.83  1.83          8.90  \n",
       "14   2.02 M  173.78 - 231.37  1.70  1.70          2.02  \n",
       "19   1.33 M  166.55 - 210.17  1.40  1.40          1.33  \n",
       "20   1.98 M   88.60 - 114.49  1.37  1.37          1.98  \n",
       "21   0.89 M  230.16 - 351.06  1.15  1.15          0.89  \n",
       "22   2.51 M  110.31 - 176.34  1.08  1.08          2.51  \n",
       "25  10.17 M    25.56 - 53.34  0.93  0.93         10.17  \n",
       "26   1.83 M   83.93 - 123.09  0.92  0.92          1.83  \n",
       "29    0.5 M  385.00 - 572.50  0.83  0.83          0.50  \n",
       "39   1.97 M    41.05 - 78.30  0.61  0.61          1.97  \n",
       "53   0.71 M   88.66 - 130.66  0.34  0.34          0.71  \n",
       "58   0.59 M  114.17 - 140.82  0.31  0.31          0.59  \n",
       "59   6.29 M    23.37 - 44.82  0.29  0.29          6.29  \n",
       "69   4.35 M    28.40 - 87.02  0.13  0.13          4.35  \n",
       "71   3.99 M    18.50 - 54.59  0.09  0.09          3.99  "
      ]
     },
     "execution_count": 146,
     "metadata": {},
     "output_type": "execute_result"
    }
   ],
   "source": [
    "df[df[\"Symbol\"].str.contains(\"C\")]"
   ]
  },
  {
   "cell_type": "code",
   "execution_count": 155,
   "id": "3e2d683a",
   "metadata": {},
   "outputs": [
    {
     "data": {
      "text/html": [
       "<div>\n",
       "<style scoped>\n",
       "    .dataframe tbody tr th:only-of-type {\n",
       "        vertical-align: middle;\n",
       "    }\n",
       "\n",
       "    .dataframe tbody tr th {\n",
       "        vertical-align: top;\n",
       "    }\n",
       "\n",
       "    .dataframe thead th {\n",
       "        text-align: right;\n",
       "    }\n",
       "</style>\n",
       "<table border=\"1\" class=\"dataframe\">\n",
       "  <thead>\n",
       "    <tr style=\"text-align: right;\">\n",
       "      <th></th>\n",
       "      <th>Symbol</th>\n",
       "      <th>Company Name</th>\n",
       "      <th>Index Weight</th>\n",
       "      <th>Last</th>\n",
       "      <th>Change</th>\n",
       "      <th>%Change</th>\n",
       "      <th>Volume</th>\n",
       "      <th>52 Week Range</th>\n",
       "      <th>IW_1</th>\n",
       "      <th>IW_2</th>\n",
       "      <th>Volume_float</th>\n",
       "    </tr>\n",
       "  </thead>\n",
       "  <tbody>\n",
       "    <tr>\n",
       "      <th>12</th>\n",
       "      <td>C</td>\n",
       "      <td>Citigroup Inc</td>\n",
       "      <td>1.94%</td>\n",
       "      <td>47.38</td>\n",
       "      <td>0.85</td>\n",
       "      <td>+1.83%</td>\n",
       "      <td>17.94 M</td>\n",
       "      <td>40.01 - 54.56</td>\n",
       "      <td>1.94</td>\n",
       "      <td>1.94</td>\n",
       "      <td>17.94</td>\n",
       "    </tr>\n",
       "  </tbody>\n",
       "</table>\n",
       "</div>"
      ],
      "text/plain": [
       "   Symbol   Company Name Index Weight   Last  Change %Change   Volume  \\\n",
       "12      C  Citigroup Inc        1.94%  47.38    0.85  +1.83%  17.94 M   \n",
       "\n",
       "    52 Week Range  IW_1  IW_2  Volume_float  \n",
       "12  40.01 - 54.56  1.94  1.94         17.94  "
      ]
     },
     "execution_count": 155,
     "metadata": {},
     "output_type": "execute_result"
    }
   ],
   "source": [
    "## What is the last price of a company with Symbol \"C\", case sensitive does not work in this way\n",
    "condition = df['Company Name'].apply(lambda x: \"group\" in x)\n",
    "df[condition]"
   ]
  },
  {
   "cell_type": "code",
   "execution_count": 157,
   "id": "fc3ff751",
   "metadata": {},
   "outputs": [
    {
     "data": {
      "text/plain": [
       "11"
      ]
     },
     "execution_count": 157,
     "metadata": {},
     "output_type": "execute_result"
    }
   ],
   "source": [
    "# contains uses Regex\n",
    "cond_group = df['Company Name'].str.contains(\"group\", case = False)\n",
    "df[cond_group].count()[0]"
   ]
  },
  {
   "cell_type": "code",
   "execution_count": 158,
   "id": "f5b51c75",
   "metadata": {},
   "outputs": [
    {
     "name": "stdout",
     "output_type": "stream",
     "text": [
      "11 19\n"
     ]
    }
   ],
   "source": [
    "## What's more popular group or corp\n",
    "\n",
    "cond_group = df['Company Name'].str.contains(\"group\", case = False)\n",
    "group_count = df[cond_group].count()[0]\n",
    "\n",
    "cond_corp = df['Company Name'].str.contains(\"corp\", case = False)\n",
    "corp_count = df[cond_corp].count()[0]\n",
    "\n",
    "print(group_count, corp_count)"
   ]
  },
  {
   "cell_type": "code",
   "execution_count": 159,
   "id": "ca8ae1e9",
   "metadata": {},
   "outputs": [
    {
     "data": {
      "text/html": [
       "<div>\n",
       "<style scoped>\n",
       "    .dataframe tbody tr th:only-of-type {\n",
       "        vertical-align: middle;\n",
       "    }\n",
       "\n",
       "    .dataframe tbody tr th {\n",
       "        vertical-align: top;\n",
       "    }\n",
       "\n",
       "    .dataframe thead th {\n",
       "        text-align: right;\n",
       "    }\n",
       "</style>\n",
       "<table border=\"1\" class=\"dataframe\">\n",
       "  <thead>\n",
       "    <tr style=\"text-align: right;\">\n",
       "      <th></th>\n",
       "      <th>Symbol</th>\n",
       "      <th>Company Name</th>\n",
       "      <th>Index Weight</th>\n",
       "      <th>Last</th>\n",
       "      <th>Change</th>\n",
       "      <th>%Change</th>\n",
       "      <th>Volume</th>\n",
       "      <th>52 Week Range</th>\n",
       "      <th>IW_1</th>\n",
       "      <th>IW_2</th>\n",
       "      <th>Volume_float</th>\n",
       "    </tr>\n",
       "  </thead>\n",
       "  <tbody>\n",
       "    <tr>\n",
       "      <th>0</th>\n",
       "      <td>BRK.b</td>\n",
       "      <td>Berkshire Hathaway B</td>\n",
       "      <td>13.11%</td>\n",
       "      <td>345.35</td>\n",
       "      <td>1.98</td>\n",
       "      <td>+0.58%</td>\n",
       "      <td>2.9 M</td>\n",
       "      <td>259.85 - 344.07</td>\n",
       "      <td>13.11</td>\n",
       "      <td>13.11</td>\n",
       "      <td>2.90</td>\n",
       "    </tr>\n",
       "    <tr>\n",
       "      <th>1</th>\n",
       "      <td>JPM</td>\n",
       "      <td>JP Morgan Chase &amp; Co</td>\n",
       "      <td>9.23%</td>\n",
       "      <td>148.15</td>\n",
       "      <td>0.73</td>\n",
       "      <td>+0.50%</td>\n",
       "      <td>11.31 M</td>\n",
       "      <td>101.28 - 149.87</td>\n",
       "      <td>9.23</td>\n",
       "      <td>9.23</td>\n",
       "      <td>11.31</td>\n",
       "    </tr>\n",
       "    <tr>\n",
       "      <th>2</th>\n",
       "      <td>V</td>\n",
       "      <td>Visa Inc A</td>\n",
       "      <td>8.34%</td>\n",
       "      <td>242.21</td>\n",
       "      <td>1.66</td>\n",
       "      <td>+0.69%</td>\n",
       "      <td>6.12 M</td>\n",
       "      <td>174.60 - 250.58</td>\n",
       "      <td>8.34</td>\n",
       "      <td>8.34</td>\n",
       "      <td>6.12</td>\n",
       "    </tr>\n",
       "    <tr>\n",
       "      <th>3</th>\n",
       "      <td>MA</td>\n",
       "      <td>Mastercard Inc A</td>\n",
       "      <td>7.13%</td>\n",
       "      <td>400.69</td>\n",
       "      <td>2.89</td>\n",
       "      <td>+0.73%</td>\n",
       "      <td>2.27 M</td>\n",
       "      <td>276.87 - 398.46</td>\n",
       "      <td>7.13</td>\n",
       "      <td>7.13</td>\n",
       "      <td>2.27</td>\n",
       "    </tr>\n",
       "    <tr>\n",
       "      <th>4</th>\n",
       "      <td>BAC</td>\n",
       "      <td>Bank of America Corp</td>\n",
       "      <td>4.31%</td>\n",
       "      <td>29.36</td>\n",
       "      <td>0.34</td>\n",
       "      <td>+1.17%</td>\n",
       "      <td>41.78 M</td>\n",
       "      <td>26.32 - 38.60</td>\n",
       "      <td>4.31</td>\n",
       "      <td>4.31</td>\n",
       "      <td>41.78</td>\n",
       "    </tr>\n",
       "  </tbody>\n",
       "</table>\n",
       "</div>"
      ],
      "text/plain": [
       "  Symbol          Company Name Index Weight    Last  Change %Change   Volume  \\\n",
       "0  BRK.b  Berkshire Hathaway B       13.11%  345.35    1.98  +0.58%    2.9 M   \n",
       "1    JPM  JP Morgan Chase & Co        9.23%  148.15    0.73  +0.50%  11.31 M   \n",
       "2      V            Visa Inc A        8.34%  242.21    1.66  +0.69%   6.12 M   \n",
       "3     MA      Mastercard Inc A        7.13%  400.69    2.89  +0.73%   2.27 M   \n",
       "4    BAC  Bank of America Corp        4.31%   29.36    0.34  +1.17%  41.78 M   \n",
       "\n",
       "     52 Week Range   IW_1   IW_2  Volume_float  \n",
       "0  259.85 - 344.07  13.11  13.11          2.90  \n",
       "1  101.28 - 149.87   9.23   9.23         11.31  \n",
       "2  174.60 - 250.58   8.34   8.34          6.12  \n",
       "3  276.87 - 398.46   7.13   7.13          2.27  \n",
       "4    26.32 - 38.60   4.31   4.31         41.78  "
      ]
     },
     "execution_count": 159,
     "metadata": {},
     "output_type": "execute_result"
    }
   ],
   "source": [
    "df.head()"
   ]
  },
  {
   "cell_type": "code",
   "execution_count": 167,
   "id": "7bea10f8",
   "metadata": {},
   "outputs": [],
   "source": [
    "## Split \"52 Week Range\" into \"low\" and \"high\"\n",
    "\n",
    "df[\"high\"] = df[\"52 Week Range\"].apply(lambda x: float(x.split(\"-\")[1]))\n",
    "df[\"low\"] = df[\"52 Week Range\"].apply(lambda x: float(x.split(\"-\")[0]))"
   ]
  },
  {
   "cell_type": "code",
   "execution_count": 176,
   "id": "57c65c04",
   "metadata": {},
   "outputs": [],
   "source": [
    "df[[\"H\", \"L\"]] = df[\"52 Week Range\"].str.split(\"-\", 1, expand = True).astype(float)"
   ]
  },
  {
   "cell_type": "code",
   "execution_count": 182,
   "id": "702be36c",
   "metadata": {},
   "outputs": [
    {
     "data": {
      "text/plain": [
       "0     344.07\n",
       "1     149.87\n",
       "2     250.58\n",
       "3     398.46\n",
       "4      38.60\n",
       "       ...  \n",
       "67     34.37\n",
       "68    178.76\n",
       "69     87.02\n",
       "70     59.75\n",
       "71     54.59\n",
       "Name: L, Length: 72, dtype: float64"
      ]
     },
     "execution_count": 182,
     "metadata": {},
     "output_type": "execute_result"
    }
   ],
   "source": [
    "pd.to_numeric(df[\"H\"])\n",
    "pd.to_numeric(df[\"L\"])"
   ]
  },
  {
   "cell_type": "code",
   "execution_count": 183,
   "id": "1bf19b78",
   "metadata": {},
   "outputs": [
    {
     "data": {
      "text/html": [
       "<div>\n",
       "<style scoped>\n",
       "    .dataframe tbody tr th:only-of-type {\n",
       "        vertical-align: middle;\n",
       "    }\n",
       "\n",
       "    .dataframe tbody tr th {\n",
       "        vertical-align: top;\n",
       "    }\n",
       "\n",
       "    .dataframe thead th {\n",
       "        text-align: right;\n",
       "    }\n",
       "</style>\n",
       "<table border=\"1\" class=\"dataframe\">\n",
       "  <thead>\n",
       "    <tr style=\"text-align: right;\">\n",
       "      <th></th>\n",
       "      <th>H</th>\n",
       "      <th>L</th>\n",
       "    </tr>\n",
       "  </thead>\n",
       "  <tbody>\n",
       "    <tr>\n",
       "      <th>0</th>\n",
       "      <td>259.85</td>\n",
       "      <td>344.07</td>\n",
       "    </tr>\n",
       "    <tr>\n",
       "      <th>1</th>\n",
       "      <td>101.28</td>\n",
       "      <td>149.87</td>\n",
       "    </tr>\n",
       "    <tr>\n",
       "      <th>2</th>\n",
       "      <td>174.60</td>\n",
       "      <td>250.58</td>\n",
       "    </tr>\n",
       "    <tr>\n",
       "      <th>3</th>\n",
       "      <td>276.87</td>\n",
       "      <td>398.46</td>\n",
       "    </tr>\n",
       "    <tr>\n",
       "      <th>4</th>\n",
       "      <td>26.32</td>\n",
       "      <td>38.60</td>\n",
       "    </tr>\n",
       "    <tr>\n",
       "      <th>...</th>\n",
       "      <td>...</td>\n",
       "      <td>...</td>\n",
       "    </tr>\n",
       "    <tr>\n",
       "      <th>67</th>\n",
       "      <td>20.24</td>\n",
       "      <td>34.37</td>\n",
       "    </tr>\n",
       "    <tr>\n",
       "      <th>68</th>\n",
       "      <td>104.49</td>\n",
       "      <td>178.76</td>\n",
       "    </tr>\n",
       "    <tr>\n",
       "      <th>69</th>\n",
       "      <td>28.40</td>\n",
       "      <td>87.02</td>\n",
       "    </tr>\n",
       "    <tr>\n",
       "      <th>70</th>\n",
       "      <td>18.26</td>\n",
       "      <td>59.75</td>\n",
       "    </tr>\n",
       "    <tr>\n",
       "      <th>71</th>\n",
       "      <td>18.50</td>\n",
       "      <td>54.59</td>\n",
       "    </tr>\n",
       "  </tbody>\n",
       "</table>\n",
       "<p>72 rows × 2 columns</p>\n",
       "</div>"
      ],
      "text/plain": [
       "         H       L\n",
       "0   259.85  344.07\n",
       "1   101.28  149.87\n",
       "2   174.60  250.58\n",
       "3   276.87  398.46\n",
       "4    26.32   38.60\n",
       "..     ...     ...\n",
       "67   20.24   34.37\n",
       "68  104.49  178.76\n",
       "69   28.40   87.02\n",
       "70   18.26   59.75\n",
       "71   18.50   54.59\n",
       "\n",
       "[72 rows x 2 columns]"
      ]
     },
     "execution_count": 183,
     "metadata": {},
     "output_type": "execute_result"
    }
   ],
   "source": [
    "## Apply iterate through one column (all rows)\n",
    "## Applymap iterate through multiple columns (all rows)\n",
    "df[[\"H\", \"L\"]].applymap(pd.to_numeric)"
   ]
  },
  {
   "cell_type": "code",
   "execution_count": 177,
   "id": "b49bf7bf",
   "metadata": {},
   "outputs": [
    {
     "name": "stdout",
     "output_type": "stream",
     "text": [
      "Help on method split in module pandas.core.strings.accessor:\n",
      "\n",
      "split(pat: 'str | re.Pattern | None' = None, n=-1, expand=False, *, regex: 'bool | None' = None) method of pandas.core.strings.accessor.StringMethods instance\n",
      "    Split strings around given separator/delimiter.\n",
      "    \n",
      "    Splits the string in the Series/Index from the beginning,\n",
      "    at the specified delimiter string.\n",
      "    \n",
      "    Parameters\n",
      "    ----------\n",
      "    pat : str or compiled regex, optional\n",
      "        String or regular expression to split on.\n",
      "        If not specified, split on whitespace.\n",
      "    n : int, default -1 (all)\n",
      "        Limit number of splits in output.\n",
      "        ``None``, 0 and -1 will be interpreted as return all splits.\n",
      "    expand : bool, default False\n",
      "        Expand the split strings into separate columns.\n",
      "    \n",
      "        - If ``True``, return DataFrame/MultiIndex expanding dimensionality.\n",
      "        - If ``False``, return Series/Index, containing lists of strings.\n",
      "    \n",
      "    regex : bool, default None\n",
      "        Determines if the passed-in pattern is a regular expression:\n",
      "    \n",
      "        - If ``True``, assumes the passed-in pattern is a regular expression\n",
      "        - If ``False``, treats the pattern as a literal string.\n",
      "        - If ``None`` and `pat` length is 1, treats `pat` as a literal string.\n",
      "        - If ``None`` and `pat` length is not 1, treats `pat` as a regular expression.\n",
      "        - Cannot be set to False if `pat` is a compiled regex\n",
      "    \n",
      "        .. versionadded:: 1.4.0\n",
      "    \n",
      "    Returns\n",
      "    -------\n",
      "    Series, Index, DataFrame or MultiIndex\n",
      "        Type matches caller unless ``expand=True`` (see Notes).\n",
      "    \n",
      "    Raises\n",
      "    ------\n",
      "    ValueError\n",
      "        * if `regex` is False and `pat` is a compiled regex\n",
      "    \n",
      "    See Also\n",
      "    --------\n",
      "    Series.str.split : Split strings around given separator/delimiter.\n",
      "    Series.str.rsplit : Splits string around given separator/delimiter,\n",
      "        starting from the right.\n",
      "    Series.str.join : Join lists contained as elements in the Series/Index\n",
      "        with passed delimiter.\n",
      "    str.split : Standard library version for split.\n",
      "    str.rsplit : Standard library version for rsplit.\n",
      "    \n",
      "    Notes\n",
      "    -----\n",
      "    The handling of the `n` keyword depends on the number of found splits:\n",
      "    \n",
      "    - If found splits > `n`,  make first `n` splits only\n",
      "    - If found splits <= `n`, make all splits\n",
      "    - If for a certain row the number of found splits < `n`,\n",
      "      append `None` for padding up to `n` if ``expand=True``\n",
      "    \n",
      "    If using ``expand=True``, Series and Index callers return DataFrame and\n",
      "    MultiIndex objects, respectively.\n",
      "    \n",
      "    Use of `regex=False` with a `pat` as a compiled regex will raise\n",
      "    an error.\n",
      "    \n",
      "    Examples\n",
      "    --------\n",
      "    >>> s = pd.Series(\n",
      "    ...     [\n",
      "    ...         \"this is a regular sentence\",\n",
      "    ...         \"https://docs.python.org/3/tutorial/index.html\",\n",
      "    ...         np.nan\n",
      "    ...     ]\n",
      "    ... )\n",
      "    >>> s\n",
      "    0                       this is a regular sentence\n",
      "    1    https://docs.python.org/3/tutorial/index.html\n",
      "    2                                              NaN\n",
      "    dtype: object\n",
      "    \n",
      "    In the default setting, the string is split by whitespace.\n",
      "    \n",
      "    >>> s.str.split()\n",
      "    0                   [this, is, a, regular, sentence]\n",
      "    1    [https://docs.python.org/3/tutorial/index.html]\n",
      "    2                                                NaN\n",
      "    dtype: object\n",
      "    \n",
      "    Without the `n` parameter, the outputs of `rsplit` and `split`\n",
      "    are identical.\n",
      "    \n",
      "    >>> s.str.rsplit()\n",
      "    0                   [this, is, a, regular, sentence]\n",
      "    1    [https://docs.python.org/3/tutorial/index.html]\n",
      "    2                                                NaN\n",
      "    dtype: object\n",
      "    \n",
      "    The `n` parameter can be used to limit the number of splits on the\n",
      "    delimiter. The outputs of `split` and `rsplit` are different.\n",
      "    \n",
      "    >>> s.str.split(n=2)\n",
      "    0                     [this, is, a regular sentence]\n",
      "    1    [https://docs.python.org/3/tutorial/index.html]\n",
      "    2                                                NaN\n",
      "    dtype: object\n",
      "    \n",
      "    >>> s.str.rsplit(n=2)\n",
      "    0                     [this is a, regular, sentence]\n",
      "    1    [https://docs.python.org/3/tutorial/index.html]\n",
      "    2                                                NaN\n",
      "    dtype: object\n",
      "    \n",
      "    The `pat` parameter can be used to split by other characters.\n",
      "    \n",
      "    >>> s.str.split(pat=\"/\")\n",
      "    0                         [this is a regular sentence]\n",
      "    1    [https:, , docs.python.org, 3, tutorial, index...\n",
      "    2                                                  NaN\n",
      "    dtype: object\n",
      "    \n",
      "    When using ``expand=True``, the split elements will expand out into\n",
      "    separate columns. If NaN is present, it is propagated throughout\n",
      "    the columns during the split.\n",
      "    \n",
      "    >>> s.str.split(expand=True)\n",
      "                                                   0     1     2        3         4\n",
      "    0                                           this    is     a  regular  sentence\n",
      "    1  https://docs.python.org/3/tutorial/index.html  None  None     None      None\n",
      "    2                                            NaN   NaN   NaN      NaN       NaN\n",
      "    \n",
      "    For slightly more complex use cases like splitting the html document name\n",
      "    from a url, a combination of parameter settings can be used.\n",
      "    \n",
      "    >>> s.str.rsplit(\"/\", n=1, expand=True)\n",
      "                                        0           1\n",
      "    0          this is a regular sentence        None\n",
      "    1  https://docs.python.org/3/tutorial  index.html\n",
      "    2                                 NaN         NaN\n",
      "    \n",
      "    Remember to escape special characters when explicitly using regular expressions.\n",
      "    \n",
      "    >>> s = pd.Series([\"foo and bar plus baz\"])\n",
      "    >>> s.str.split(r\"and|plus\", expand=True)\n",
      "        0   1   2\n",
      "    0 foo bar baz\n",
      "    \n",
      "    Regular expressions can be used to handle urls or file names.\n",
      "    When `pat` is a string and ``regex=None`` (the default), the given `pat` is compiled\n",
      "    as a regex only if ``len(pat) != 1``.\n",
      "    \n",
      "    >>> s = pd.Series(['foojpgbar.jpg'])\n",
      "    >>> s.str.split(r\".\", expand=True)\n",
      "               0    1\n",
      "    0  foojpgbar  jpg\n",
      "    \n",
      "    >>> s.str.split(r\"\\.jpg\", expand=True)\n",
      "               0 1\n",
      "    0  foojpgbar\n",
      "    \n",
      "    When ``regex=True``, `pat` is interpreted as a regex\n",
      "    \n",
      "    >>> s.str.split(r\"\\.jpg\", regex=True, expand=True)\n",
      "               0 1\n",
      "    0  foojpgbar\n",
      "    \n",
      "    A compiled regex can be passed as `pat`\n",
      "    \n",
      "    >>> import re\n",
      "    >>> s.str.split(re.compile(r\"\\.jpg\"), expand=True)\n",
      "               0 1\n",
      "    0  foojpgbar\n",
      "    \n",
      "    When ``regex=False``, `pat` is interpreted as the string itself\n",
      "    \n",
      "    >>> s.str.split(r\"\\.jpg\", regex=False, expand=True)\n",
      "                   0\n",
      "    0  foojpgbar.jpg\n",
      "\n"
     ]
    }
   ],
   "source": [
    "help(df[\"52 Week Range\"].str.split)"
   ]
  },
  {
   "cell_type": "code",
   "execution_count": 179,
   "id": "71b3ca39",
   "metadata": {},
   "outputs": [
    {
     "data": {
      "text/html": [
       "<div>\n",
       "<style scoped>\n",
       "    .dataframe tbody tr th:only-of-type {\n",
       "        vertical-align: middle;\n",
       "    }\n",
       "\n",
       "    .dataframe tbody tr th {\n",
       "        vertical-align: top;\n",
       "    }\n",
       "\n",
       "    .dataframe thead th {\n",
       "        text-align: right;\n",
       "    }\n",
       "</style>\n",
       "<table border=\"1\" class=\"dataframe\">\n",
       "  <thead>\n",
       "    <tr style=\"text-align: right;\">\n",
       "      <th></th>\n",
       "      <th>Symbol</th>\n",
       "      <th>Company Name</th>\n",
       "      <th>Index Weight</th>\n",
       "      <th>Last</th>\n",
       "      <th>Change</th>\n",
       "      <th>%Change</th>\n",
       "      <th>Volume</th>\n",
       "      <th>52 Week Range</th>\n",
       "      <th>IW_1</th>\n",
       "      <th>IW_2</th>\n",
       "      <th>Volume_float</th>\n",
       "      <th>high</th>\n",
       "      <th>low</th>\n",
       "      <th>H</th>\n",
       "      <th>L</th>\n",
       "      <th>diff</th>\n",
       "    </tr>\n",
       "  </thead>\n",
       "  <tbody>\n",
       "    <tr>\n",
       "      <th>0</th>\n",
       "      <td>BRK.b</td>\n",
       "      <td>Berkshire Hathaway B</td>\n",
       "      <td>13.11%</td>\n",
       "      <td>345.35</td>\n",
       "      <td>1.98</td>\n",
       "      <td>+0.58%</td>\n",
       "      <td>2.9 M</td>\n",
       "      <td>259.85 - 344.07</td>\n",
       "      <td>13.11</td>\n",
       "      <td>13.11</td>\n",
       "      <td>2.90</td>\n",
       "      <td>344.07</td>\n",
       "      <td>259.85</td>\n",
       "      <td>259.85</td>\n",
       "      <td>344.07</td>\n",
       "      <td>84.22</td>\n",
       "    </tr>\n",
       "    <tr>\n",
       "      <th>1</th>\n",
       "      <td>JPM</td>\n",
       "      <td>JP Morgan Chase &amp; Co</td>\n",
       "      <td>9.23%</td>\n",
       "      <td>148.15</td>\n",
       "      <td>0.73</td>\n",
       "      <td>+0.50%</td>\n",
       "      <td>11.31 M</td>\n",
       "      <td>101.28 - 149.87</td>\n",
       "      <td>9.23</td>\n",
       "      <td>9.23</td>\n",
       "      <td>11.31</td>\n",
       "      <td>149.87</td>\n",
       "      <td>101.28</td>\n",
       "      <td>101.28</td>\n",
       "      <td>149.87</td>\n",
       "      <td>48.59</td>\n",
       "    </tr>\n",
       "    <tr>\n",
       "      <th>2</th>\n",
       "      <td>V</td>\n",
       "      <td>Visa Inc A</td>\n",
       "      <td>8.34%</td>\n",
       "      <td>242.21</td>\n",
       "      <td>1.66</td>\n",
       "      <td>+0.69%</td>\n",
       "      <td>6.12 M</td>\n",
       "      <td>174.60 - 250.58</td>\n",
       "      <td>8.34</td>\n",
       "      <td>8.34</td>\n",
       "      <td>6.12</td>\n",
       "      <td>250.58</td>\n",
       "      <td>174.60</td>\n",
       "      <td>174.60</td>\n",
       "      <td>250.58</td>\n",
       "      <td>75.98</td>\n",
       "    </tr>\n",
       "    <tr>\n",
       "      <th>3</th>\n",
       "      <td>MA</td>\n",
       "      <td>Mastercard Inc A</td>\n",
       "      <td>7.13%</td>\n",
       "      <td>400.69</td>\n",
       "      <td>2.89</td>\n",
       "      <td>+0.73%</td>\n",
       "      <td>2.27 M</td>\n",
       "      <td>276.87 - 398.46</td>\n",
       "      <td>7.13</td>\n",
       "      <td>7.13</td>\n",
       "      <td>2.27</td>\n",
       "      <td>398.46</td>\n",
       "      <td>276.87</td>\n",
       "      <td>276.87</td>\n",
       "      <td>398.46</td>\n",
       "      <td>121.59</td>\n",
       "    </tr>\n",
       "    <tr>\n",
       "      <th>4</th>\n",
       "      <td>BAC</td>\n",
       "      <td>Bank of America Corp</td>\n",
       "      <td>4.31%</td>\n",
       "      <td>29.36</td>\n",
       "      <td>0.34</td>\n",
       "      <td>+1.17%</td>\n",
       "      <td>41.78 M</td>\n",
       "      <td>26.32 - 38.60</td>\n",
       "      <td>4.31</td>\n",
       "      <td>4.31</td>\n",
       "      <td>41.78</td>\n",
       "      <td>38.60</td>\n",
       "      <td>26.32</td>\n",
       "      <td>26.32</td>\n",
       "      <td>38.60</td>\n",
       "      <td>12.28</td>\n",
       "    </tr>\n",
       "  </tbody>\n",
       "</table>\n",
       "</div>"
      ],
      "text/plain": [
       "  Symbol          Company Name Index Weight    Last  Change %Change   Volume  \\\n",
       "0  BRK.b  Berkshire Hathaway B       13.11%  345.35    1.98  +0.58%    2.9 M   \n",
       "1    JPM  JP Morgan Chase & Co        9.23%  148.15    0.73  +0.50%  11.31 M   \n",
       "2      V            Visa Inc A        8.34%  242.21    1.66  +0.69%   6.12 M   \n",
       "3     MA      Mastercard Inc A        7.13%  400.69    2.89  +0.73%   2.27 M   \n",
       "4    BAC  Bank of America Corp        4.31%   29.36    0.34  +1.17%  41.78 M   \n",
       "\n",
       "     52 Week Range   IW_1   IW_2  Volume_float    high     low       H  \\\n",
       "0  259.85 - 344.07  13.11  13.11          2.90  344.07  259.85  259.85   \n",
       "1  101.28 - 149.87   9.23   9.23         11.31  149.87  101.28  101.28   \n",
       "2  174.60 - 250.58   8.34   8.34          6.12  250.58  174.60  174.60   \n",
       "3  276.87 - 398.46   7.13   7.13          2.27  398.46  276.87  276.87   \n",
       "4    26.32 - 38.60   4.31   4.31         41.78   38.60   26.32   26.32   \n",
       "\n",
       "        L    diff  \n",
       "0  344.07   84.22  \n",
       "1  149.87   48.59  \n",
       "2  250.58   75.98  \n",
       "3  398.46  121.59  \n",
       "4   38.60   12.28  "
      ]
     },
     "execution_count": 179,
     "metadata": {},
     "output_type": "execute_result"
    }
   ],
   "source": [
    "df.head()"
   ]
  },
  {
   "cell_type": "code",
   "execution_count": 180,
   "id": "fd6ef24f",
   "metadata": {},
   "outputs": [],
   "source": [
    "df[\"diff\"] = abs(df[\"low\"] - df[\"high\"])"
   ]
  },
  {
   "cell_type": "code",
   "execution_count": 181,
   "id": "3e1b742a",
   "metadata": {},
   "outputs": [
    {
     "data": {
      "text/plain": [
       "dtype('float64')"
      ]
     },
     "execution_count": 181,
     "metadata": {},
     "output_type": "execute_result"
    }
   ],
   "source": [
    "df[\"H\"].dtype"
   ]
  },
  {
   "cell_type": "markdown",
   "id": "1c52aae1",
   "metadata": {},
   "source": [
    "### Concat and merge files and deal with missing values"
   ]
  },
  {
   "cell_type": "code",
   "execution_count": 184,
   "id": "ae6f0394",
   "metadata": {},
   "outputs": [],
   "source": [
    "import pandas as pd"
   ]
  },
  {
   "cell_type": "code",
   "execution_count": 185,
   "id": "794f7014",
   "metadata": {},
   "outputs": [],
   "source": [
    "food = pd.DataFrame()\n",
    "food[\"People\"] = [\"Mark\", \"Mary\", \"John\"]\n",
    "food[\"Food\"] = [\"Steak\", \"Salad\", \"Pizza\"]"
   ]
  },
  {
   "cell_type": "code",
   "execution_count": 191,
   "id": "7ab17b19",
   "metadata": {},
   "outputs": [],
   "source": [
    "drink = pd.DataFrame()\n",
    "drink[\"Friends\"] = [\"John\", \"Mary\"]\n",
    "drink[\"Drink\"] = [\"Wine\", \"Vodka\"]"
   ]
  },
  {
   "cell_type": "code",
   "execution_count": 187,
   "id": "dcb86017",
   "metadata": {},
   "outputs": [],
   "source": [
    "## Concat and Merge"
   ]
  },
  {
   "cell_type": "code",
   "execution_count": 188,
   "id": "a2e1c654",
   "metadata": {},
   "outputs": [
    {
     "data": {
      "text/html": [
       "<div>\n",
       "<style scoped>\n",
       "    .dataframe tbody tr th:only-of-type {\n",
       "        vertical-align: middle;\n",
       "    }\n",
       "\n",
       "    .dataframe tbody tr th {\n",
       "        vertical-align: top;\n",
       "    }\n",
       "\n",
       "    .dataframe thead th {\n",
       "        text-align: right;\n",
       "    }\n",
       "</style>\n",
       "<table border=\"1\" class=\"dataframe\">\n",
       "  <thead>\n",
       "    <tr style=\"text-align: right;\">\n",
       "      <th></th>\n",
       "      <th>People</th>\n",
       "      <th>Food</th>\n",
       "    </tr>\n",
       "  </thead>\n",
       "  <tbody>\n",
       "    <tr>\n",
       "      <th>0</th>\n",
       "      <td>Mark</td>\n",
       "      <td>Steak</td>\n",
       "    </tr>\n",
       "    <tr>\n",
       "      <th>1</th>\n",
       "      <td>Mary</td>\n",
       "      <td>Salad</td>\n",
       "    </tr>\n",
       "    <tr>\n",
       "      <th>2</th>\n",
       "      <td>John</td>\n",
       "      <td>Pizza</td>\n",
       "    </tr>\n",
       "  </tbody>\n",
       "</table>\n",
       "</div>"
      ],
      "text/plain": [
       "  People   Food\n",
       "0   Mark  Steak\n",
       "1   Mary  Salad\n",
       "2   John  Pizza"
      ]
     },
     "execution_count": 188,
     "metadata": {},
     "output_type": "execute_result"
    }
   ],
   "source": [
    "food"
   ]
  },
  {
   "cell_type": "code",
   "execution_count": 197,
   "id": "09647683",
   "metadata": {},
   "outputs": [
    {
     "data": {
      "text/html": [
       "<div>\n",
       "<style scoped>\n",
       "    .dataframe tbody tr th:only-of-type {\n",
       "        vertical-align: middle;\n",
       "    }\n",
       "\n",
       "    .dataframe tbody tr th {\n",
       "        vertical-align: top;\n",
       "    }\n",
       "\n",
       "    .dataframe thead th {\n",
       "        text-align: right;\n",
       "    }\n",
       "</style>\n",
       "<table border=\"1\" class=\"dataframe\">\n",
       "  <thead>\n",
       "    <tr style=\"text-align: right;\">\n",
       "      <th></th>\n",
       "      <th>index</th>\n",
       "      <th>People</th>\n",
       "      <th>Food</th>\n",
       "      <th>Friends</th>\n",
       "      <th>Drink</th>\n",
       "    </tr>\n",
       "  </thead>\n",
       "  <tbody>\n",
       "    <tr>\n",
       "      <th>0</th>\n",
       "      <td>0</td>\n",
       "      <td>Mark</td>\n",
       "      <td>Steak</td>\n",
       "      <td>NaN</td>\n",
       "      <td>NaN</td>\n",
       "    </tr>\n",
       "    <tr>\n",
       "      <th>1</th>\n",
       "      <td>1</td>\n",
       "      <td>Mary</td>\n",
       "      <td>Salad</td>\n",
       "      <td>NaN</td>\n",
       "      <td>NaN</td>\n",
       "    </tr>\n",
       "    <tr>\n",
       "      <th>2</th>\n",
       "      <td>2</td>\n",
       "      <td>John</td>\n",
       "      <td>Pizza</td>\n",
       "      <td>NaN</td>\n",
       "      <td>NaN</td>\n",
       "    </tr>\n",
       "    <tr>\n",
       "      <th>3</th>\n",
       "      <td>0</td>\n",
       "      <td>NaN</td>\n",
       "      <td>NaN</td>\n",
       "      <td>John</td>\n",
       "      <td>Wine</td>\n",
       "    </tr>\n",
       "    <tr>\n",
       "      <th>4</th>\n",
       "      <td>1</td>\n",
       "      <td>NaN</td>\n",
       "      <td>NaN</td>\n",
       "      <td>Mary</td>\n",
       "      <td>Vodka</td>\n",
       "    </tr>\n",
       "  </tbody>\n",
       "</table>\n",
       "</div>"
      ],
      "text/plain": [
       "   index People   Food Friends  Drink\n",
       "0      0   Mark  Steak     NaN    NaN\n",
       "1      1   Mary  Salad     NaN    NaN\n",
       "2      2   John  Pizza     NaN    NaN\n",
       "3      0    NaN    NaN    John   Wine\n",
       "4      1    NaN    NaN    Mary  Vodka"
      ]
     },
     "execution_count": 197,
     "metadata": {},
     "output_type": "execute_result"
    }
   ],
   "source": [
    "pd.concat([food, drink], ignore_index=True)\n",
    "v = pd.concat([food, drink], axis=0)\n",
    "v.reset_index()\n",
    "# avoid overlapping values in the index"
   ]
  },
  {
   "cell_type": "code",
   "execution_count": 199,
   "id": "d5a23bcc",
   "metadata": {},
   "outputs": [
    {
     "data": {
      "text/html": [
       "<div>\n",
       "<style scoped>\n",
       "    .dataframe tbody tr th:only-of-type {\n",
       "        vertical-align: middle;\n",
       "    }\n",
       "\n",
       "    .dataframe tbody tr th {\n",
       "        vertical-align: top;\n",
       "    }\n",
       "\n",
       "    .dataframe thead th {\n",
       "        text-align: right;\n",
       "    }\n",
       "</style>\n",
       "<table border=\"1\" class=\"dataframe\">\n",
       "  <thead>\n",
       "    <tr style=\"text-align: right;\">\n",
       "      <th></th>\n",
       "      <th>People</th>\n",
       "      <th>Food</th>\n",
       "      <th>Friends</th>\n",
       "      <th>Drink</th>\n",
       "    </tr>\n",
       "  </thead>\n",
       "  <tbody>\n",
       "    <tr>\n",
       "      <th>0</th>\n",
       "      <td>Mark</td>\n",
       "      <td>Steak</td>\n",
       "      <td>John</td>\n",
       "      <td>Wine</td>\n",
       "    </tr>\n",
       "    <tr>\n",
       "      <th>1</th>\n",
       "      <td>Mary</td>\n",
       "      <td>Salad</td>\n",
       "      <td>Mary</td>\n",
       "      <td>Vodka</td>\n",
       "    </tr>\n",
       "    <tr>\n",
       "      <th>2</th>\n",
       "      <td>John</td>\n",
       "      <td>Pizza</td>\n",
       "      <td>NaN</td>\n",
       "      <td>NaN</td>\n",
       "    </tr>\n",
       "  </tbody>\n",
       "</table>\n",
       "</div>"
      ],
      "text/plain": [
       "  People   Food Friends  Drink\n",
       "0   Mark  Steak    John   Wine\n",
       "1   Mary  Salad    Mary  Vodka\n",
       "2   John  Pizza     NaN    NaN"
      ]
     },
     "execution_count": 199,
     "metadata": {},
     "output_type": "execute_result"
    }
   ],
   "source": [
    "pd.concat([food, drink], axis=1)\n",
    "\n",
    "## NaN stands for \"Not a Number\""
   ]
  },
  {
   "cell_type": "code",
   "execution_count": 202,
   "id": "23599378",
   "metadata": {},
   "outputs": [
    {
     "name": "stdout",
     "output_type": "stream",
     "text": [
      "Help on function merge in module pandas.core.reshape.merge:\n",
      "\n",
      "merge(left: 'DataFrame | Series', right: 'DataFrame | Series', how: 'str' = 'inner', on: 'IndexLabel | None' = None, left_on: 'IndexLabel | None' = None, right_on: 'IndexLabel | None' = None, left_index: 'bool' = False, right_index: 'bool' = False, sort: 'bool' = False, suffixes: 'Suffixes' = ('_x', '_y'), copy: 'bool' = True, indicator: 'bool' = False, validate: 'str | None' = None) -> 'DataFrame'\n",
      "    Merge DataFrame or named Series objects with a database-style join.\n",
      "    \n",
      "    A named Series object is treated as a DataFrame with a single named column.\n",
      "    \n",
      "    The join is done on columns or indexes. If joining columns on\n",
      "    columns, the DataFrame indexes *will be ignored*. Otherwise if joining indexes\n",
      "    on indexes or indexes on a column or columns, the index will be passed on.\n",
      "    When performing a cross merge, no column specifications to merge on are\n",
      "    allowed.\n",
      "    \n",
      "    .. warning::\n",
      "    \n",
      "        If both key columns contain rows where the key is a null value, those\n",
      "        rows will be matched against each other. This is different from usual SQL\n",
      "        join behaviour and can lead to unexpected results.\n",
      "    \n",
      "    Parameters\n",
      "    ----------\n",
      "    left : DataFrame\n",
      "    right : DataFrame or named Series\n",
      "        Object to merge with.\n",
      "    how : {'left', 'right', 'outer', 'inner', 'cross'}, default 'inner'\n",
      "        Type of merge to be performed.\n",
      "    \n",
      "        * left: use only keys from left frame, similar to a SQL left outer join;\n",
      "          preserve key order.\n",
      "        * right: use only keys from right frame, similar to a SQL right outer join;\n",
      "          preserve key order.\n",
      "        * outer: use union of keys from both frames, similar to a SQL full outer\n",
      "          join; sort keys lexicographically.\n",
      "        * inner: use intersection of keys from both frames, similar to a SQL inner\n",
      "          join; preserve the order of the left keys.\n",
      "        * cross: creates the cartesian product from both frames, preserves the order\n",
      "          of the left keys.\n",
      "    \n",
      "          .. versionadded:: 1.2.0\n",
      "    \n",
      "    on : label or list\n",
      "        Column or index level names to join on. These must be found in both\n",
      "        DataFrames. If `on` is None and not merging on indexes then this defaults\n",
      "        to the intersection of the columns in both DataFrames.\n",
      "    left_on : label or list, or array-like\n",
      "        Column or index level names to join on in the left DataFrame. Can also\n",
      "        be an array or list of arrays of the length of the left DataFrame.\n",
      "        These arrays are treated as if they are columns.\n",
      "    right_on : label or list, or array-like\n",
      "        Column or index level names to join on in the right DataFrame. Can also\n",
      "        be an array or list of arrays of the length of the right DataFrame.\n",
      "        These arrays are treated as if they are columns.\n",
      "    left_index : bool, default False\n",
      "        Use the index from the left DataFrame as the join key(s). If it is a\n",
      "        MultiIndex, the number of keys in the other DataFrame (either the index\n",
      "        or a number of columns) must match the number of levels.\n",
      "    right_index : bool, default False\n",
      "        Use the index from the right DataFrame as the join key. Same caveats as\n",
      "        left_index.\n",
      "    sort : bool, default False\n",
      "        Sort the join keys lexicographically in the result DataFrame. If False,\n",
      "        the order of the join keys depends on the join type (how keyword).\n",
      "    suffixes : list-like, default is (\"_x\", \"_y\")\n",
      "        A length-2 sequence where each element is optionally a string\n",
      "        indicating the suffix to add to overlapping column names in\n",
      "        `left` and `right` respectively. Pass a value of `None` instead\n",
      "        of a string to indicate that the column name from `left` or\n",
      "        `right` should be left as-is, with no suffix. At least one of the\n",
      "        values must not be None.\n",
      "    copy : bool, default True\n",
      "        If False, avoid copy if possible.\n",
      "    indicator : bool or str, default False\n",
      "        If True, adds a column to the output DataFrame called \"_merge\" with\n",
      "        information on the source of each row. The column can be given a different\n",
      "        name by providing a string argument. The column will have a Categorical\n",
      "        type with the value of \"left_only\" for observations whose merge key only\n",
      "        appears in the left DataFrame, \"right_only\" for observations\n",
      "        whose merge key only appears in the right DataFrame, and \"both\"\n",
      "        if the observation's merge key is found in both DataFrames.\n",
      "    \n",
      "    validate : str, optional\n",
      "        If specified, checks if merge is of specified type.\n",
      "    \n",
      "        * \"one_to_one\" or \"1:1\": check if merge keys are unique in both\n",
      "          left and right datasets.\n",
      "        * \"one_to_many\" or \"1:m\": check if merge keys are unique in left\n",
      "          dataset.\n",
      "        * \"many_to_one\" or \"m:1\": check if merge keys are unique in right\n",
      "          dataset.\n",
      "        * \"many_to_many\" or \"m:m\": allowed, but does not result in checks.\n",
      "    \n",
      "    Returns\n",
      "    -------\n",
      "    DataFrame\n",
      "        A DataFrame of the two merged objects.\n",
      "    \n",
      "    See Also\n",
      "    --------\n",
      "    merge_ordered : Merge with optional filling/interpolation.\n",
      "    merge_asof : Merge on nearest keys.\n",
      "    DataFrame.join : Similar method using indices.\n",
      "    \n",
      "    Notes\n",
      "    -----\n",
      "    Support for specifying index levels as the `on`, `left_on`, and\n",
      "    `right_on` parameters was added in version 0.23.0\n",
      "    Support for merging named Series objects was added in version 0.24.0\n",
      "    \n",
      "    Examples\n",
      "    --------\n",
      "    >>> df1 = pd.DataFrame({'lkey': ['foo', 'bar', 'baz', 'foo'],\n",
      "    ...                     'value': [1, 2, 3, 5]})\n",
      "    >>> df2 = pd.DataFrame({'rkey': ['foo', 'bar', 'baz', 'foo'],\n",
      "    ...                     'value': [5, 6, 7, 8]})\n",
      "    >>> df1\n",
      "        lkey value\n",
      "    0   foo      1\n",
      "    1   bar      2\n",
      "    2   baz      3\n",
      "    3   foo      5\n",
      "    >>> df2\n",
      "        rkey value\n",
      "    0   foo      5\n",
      "    1   bar      6\n",
      "    2   baz      7\n",
      "    3   foo      8\n",
      "    \n",
      "    Merge df1 and df2 on the lkey and rkey columns. The value columns have\n",
      "    the default suffixes, _x and _y, appended.\n",
      "    \n",
      "    >>> df1.merge(df2, left_on='lkey', right_on='rkey')\n",
      "      lkey  value_x rkey  value_y\n",
      "    0  foo        1  foo        5\n",
      "    1  foo        1  foo        8\n",
      "    2  foo        5  foo        5\n",
      "    3  foo        5  foo        8\n",
      "    4  bar        2  bar        6\n",
      "    5  baz        3  baz        7\n",
      "    \n",
      "    Merge DataFrames df1 and df2 with specified left and right suffixes\n",
      "    appended to any overlapping columns.\n",
      "    \n",
      "    >>> df1.merge(df2, left_on='lkey', right_on='rkey',\n",
      "    ...           suffixes=('_left', '_right'))\n",
      "      lkey  value_left rkey  value_right\n",
      "    0  foo           1  foo            5\n",
      "    1  foo           1  foo            8\n",
      "    2  foo           5  foo            5\n",
      "    3  foo           5  foo            8\n",
      "    4  bar           2  bar            6\n",
      "    5  baz           3  baz            7\n",
      "    \n",
      "    Merge DataFrames df1 and df2, but raise an exception if the DataFrames have\n",
      "    any overlapping columns.\n",
      "    \n",
      "    >>> df1.merge(df2, left_on='lkey', right_on='rkey', suffixes=(False, False))\n",
      "    Traceback (most recent call last):\n",
      "    ...\n",
      "    ValueError: columns overlap but no suffix specified:\n",
      "        Index(['value'], dtype='object')\n",
      "    \n",
      "    >>> df1 = pd.DataFrame({'a': ['foo', 'bar'], 'b': [1, 2]})\n",
      "    >>> df2 = pd.DataFrame({'a': ['foo', 'baz'], 'c': [3, 4]})\n",
      "    >>> df1\n",
      "          a  b\n",
      "    0   foo  1\n",
      "    1   bar  2\n",
      "    >>> df2\n",
      "          a  c\n",
      "    0   foo  3\n",
      "    1   baz  4\n",
      "    \n",
      "    >>> df1.merge(df2, how='inner', on='a')\n",
      "          a  b  c\n",
      "    0   foo  1  3\n",
      "    \n",
      "    >>> df1.merge(df2, how='left', on='a')\n",
      "          a  b  c\n",
      "    0   foo  1  3.0\n",
      "    1   bar  2  NaN\n",
      "    \n",
      "    >>> df1 = pd.DataFrame({'left': ['foo', 'bar']})\n",
      "    >>> df2 = pd.DataFrame({'right': [7, 8]})\n",
      "    >>> df1\n",
      "        left\n",
      "    0   foo\n",
      "    1   bar\n",
      "    >>> df2\n",
      "        right\n",
      "    0   7\n",
      "    1   8\n",
      "    \n",
      "    >>> df1.merge(df2, how='cross')\n",
      "       left  right\n",
      "    0   foo      7\n",
      "    1   foo      8\n",
      "    2   bar      7\n",
      "    3   bar      8\n",
      "\n"
     ]
    }
   ],
   "source": [
    "help(pd.merge)"
   ]
  },
  {
   "cell_type": "code",
   "execution_count": 205,
   "id": "fff5b5a5",
   "metadata": {},
   "outputs": [],
   "source": [
    "m = pd.merge(left=food, right=drink, left_on = \"People\", right_on = \"Friends\", how=\"outer\")"
   ]
  },
  {
   "cell_type": "code",
   "execution_count": 206,
   "id": "f352b3d6",
   "metadata": {},
   "outputs": [
    {
     "data": {
      "text/plain": [
       "People     False\n",
       "Food       False\n",
       "Friends     True\n",
       "Drink       True\n",
       "dtype: bool"
      ]
     },
     "execution_count": 206,
     "metadata": {},
     "output_type": "execute_result"
    }
   ],
   "source": [
    "m.isna().any()"
   ]
  },
  {
   "cell_type": "code",
   "execution_count": 208,
   "id": "2c347e00",
   "metadata": {},
   "outputs": [
    {
     "data": {
      "text/plain": [
       "People     0\n",
       "Food       0\n",
       "Friends    1\n",
       "Drink      1\n",
       "dtype: int64"
      ]
     },
     "execution_count": 208,
     "metadata": {},
     "output_type": "execute_result"
    }
   ],
   "source": [
    "m.isna().sum()"
   ]
  },
  {
   "cell_type": "code",
   "execution_count": 209,
   "id": "5f28a150",
   "metadata": {},
   "outputs": [
    {
     "data": {
      "text/plain": [
       "People     False\n",
       "Food       False\n",
       "Friends    False\n",
       "Drink      False\n",
       "dtype: bool"
      ]
     },
     "execution_count": 209,
     "metadata": {},
     "output_type": "execute_result"
    }
   ],
   "source": [
    "m.isna().all()"
   ]
  },
  {
   "cell_type": "code",
   "execution_count": 210,
   "id": "41f6f0c8",
   "metadata": {},
   "outputs": [
    {
     "data": {
      "text/html": [
       "<div>\n",
       "<style scoped>\n",
       "    .dataframe tbody tr th:only-of-type {\n",
       "        vertical-align: middle;\n",
       "    }\n",
       "\n",
       "    .dataframe tbody tr th {\n",
       "        vertical-align: top;\n",
       "    }\n",
       "\n",
       "    .dataframe thead th {\n",
       "        text-align: right;\n",
       "    }\n",
       "</style>\n",
       "<table border=\"1\" class=\"dataframe\">\n",
       "  <thead>\n",
       "    <tr style=\"text-align: right;\">\n",
       "      <th></th>\n",
       "      <th>People</th>\n",
       "      <th>Food</th>\n",
       "      <th>Friends</th>\n",
       "      <th>Drink</th>\n",
       "    </tr>\n",
       "  </thead>\n",
       "  <tbody>\n",
       "    <tr>\n",
       "      <th>1</th>\n",
       "      <td>Mary</td>\n",
       "      <td>Salad</td>\n",
       "      <td>Mary</td>\n",
       "      <td>Vodka</td>\n",
       "    </tr>\n",
       "    <tr>\n",
       "      <th>2</th>\n",
       "      <td>John</td>\n",
       "      <td>Pizza</td>\n",
       "      <td>John</td>\n",
       "      <td>Wine</td>\n",
       "    </tr>\n",
       "  </tbody>\n",
       "</table>\n",
       "</div>"
      ],
      "text/plain": [
       "  People   Food Friends  Drink\n",
       "1   Mary  Salad    Mary  Vodka\n",
       "2   John  Pizza    John   Wine"
      ]
     },
     "execution_count": 210,
     "metadata": {},
     "output_type": "execute_result"
    }
   ],
   "source": [
    "m.dropna()"
   ]
  },
  {
   "cell_type": "code",
   "execution_count": 213,
   "id": "799d5b6e",
   "metadata": {},
   "outputs": [],
   "source": [
    "m['Drink'] = m['Drink'].fillna(\"Water\")"
   ]
  },
  {
   "cell_type": "code",
   "execution_count": 214,
   "id": "54f680cd",
   "metadata": {},
   "outputs": [
    {
     "data": {
      "text/html": [
       "<div>\n",
       "<style scoped>\n",
       "    .dataframe tbody tr th:only-of-type {\n",
       "        vertical-align: middle;\n",
       "    }\n",
       "\n",
       "    .dataframe tbody tr th {\n",
       "        vertical-align: top;\n",
       "    }\n",
       "\n",
       "    .dataframe thead th {\n",
       "        text-align: right;\n",
       "    }\n",
       "</style>\n",
       "<table border=\"1\" class=\"dataframe\">\n",
       "  <thead>\n",
       "    <tr style=\"text-align: right;\">\n",
       "      <th></th>\n",
       "      <th>People</th>\n",
       "      <th>Food</th>\n",
       "      <th>Friends</th>\n",
       "      <th>Drink</th>\n",
       "    </tr>\n",
       "  </thead>\n",
       "  <tbody>\n",
       "    <tr>\n",
       "      <th>0</th>\n",
       "      <td>Mark</td>\n",
       "      <td>Steak</td>\n",
       "      <td>NaN</td>\n",
       "      <td>Water</td>\n",
       "    </tr>\n",
       "    <tr>\n",
       "      <th>1</th>\n",
       "      <td>Mary</td>\n",
       "      <td>Salad</td>\n",
       "      <td>Mary</td>\n",
       "      <td>Vodka</td>\n",
       "    </tr>\n",
       "    <tr>\n",
       "      <th>2</th>\n",
       "      <td>John</td>\n",
       "      <td>Pizza</td>\n",
       "      <td>John</td>\n",
       "      <td>Wine</td>\n",
       "    </tr>\n",
       "  </tbody>\n",
       "</table>\n",
       "</div>"
      ],
      "text/plain": [
       "  People   Food Friends  Drink\n",
       "0   Mark  Steak     NaN  Water\n",
       "1   Mary  Salad    Mary  Vodka\n",
       "2   John  Pizza    John   Wine"
      ]
     },
     "execution_count": 214,
     "metadata": {},
     "output_type": "execute_result"
    }
   ],
   "source": [
    "m"
   ]
  },
  {
   "cell_type": "code",
   "execution_count": 221,
   "id": "ba9ebe59",
   "metadata": {},
   "outputs": [
    {
     "data": {
      "text/plain": [
       "['__add__',\n",
       " '__class__',\n",
       " '__contains__',\n",
       " '__delattr__',\n",
       " '__dir__',\n",
       " '__doc__',\n",
       " '__eq__',\n",
       " '__format__',\n",
       " '__ge__',\n",
       " '__getattribute__',\n",
       " '__getitem__',\n",
       " '__getnewargs__',\n",
       " '__gt__',\n",
       " '__hash__',\n",
       " '__init__',\n",
       " '__init_subclass__',\n",
       " '__iter__',\n",
       " '__le__',\n",
       " '__len__',\n",
       " '__lt__',\n",
       " '__mod__',\n",
       " '__mul__',\n",
       " '__ne__',\n",
       " '__new__',\n",
       " '__reduce__',\n",
       " '__reduce_ex__',\n",
       " '__repr__',\n",
       " '__rmod__',\n",
       " '__rmul__',\n",
       " '__setattr__',\n",
       " '__sizeof__',\n",
       " '__str__',\n",
       " '__subclasshook__',\n",
       " 'capitalize',\n",
       " 'casefold',\n",
       " 'center',\n",
       " 'count',\n",
       " 'encode',\n",
       " 'endswith',\n",
       " 'expandtabs',\n",
       " 'find',\n",
       " 'format',\n",
       " 'format_map',\n",
       " 'index',\n",
       " 'isalnum',\n",
       " 'isalpha',\n",
       " 'isascii',\n",
       " 'isdecimal',\n",
       " 'isdigit',\n",
       " 'isidentifier',\n",
       " 'islower',\n",
       " 'isnumeric',\n",
       " 'isprintable',\n",
       " 'isspace',\n",
       " 'istitle',\n",
       " 'isupper',\n",
       " 'join',\n",
       " 'ljust',\n",
       " 'lower',\n",
       " 'lstrip',\n",
       " 'maketrans',\n",
       " 'partition',\n",
       " 'removeprefix',\n",
       " 'removesuffix',\n",
       " 'replace',\n",
       " 'rfind',\n",
       " 'rindex',\n",
       " 'rjust',\n",
       " 'rpartition',\n",
       " 'rsplit',\n",
       " 'rstrip',\n",
       " 'split',\n",
       " 'splitlines',\n",
       " 'startswith',\n",
       " 'strip',\n",
       " 'swapcase',\n",
       " 'title',\n",
       " 'translate',\n",
       " 'upper',\n",
       " 'zfill']"
      ]
     },
     "execution_count": 221,
     "metadata": {},
     "output_type": "execute_result"
    }
   ],
   "source": [
    "##\n",
    "\n",
    "## For pandas, Is there any easy way to memorize when to use object.function() or pd.function(object)? \n",
    "## Same question for numpy.\n",
    "\n",
    "## function\n",
    "word = \"apple\"\n",
    "len(word)\n",
    "\n",
    "## method\n",
    "dir(word) ## check if a method exist?\n",
    "\n",
    "## The dir() function returns all properties and methods of the specified object"
   ]
  },
  {
   "cell_type": "code",
   "execution_count": 217,
   "id": "a5063602",
   "metadata": {},
   "outputs": [
    {
     "data": {
      "text/plain": [
       "5"
      ]
     },
     "execution_count": 217,
     "metadata": {},
     "output_type": "execute_result"
    }
   ],
   "source": [
    "word.__len__()"
   ]
  },
  {
   "cell_type": "code",
   "execution_count": 218,
   "id": "a9530e5d",
   "metadata": {
    "scrolled": true
   },
   "outputs": [
    {
     "name": "stdout",
     "output_type": "stream",
     "text": [
      "['__add__', '__class__', '__contains__', '__delattr__', '__dir__', '__doc__', '__eq__', '__format__', '__ge__', '__getattribute__', '__getitem__', '__getnewargs__', '__gt__', '__hash__', '__init__', '__init_subclass__', '__iter__', '__le__', '__len__', '__lt__', '__mod__', '__mul__', '__ne__', '__new__', '__reduce__', '__reduce_ex__', '__repr__', '__rmod__', '__rmul__', '__setattr__', '__sizeof__', '__str__', '__subclasshook__', 'capitalize', 'casefold', 'center', 'count', 'encode', 'endswith', 'expandtabs', 'find', 'format', 'format_map', 'index', 'isalnum', 'isalpha', 'isascii', 'isdecimal', 'isdigit', 'isidentifier', 'islower', 'isnumeric', 'isprintable', 'isspace', 'istitle', 'isupper', 'join', 'ljust', 'lower', 'lstrip', 'maketrans', 'partition', 'removeprefix', 'removesuffix', 'replace', 'rfind', 'rindex', 'rjust', 'rpartition', 'rsplit', 'rstrip', 'split', 'splitlines', 'startswith', 'strip', 'swapcase', 'title', 'translate', 'upper', 'zfill']\n"
     ]
    }
   ],
   "source": [
    "print(dir(word))"
   ]
  },
  {
   "cell_type": "code",
   "execution_count": 220,
   "id": "c17051b9",
   "metadata": {},
   "outputs": [],
   "source": [
    "import numpy as np"
   ]
  }
 ],
 "metadata": {
  "kernelspec": {
   "display_name": "Python 3 (ipykernel)",
   "language": "python",
   "name": "python3"
  },
  "language_info": {
   "codemirror_mode": {
    "name": "ipython",
    "version": 3
   },
   "file_extension": ".py",
   "mimetype": "text/x-python",
   "name": "python",
   "nbconvert_exporter": "python",
   "pygments_lexer": "ipython3",
   "version": "3.9.12"
  }
 },
 "nbformat": 4,
 "nbformat_minor": 5
}
